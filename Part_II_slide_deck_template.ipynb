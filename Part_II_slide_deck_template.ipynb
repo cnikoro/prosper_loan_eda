{
 "cells": [
  {
   "cell_type": "markdown",
   "metadata": {
    "slideshow": {
     "slide_type": "slide"
    }
   },
   "source": [
    "# Part II - Factors that affect the outcome of a loan\n",
    "## by Charles Nikoro"
   ]
  },
  {
   "cell_type": "markdown",
   "metadata": {
    "slideshow": {
     "slide_type": "slide"
    }
   },
   "source": [
    ">**Before you start**: You must have the README.md file ready that include a summary of main findings that reflects on the steps taken during the data exploration (Part I notebook). The README.md file should also describes the key insights that will be conveyed by the explanatory slide deck (Part II  outcome)\n",
    "\n",
    "\n",
    "\n",
    "## Investigation Overview\n",
    "\n",
    "In this investigation, I wanted to explore the factors that could affect a loan's outcome. The main focus were on the principal outstanding, current number of days the borrower was delinquent, the employment status, and the term of the loan.\n",
    "\n",
    "\n",
    "> Describe the overall goals of your presentation here. Add a summary of key insights at the start of the notebook, just as you added in the README.md. This will help your notebook to stay aligned to the key insights you want to include in your slide deck.\n",
    "\n",
    "> **Rubric Tip**: The key insights in the slideshow must match those documented in the README.md summary. \n",
    "\n",
    "\n",
    "## Dataset Overview\n",
    "\n",
    "The dataset comprises of approximately 114,000 records of loan applications from November 11, 2005 to March 3, 2014. Each record contains 81 features or variables.\n",
    "\n",
    "I only considered loans that were either completed, defaulted, or charged-off. Apart from the main variable of interest, `LoanStatus`, others explored in this investigation are: `LoanOriginalAmount`, `LP_CustomerPrincipalPayments`,`BorrowerAPR`, `LP_InterestandFees`, `Term`, `LoanCurrentDaysDelinquent`, `EmploymentStatus`, `ListingCategory (numeric)`, and `TotalProsperLoans`.\n",
    "\n",
    "`EmploymentStatus` variable comprises of \"Not employed\", \"Full-time\", \"Part-time\", \"Retired\", \"Employed\", \"Self-employed\", \"Other\", and \"Not available\" categories. For this investigation, I only considered records whose employment status are known. Therefore, records with an \"Other\" or \"Not available\" status where not considered. Furthermore, since it is safe to assume that borrowers with a \"Full-time\" and \"Part-time\" status have an employer, I merged them with those whose status is \"Employed\". Consequently, the categories of employment status considered are \"Not employed\", \"Self-employed\", \"Employed\", and \"Retired\".\n",
    "\n",
    "After performing the above wrangling process, I was left with 46,688 records which was explored for this investigation.\n",
    "\n",
    "> Provide a brief overview of the dataset to be presented here."
   ]
  },
  {
   "cell_type": "code",
   "execution_count": 9,
   "metadata": {
    "slideshow": {
     "slide_type": "skip"
    }
   },
   "outputs": [],
   "source": [
    "# import all packages and set plots to be embedded inline\n",
    "import numpy as np\n",
    "import pandas as pd\n",
    "import matplotlib.pyplot as plt\n",
    "from matplotlib.ticker import ScalarFormatter\n",
    "import seaborn as sns\n",
    "import math\n",
    "\n",
    "%matplotlib inline\n",
    "\n",
    "# suppress warnings from final output\n",
    "import warnings\n",
    "warnings.simplefilter(\"ignore\")"
   ]
  },
  {
   "cell_type": "code",
   "execution_count": 2,
   "metadata": {
    "slideshow": {
     "slide_type": "skip"
    }
   },
   "outputs": [],
   "source": [
    "# load in the dataset into a pandas dataframe\n",
    "loans = pd.read_csv('../dataset/prosperLoanData.csv')"
   ]
  },
  {
   "cell_type": "code",
   "execution_count": 3,
   "metadata": {},
   "outputs": [],
   "source": [
    "# merge records with Full-time and Part-time employment status with those with an Employed status\n",
    "values_to_replace = ['Full-time', 'Part-time']\n",
    "for value in values_to_replace:\n",
    "    loans.EmploymentStatus.replace(value, \"Employed\", inplace=True)\n",
    "\n",
    "# replacing missing Employment status records with \"Not available\"\n",
    "loans.EmploymentStatus.fillna(\"Not available\", inplace=True)\n",
    "\n",
    "# exclude records with Other and Not available status\n",
    "exclusion_list = ['Other', 'Not available']\n",
    "loans = loans.query('EmploymentStatus not in @exclusion_list')"
   ]
  },
  {
   "cell_type": "code",
   "execution_count": 4,
   "metadata": {},
   "outputs": [],
   "source": [
    "# We will only consider Completed, Defaulted, and Charged-off loans\n",
    "\n",
    "excluded_list = ['Current', 'Cancelled', 'FinalPaymentInProgress',\n",
    " 'Past Due (1-15 days)', 'Past Due (16-30 days)', 'Past Due (31-60 days)', \n",
    "'Past Due (61-90 days)', 'Past Due (91-120 days)', 'Past Due (>120 days)', ]\n",
    "\n",
    "loan_sub_data = loans.query('LoanStatus not in @excluded_list').copy()"
   ]
  },
  {
   "cell_type": "code",
   "execution_count": 5,
   "metadata": {},
   "outputs": [
    {
     "name": "stdout",
     "output_type": "stream",
     "text": [
      "(46688, 81)\n"
     ]
    }
   ],
   "source": [
    "def create_category_type(categories, ordered=False):\n",
    "    \"\"\"\n",
    "        Create category type from the list of categories\n",
    "\n",
    "        Args:\n",
    "           list: the list of categories\n",
    "           bool: whether the category type should be ordered. This is False by default\n",
    "\n",
    "        Returns:\n",
    "           a pandas CategoricalDtype object.\n",
    "    \"\"\"\n",
    "    return pd.api.types.CategoricalDtype(categories=categories, ordered=ordered)\n",
    "\n",
    "# make ListingCategory (numeric), and Term of categorical types\n",
    "loan_sub_data['ListingCategory (numeric)'] = loan_sub_data['ListingCategory (numeric)'].astype(\n",
    "    create_category_type(range(21))\n",
    ")\n",
    "\n",
    "loan_sub_data.Term = loan_sub_data.Term.astype(create_category_type([12,36,60], ordered=True))\n",
    "\n",
    "# EmploymentStatus should also be categorical\n",
    "categories = ['Not employed', 'Self-employed', 'Employed', 'Retired']\n",
    "loan_sub_data.EmploymentStatus = loan_sub_data.EmploymentStatus.astype(create_category_type(categories=categories))\n",
    "\n",
    "# the loan status should be categorical. We will also make it ordinal\n",
    "categories = ['Completed', 'Defaulted', 'Chargedoff']\n",
    "\n",
    "loan_sub_data.LoanStatus = loan_sub_data.LoanStatus.astype(create_category_type(categories=categories, ordered=True))\n",
    "\n",
    "# The shape of the subset of data we will be analyzing\n",
    "print(loan_sub_data.shape)"
   ]
  },
  {
   "cell_type": "code",
   "execution_count": 6,
   "metadata": {},
   "outputs": [],
   "source": [
    "# create the LoanPrincipalOutstanding variable and correct negative principal outstandings\n",
    "loan_sub_data['LoanPrincipalOutstanding'] = loan_sub_data.LoanOriginalAmount - loan_sub_data.LP_CustomerPrincipalPayments\n",
    "\n",
    "# add excess principal payments to LP_InterestandFees\n",
    "negative_principal_outstanding = loan_sub_data[loan_sub_data.LoanPrincipalOutstanding<0]\n",
    "additional_interest_and_fees = negative_principal_outstanding.LoanPrincipalOutstanding * -1\n",
    "\n",
    "to_replace = negative_principal_outstanding.LP_InterestandFees.values\n",
    "values = to_replace + additional_interest_and_fees.values\n",
    "loan_sub_data.LP_InterestandFees.replace(to_replace, values, inplace=True)\n",
    "\n",
    "# set LP_CustomerPrincipalPayments of these records to be the same as LoanOriginalAmount\n",
    "to_replace = negative_principal_outstanding.LP_CustomerPrincipalPayments.values\n",
    "values = negative_principal_outstanding.LoanOriginalAmount.values\n",
    "loan_sub_data.LP_CustomerPrincipalPayments.replace(to_replace, values, inplace=True)\n",
    "\n",
    "# replace negative principal outstanding with 0\n",
    "to_replace = negative_principal_outstanding.LoanPrincipalOutstanding.values\n",
    "loan_sub_data.LoanPrincipalOutstanding.replace(to_replace, 0, inplace=True)\n"
   ]
  },
  {
   "cell_type": "markdown",
   "metadata": {
    "slideshow": {
     "slide_type": "notes"
    }
   },
   "source": [
    "> Note that the above cells have been set as \"Skip\"-type slides. That means\n",
    "that when the notebook is rendered as http slides, those cells won't show up."
   ]
  },
  {
   "cell_type": "markdown",
   "metadata": {
    "slideshow": {
     "slide_type": "slide"
    }
   },
   "source": [
    "## Distribution of Loan Status\n",
    "\n",
    "Most of the borrowers completed their loans as we can see from the count plot.\n",
    "\n",
    "> Write a comment about your visualization here. The visualization should be in the next cell, as a sub-slide type. Make sure your visualizations are polished!\n",
    "\n",
    "> **Rubric Tip**: Provide at least 3 **polished** visualizations to convey key insights. The total number of visualizations in the slideshow shoould be less than 50% of the number of visualizations in the exploratory analysis. For example, if the exploratory analysis (Part I) has 18 visualizations, the slideshow can have (3 - 8) visualizations. \n",
    "\n",
    "\n",
    "> **Rubric Tip**: Each visualization in the slideshow is associated with **descriptive comments** that accurately depict their purpose and your observation. \n",
    "\n",
    "\n",
    "> **Rubric Tip**: All plots in the slideshow are appropriate, meaning the plot type, encodings, and transformations are suitable to the underlying data. \n",
    "\n",
    "> **Rubric Tip**: All plots in the slideshow are polished, meaning all plots have a title, labeled x/y axes (with units), x/y ticks, and legends. "
   ]
  },
  {
   "cell_type": "code",
   "execution_count": 8,
   "metadata": {
    "slideshow": {
     "slide_type": "subslide"
    }
   },
   "outputs": [
    {
     "data": {
      "image/png": "[encoded data removed]",
      "text/plain": [
       "<Figure size 432x288 with 1 Axes>"
      ]
     },
     "metadata": {
      "needs_background": "light"
     },
     "output_type": "display_data"
    }
   ],
   "source": [
    "# Count plot of the Loan status\n",
    "\n",
    "sns.countplot(data=loan_sub_data, x='LoanStatus', color=sns.color_palette()[0])\n",
    "plt.xlabel('Count')\n",
    "plt.ylabel('Loan status')\n",
    "plt.title('Count of each loan status')\n",
    "plt.show();"
   ]
  },
  {
   "cell_type": "markdown",
   "metadata": {
    "collapsed": true,
    "slideshow": {
     "slide_type": "slide"
    }
   },
   "source": [
    "## Distribution of principal outstandings\n",
    "\n",
    "The distribution is unimodal with most of the borrowers having no outstandings which collaborate with our observation that most of them completed their loans. The distribution is plotted with a log scale on the y-axis.\n",
    "\n",
    "> You should have at least three visualizations in your presentation,\n",
    "but feel free to add more if you'd like!"
   ]
  },
  {
   "cell_type": "code",
   "execution_count": 10,
   "metadata": {},
   "outputs": [],
   "source": [
    "# function for computing optimal number of bins\n",
    "\n",
    "def get_bin_counts(series):\n",
    "    \"\"\"\n",
    "       computes number of bins needed to plot the histogram of series\n",
    "       using Freedman Diaconis algorithm if the IQR is not 0 else\n",
    "       take the square root of the number of data points rounded up\n",
    "       to the nearest integer\n",
    "       \n",
    "       :param series: quantitative pandas series\n",
    "       :return integer: the number of bins\n",
    "    \"\"\"\n",
    "    if series.quantile(0.75) - series.quantile(0.25) != 0:\n",
    "        bin_width = 2*((series.quantile(0.75)-series.quantile(0.25))/(np.power(series.shape[0],1/3)))\n",
    "        return ((series.max()-series.min())//bin_width).astype(int)\n",
    "    return int(math.ceil(math.sqrt(series.shape[0])))"
   ]
  },
  {
   "cell_type": "code",
   "execution_count": 13,
   "metadata": {
    "slideshow": {
     "slide_type": "subslide"
    }
   },
   "outputs": [
    {
     "data": {
      "image/png": "[encoded data removed]",
      "text/plain": [
       "<Figure size 432x288 with 1 Axes>"
      ]
     },
     "metadata": {
      "needs_background": "light"
     },
     "output_type": "display_data"
    }
   ],
   "source": [
    "# distribution of the loan principal outstanding on a log scale along the y-axis\n",
    "\n",
    "ax = sns.histplot(data=loan_sub_data, x='LoanPrincipalOutstanding',\n",
    "            bins=get_bin_counts(loan_sub_data.LoanPrincipalOutstanding))\n",
    "            \n",
    "ax.set_yscale('log')\n",
    "ax.get_yaxis().set_major_formatter(ScalarFormatter())\n",
    "ax.set_xlabel('Loan principal outstanding in USD')\n",
    "ax.set_title('Distribution of loan principal outstanding')\n",
    "\n",
    "plt.show();"
   ]
  },
  {
   "cell_type": "markdown",
   "metadata": {
    "slideshow": {
     "slide_type": "slide"
    }
   },
   "source": [
    "## Distribution of number of days borrowers were delinquent\n",
    "\n",
    "The distribution is also unimodal with a peak around 0 which shows that most borrowers were not delinquent on their payments. It was also plotted with a log scale on the y-axis."
   ]
  },
  {
   "cell_type": "code",
   "execution_count": 14,
   "metadata": {
    "slideshow": {
     "slide_type": "subslide"
    }
   },
   "outputs": [
    {
     "data": {
      "image/png": "[encoded data removed]",
      "text/plain": [
       "<Figure size 432x288 with 1 Axes>"
      ]
     },
     "metadata": {
      "needs_background": "light"
     },
     "output_type": "display_data"
    }
   ],
   "source": [
    "# distribution of LoanCurrentDaysDelinquent\n",
    "\n",
    "ax = sns.histplot(data=loan_sub_data, x='LoanCurrentDaysDelinquent', \n",
    "                 bins=get_bin_counts(loan_sub_data.LoanCurrentDaysDelinquent))\n",
    "\n",
    "ax.set_yscale('log')\n",
    "ax.get_yaxis().set_major_formatter(ScalarFormatter())\n",
    "\n",
    "ax.set_xlabel('Number of days delinquent on loan')\n",
    "ax.set_title('Distribution of the number of days borrowers were delinquent on loans')\n",
    "\n",
    "plt.show();"
   ]
  },
  {
   "cell_type": "markdown",
   "metadata": {},
   "source": [
    "## Relationship between loan status and principal outstanding\n",
    "\n",
    "The box plot shows an increase in the median of the principal outstanding across the loan status with charged off loans having the largest median value."
   ]
  },
  {
   "cell_type": "code",
   "execution_count": null,
   "metadata": {},
   "outputs": [],
   "source": [
    "# box plot showing the relationship between loan status and principal outstanding\n",
    "\n",
    "sns.boxplot(data=loan_sub_data, x='LoanStatus', y='LoanPrincipalOutstanding')"
   ]
  },
  {
   "cell_type": "markdown",
   "metadata": {
    "slideshow": {
     "slide_type": "notes"
    }
   },
   "source": [
    ">**Generate Slideshow**: Once you're ready to generate your slideshow, use the `jupyter nbconvert` command to generate the HTML slide show. . From the terminal or command line, use the following expression."
   ]
  },
  {
   "cell_type": "code",
   "execution_count": null,
   "metadata": {
    "slideshow": {
     "slide_type": "skip"
    }
   },
   "outputs": [],
   "source": [
    "!jupyter nbconvert <Part_II_Filename>.ipynb --to slides --post serve --no-input --no-prompt"
   ]
  },
  {
   "cell_type": "markdown",
   "metadata": {
    "slideshow": {
     "slide_type": "notes"
    }
   },
   "source": [
    "> This should open a tab in your web browser where you can scroll through your presentation. Sub-slides can be accessed by pressing 'down' when viewing its parent slide. Make sure you remove all of the quote-formatted guide notes like this one before you finish your presentation! At last, you can stop the Kernel. "
   ]
  },
  {
   "cell_type": "code",
   "execution_count": null,
   "metadata": {},
   "outputs": [],
   "source": []
  }
 ],
 "metadata": {
  "celltoolbar": "Slideshow",
  "kernelspec": {
   "display_name": "Python 3.9.12 ('test_work_space')",
   "language": "python",
   "name": "python3"
  },
  "language_info": {
   "codemirror_mode": {
    "name": "ipython",
    "version": 3
   },
   "file_extension": ".py",
   "mimetype": "text/x-python",
   "name": "python",
   "nbconvert_exporter": "python",
   "pygments_lexer": "ipython3",
   "version": "3.9.12"
  },
  "vscode": {
   "interpreter": {
    "hash": "de9deb8f9f07f5427760aa3970a9a9d98b5bb9b260947cc1dfafc6c02811c732"
   }
  }
 },
 "nbformat": 4,
 "nbformat_minor": 2
}
