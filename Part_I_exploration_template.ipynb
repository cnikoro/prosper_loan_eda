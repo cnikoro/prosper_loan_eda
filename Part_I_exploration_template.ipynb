{
 "cells": [
  {
   "cell_type": "markdown",
   "metadata": {},
   "source": [
    "# Part I - (Dataset Exploration Title)\n",
    "## by Charles Nikoro\n",
    "\n",
    "## Introduction\n",
    "\n",
    "In this document, I will analyze loan data from Prosper (a peear-to-peer lending marketplace) comprising approximately 114000 records with the aim of investigating the possible factors that can affect the outcome of a loan's status.\n",
    "\n",
    "> Introduce the dataset\n",
    "\n",
    ">**Rubric Tip**: Your code should not generate any errors, and should use functions, loops where possible to reduce repetitive code. Prefer to use functions to reuse code statements.\n",
    "\n",
    "> **Rubric Tip**: Document your approach and findings in markdown cells. Use comments and docstrings in code cells to document the code functionality.\n",
    "\n",
    ">**Rubric Tip**: Markup cells should have headers and text that organize your thoughts, findings, and what you plan on investigating next.  \n",
    "\n",
    "\n",
    "\n",
    "## Preliminary Wrangling\n"
   ]
  },
  {
   "cell_type": "code",
   "execution_count": 3,
   "metadata": {},
   "outputs": [],
   "source": [
    "# import all packages and set plots to be embedded inline\n",
    "import numpy as np\n",
    "import pandas as pd\n",
    "import matplotlib.pyplot as plt\n",
    "from matplotlib.ticker import ScalarFormatter\n",
    "import seaborn as sns\n",
    "import math\n",
    "\n",
    "%matplotlib inline"
   ]
  },
  {
   "cell_type": "markdown",
   "metadata": {},
   "source": [
    "> Load in your dataset and describe its properties through the questions below. Try and motivate your exploration goals through this section.\n"
   ]
  },
  {
   "cell_type": "code",
   "execution_count": 4,
   "metadata": {},
   "outputs": [
    {
     "data": {
      "text/html": [
       "<div>\n",
       "<style scoped>\n",
       "    .dataframe tbody tr th:only-of-type {\n",
       "        vertical-align: middle;\n",
       "    }\n",
       "\n",
       "    .dataframe tbody tr th {\n",
       "        vertical-align: top;\n",
       "    }\n",
       "\n",
       "    .dataframe thead th {\n",
       "        text-align: right;\n",
       "    }\n",
       "</style>\n",
       "<table border=\"1\" class=\"dataframe\">\n",
       "  <thead>\n",
       "    <tr style=\"text-align: right;\">\n",
       "      <th></th>\n",
       "      <th>ListingKey</th>\n",
       "      <th>ListingNumber</th>\n",
       "      <th>ListingCreationDate</th>\n",
       "      <th>CreditGrade</th>\n",
       "      <th>Term</th>\n",
       "      <th>LoanStatus</th>\n",
       "      <th>ClosedDate</th>\n",
       "      <th>BorrowerAPR</th>\n",
       "      <th>BorrowerRate</th>\n",
       "      <th>LenderYield</th>\n",
       "      <th>...</th>\n",
       "      <th>LP_ServiceFees</th>\n",
       "      <th>LP_CollectionFees</th>\n",
       "      <th>LP_GrossPrincipalLoss</th>\n",
       "      <th>LP_NetPrincipalLoss</th>\n",
       "      <th>LP_NonPrincipalRecoverypayments</th>\n",
       "      <th>PercentFunded</th>\n",
       "      <th>Recommendations</th>\n",
       "      <th>InvestmentFromFriendsCount</th>\n",
       "      <th>InvestmentFromFriendsAmount</th>\n",
       "      <th>Investors</th>\n",
       "    </tr>\n",
       "  </thead>\n",
       "  <tbody>\n",
       "    <tr>\n",
       "      <th>0</th>\n",
       "      <td>1021339766868145413AB3B</td>\n",
       "      <td>193129</td>\n",
       "      <td>2007-08-26 19:09:29.263</td>\n",
       "      <td>C</td>\n",
       "      <td>36</td>\n",
       "      <td>Completed</td>\n",
       "      <td>2009-08-14</td>\n",
       "      <td>0.16516</td>\n",
       "      <td>0.1580</td>\n",
       "      <td>0.1380</td>\n",
       "      <td>...</td>\n",
       "      <td>-133.18</td>\n",
       "      <td>0.0</td>\n",
       "      <td>0.0</td>\n",
       "      <td>0.0</td>\n",
       "      <td>0.0</td>\n",
       "      <td>1.0</td>\n",
       "      <td>0</td>\n",
       "      <td>0</td>\n",
       "      <td>0.0</td>\n",
       "      <td>258</td>\n",
       "    </tr>\n",
       "    <tr>\n",
       "      <th>1</th>\n",
       "      <td>10273602499503308B223C1</td>\n",
       "      <td>1209647</td>\n",
       "      <td>2014-02-27 08:28:07.900</td>\n",
       "      <td>NaN</td>\n",
       "      <td>36</td>\n",
       "      <td>Current</td>\n",
       "      <td>NaT</td>\n",
       "      <td>0.12016</td>\n",
       "      <td>0.0920</td>\n",
       "      <td>0.0820</td>\n",
       "      <td>...</td>\n",
       "      <td>0.00</td>\n",
       "      <td>0.0</td>\n",
       "      <td>0.0</td>\n",
       "      <td>0.0</td>\n",
       "      <td>0.0</td>\n",
       "      <td>1.0</td>\n",
       "      <td>0</td>\n",
       "      <td>0</td>\n",
       "      <td>0.0</td>\n",
       "      <td>1</td>\n",
       "    </tr>\n",
       "    <tr>\n",
       "      <th>2</th>\n",
       "      <td>0EE9337825851032864889A</td>\n",
       "      <td>81716</td>\n",
       "      <td>2007-01-05 15:00:47.090</td>\n",
       "      <td>HR</td>\n",
       "      <td>36</td>\n",
       "      <td>Completed</td>\n",
       "      <td>2009-12-17</td>\n",
       "      <td>0.28269</td>\n",
       "      <td>0.2750</td>\n",
       "      <td>0.2400</td>\n",
       "      <td>...</td>\n",
       "      <td>-24.20</td>\n",
       "      <td>0.0</td>\n",
       "      <td>0.0</td>\n",
       "      <td>0.0</td>\n",
       "      <td>0.0</td>\n",
       "      <td>1.0</td>\n",
       "      <td>0</td>\n",
       "      <td>0</td>\n",
       "      <td>0.0</td>\n",
       "      <td>41</td>\n",
       "    </tr>\n",
       "    <tr>\n",
       "      <th>3</th>\n",
       "      <td>0EF5356002482715299901A</td>\n",
       "      <td>658116</td>\n",
       "      <td>2012-10-22 11:02:35.010</td>\n",
       "      <td>NaN</td>\n",
       "      <td>36</td>\n",
       "      <td>Current</td>\n",
       "      <td>NaT</td>\n",
       "      <td>0.12528</td>\n",
       "      <td>0.0974</td>\n",
       "      <td>0.0874</td>\n",
       "      <td>...</td>\n",
       "      <td>-108.01</td>\n",
       "      <td>0.0</td>\n",
       "      <td>0.0</td>\n",
       "      <td>0.0</td>\n",
       "      <td>0.0</td>\n",
       "      <td>1.0</td>\n",
       "      <td>0</td>\n",
       "      <td>0</td>\n",
       "      <td>0.0</td>\n",
       "      <td>158</td>\n",
       "    </tr>\n",
       "    <tr>\n",
       "      <th>4</th>\n",
       "      <td>0F023589499656230C5E3E2</td>\n",
       "      <td>909464</td>\n",
       "      <td>2013-09-14 18:38:39.097</td>\n",
       "      <td>NaN</td>\n",
       "      <td>36</td>\n",
       "      <td>Current</td>\n",
       "      <td>NaT</td>\n",
       "      <td>0.24614</td>\n",
       "      <td>0.2085</td>\n",
       "      <td>0.1985</td>\n",
       "      <td>...</td>\n",
       "      <td>-60.27</td>\n",
       "      <td>0.0</td>\n",
       "      <td>0.0</td>\n",
       "      <td>0.0</td>\n",
       "      <td>0.0</td>\n",
       "      <td>1.0</td>\n",
       "      <td>0</td>\n",
       "      <td>0</td>\n",
       "      <td>0.0</td>\n",
       "      <td>20</td>\n",
       "    </tr>\n",
       "  </tbody>\n",
       "</table>\n",
       "<p>5 rows × 81 columns</p>\n",
       "</div>"
      ],
      "text/plain": [
       "                ListingKey  ListingNumber     ListingCreationDate CreditGrade  \\\n",
       "0  1021339766868145413AB3B         193129 2007-08-26 19:09:29.263           C   \n",
       "1  10273602499503308B223C1        1209647 2014-02-27 08:28:07.900         NaN   \n",
       "2  0EE9337825851032864889A          81716 2007-01-05 15:00:47.090          HR   \n",
       "3  0EF5356002482715299901A         658116 2012-10-22 11:02:35.010         NaN   \n",
       "4  0F023589499656230C5E3E2         909464 2013-09-14 18:38:39.097         NaN   \n",
       "\n",
       "   Term LoanStatus ClosedDate  BorrowerAPR  BorrowerRate  LenderYield  ...  \\\n",
       "0    36  Completed 2009-08-14      0.16516        0.1580       0.1380  ...   \n",
       "1    36    Current        NaT      0.12016        0.0920       0.0820  ...   \n",
       "2    36  Completed 2009-12-17      0.28269        0.2750       0.2400  ...   \n",
       "3    36    Current        NaT      0.12528        0.0974       0.0874  ...   \n",
       "4    36    Current        NaT      0.24614        0.2085       0.1985  ...   \n",
       "\n",
       "   LP_ServiceFees  LP_CollectionFees  LP_GrossPrincipalLoss  \\\n",
       "0         -133.18                0.0                    0.0   \n",
       "1            0.00                0.0                    0.0   \n",
       "2          -24.20                0.0                    0.0   \n",
       "3         -108.01                0.0                    0.0   \n",
       "4          -60.27                0.0                    0.0   \n",
       "\n",
       "   LP_NetPrincipalLoss LP_NonPrincipalRecoverypayments  PercentFunded  \\\n",
       "0                  0.0                             0.0            1.0   \n",
       "1                  0.0                             0.0            1.0   \n",
       "2                  0.0                             0.0            1.0   \n",
       "3                  0.0                             0.0            1.0   \n",
       "4                  0.0                             0.0            1.0   \n",
       "\n",
       "   Recommendations InvestmentFromFriendsCount InvestmentFromFriendsAmount  \\\n",
       "0                0                          0                         0.0   \n",
       "1                0                          0                         0.0   \n",
       "2                0                          0                         0.0   \n",
       "3                0                          0                         0.0   \n",
       "4                0                          0                         0.0   \n",
       "\n",
       "  Investors  \n",
       "0       258  \n",
       "1         1  \n",
       "2        41  \n",
       "3       158  \n",
       "4        20  \n",
       "\n",
       "[5 rows x 81 columns]"
      ]
     },
     "execution_count": 4,
     "metadata": {},
     "output_type": "execute_result"
    }
   ],
   "source": [
    "# load data and check the first five records\n",
    "# make sure the dates are correctly parsed\n",
    "\n",
    "loans = pd.read_csv('../dataset/prosperLoanData.csv', parse_dates=['ListingCreationDate',\n",
    "    'LoanOriginationDate', 'ClosedDate', 'DateCreditPulled'])\n",
    "\n",
    "loans.head()"
   ]
  },
  {
   "cell_type": "code",
   "execution_count": 5,
   "metadata": {},
   "outputs": [
    {
     "name": "stdout",
     "output_type": "stream",
     "text": [
      "Shape of the dataframe: (113937, 81)\n",
      "Number of duplicate records: 0\n"
     ]
    }
   ],
   "source": [
    "# check the size of the dataset and whether it contains duplicate listings.\n",
    "\n",
    "print(\"Shape of the dataframe:\", loans.shape)\n",
    "print(\"Number of duplicate records:\", loans.duplicated().sum())"
   ]
  },
  {
   "cell_type": "code",
   "execution_count": 6,
   "metadata": {},
   "outputs": [
    {
     "name": "stdout",
     "output_type": "stream",
     "text": [
      "bool\n",
      "{'IsBorrowerHomeowner', 'CurrentlyInGroup', 'IncomeVerifiable'}\n",
      "\n",
      "int64\n",
      "{'InvestmentFromFriendsCount', 'LoanCurrentDaysDelinquent', 'LoanMonthsSinceOrigination', 'LoanOriginalAmount', 'ListingNumber', 'LoanNumber', 'ListingCategory (numeric)', 'Term', 'Recommendations', 'OpenRevolvingAccounts', 'Investors'}\n",
      "\n",
      "float64\n",
      "{'CreditScoreRangeLower', 'DelinquenciesLast7Years', 'ScorexChangeAtTimeOfListing', 'LP_CustomerPrincipalPayments', 'BankcardUtilization', 'TotalTrades', 'LenderYield', 'BorrowerRate', 'AmountDelinquent', 'PublicRecordsLast12Months', 'LP_InterestandFees', 'PublicRecordsLast10Years', 'RevolvingCreditBalance', 'ProsperScore', 'EstimatedLoss', 'CurrentDelinquencies', 'LoanFirstDefaultedCycleNumber', 'TotalInquiries', 'LP_NonPrincipalRecoverypayments', 'EstimatedReturn', 'ProsperPaymentsOneMonthPlusLate', 'TotalCreditLinespast7years', 'DebtToIncomeRatio', 'StatedMonthlyIncome', 'EmploymentStatusDuration', 'ProsperPrincipalBorrowed', 'AvailableBankcardCredit', 'LP_NetPrincipalLoss', 'InquiriesLast6Months', 'InvestmentFromFriendsAmount', 'MonthlyLoanPayment', 'TotalProsperLoans', 'TotalProsperPaymentsBilled', 'ProsperRating (numeric)', 'LP_CustomerPayments', 'ProsperPaymentsLessThanOneMonthLate', 'ProsperPrincipalOutstanding', 'TradesNeverDelinquent (percentage)', 'LP_GrossPrincipalLoss', 'OpenCreditLines', 'CurrentCreditLines', 'OnTimeProsperPayments', 'LP_CollectionFees', 'OpenRevolvingMonthlyPayment', 'BorrowerAPR', 'EstimatedEffectiveYield', 'PercentFunded', 'CreditScoreRangeUpper', 'LP_ServiceFees', 'TradesOpenedLast6Months'}\n",
      "\n",
      "object\n",
      "{'CreditGrade', 'FirstRecordedCreditLine', 'LoanStatus', 'LoanKey', 'GroupKey', 'BorrowerState', 'Occupation', 'EmploymentStatus', 'LoanOriginationQuarter', 'MemberKey', 'ListingKey', 'ProsperRating (Alpha)', 'IncomeRange'}\n",
      "\n"
     ]
    }
   ],
   "source": [
    "# columns and their data types\n",
    "\n",
    "dtypes = ['bool', 'int64', 'float64', 'object']\n",
    "\n",
    "for dtype in dtypes:\n",
    "    print(f\"{dtype}\\n{set(loans.dtypes[loans.dtypes == dtype].index)}\\n\")"
   ]
  },
  {
   "cell_type": "code",
   "execution_count": 7,
   "metadata": {},
   "outputs": [],
   "source": [
    "# make ListingCategory (numeric), ProsperScore and Term of categorical types\n",
    "\n",
    "def create_category_type(categories, ordered=False):\n",
    "    \"\"\"\n",
    "        Create category type from the list of categories\n",
    "\n",
    "        Args:\n",
    "           list: the list of categories\n",
    "           bool: whether the category type should be ordered. This is False by default\n",
    "\n",
    "        Returns:\n",
    "           a pandas CategoricalDtype object.\n",
    "    \"\"\"\n",
    "    return pd.api.types.CategoricalDtype(categories=categories, ordered=ordered)\n",
    "\n",
    "loans['ListingCategory (numeric)'] = loans['ListingCategory (numeric)'].astype(\n",
    "    create_category_type(range(21))\n",
    ")\n",
    "\n",
    "loans.Term = loans.Term.astype(create_category_type([12,36,60], ordered=True))\n",
    "\n",
    "# ProsperScore is an ordinal variable\n",
    "\n",
    "loans.ProsperScore = loans.ProsperScore.astype(create_category_type(categories=range(1,12), ordered=True))"
   ]
  },
  {
   "cell_type": "code",
   "execution_count": 8,
   "metadata": {},
   "outputs": [
    {
     "data": {
      "text/plain": [
       "Current                   56576\n",
       "Completed                 38074\n",
       "Chargedoff                11992\n",
       "Defaulted                  5018\n",
       "Past Due (1-15 days)        806\n",
       "Past Due (31-60 days)       363\n",
       "Past Due (61-90 days)       313\n",
       "Past Due (91-120 days)      304\n",
       "Past Due (16-30 days)       265\n",
       "FinalPaymentInProgress      205\n",
       "Past Due (>120 days)         16\n",
       "Cancelled                     5\n",
       "Name: LoanStatus, dtype: int64"
      ]
     },
     "execution_count": 8,
     "metadata": {},
     "output_type": "execute_result"
    }
   ],
   "source": [
    "# check values of LoanStatus\n",
    "\n",
    "loans.LoanStatus.value_counts()"
   ]
  },
  {
   "cell_type": "code",
   "execution_count": 53,
   "metadata": {},
   "outputs": [
    {
     "name": "stdout",
     "output_type": "stream",
     "text": [
      "(57356, 81)\n"
     ]
    }
   ],
   "source": [
    "# We won't consider current and cancelled loans in our analysis.\n",
    "\n",
    "excluded_list = ['Current', 'Cancelled']\n",
    "\n",
    "loan_sub_data = loans.query('LoanStatus not in @excluded_list').copy()\n",
    "\n",
    "# the loan status should be categorical. We will also make it ordinal\n",
    "\n",
    "categories = ['Completed', 'FinalPaymentInProgress',\n",
    " 'Past Due (1-15 days)', 'Past Due (16-30 days)', 'Past Due (31-60 days)', \n",
    "'Past Due (61-90 days)', 'Past Due (91-120 days)', 'Past Due (>120 days)', \n",
    "'Defaulted', 'Chargedoff']\n",
    "\n",
    "loan_sub_data.LoanStatus = loan_sub_data.LoanStatus.astype(create_category_type(categories=categories, ordered=True))\n",
    "\n",
    "# The shape of the subset of data we will be analyzing\n",
    "\n",
    "print(loan_sub_data.shape)"
   ]
  },
  {
   "cell_type": "code",
   "execution_count": 54,
   "metadata": {},
   "outputs": [
    {
     "data": {
      "text/plain": [
       "Index(['ListingKey', 'ListingNumber', 'ListingCreationDate', 'Term',\n",
       "       'LoanStatus', 'BorrowerRate', 'LenderYield',\n",
       "       'ListingCategory (numeric)', 'IsBorrowerHomeowner', 'CurrentlyInGroup',\n",
       "       'DateCreditPulled', 'OpenRevolvingAccounts',\n",
       "       'OpenRevolvingMonthlyPayment', 'IncomeRange', 'IncomeVerifiable',\n",
       "       'StatedMonthlyIncome', 'LoanKey', 'LoanCurrentDaysDelinquent',\n",
       "       'LoanMonthsSinceOrigination', 'LoanNumber', 'LoanOriginalAmount',\n",
       "       'LoanOriginationDate', 'LoanOriginationQuarter', 'MemberKey',\n",
       "       'MonthlyLoanPayment', 'LP_CustomerPayments',\n",
       "       'LP_CustomerPrincipalPayments', 'LP_InterestandFees', 'LP_ServiceFees',\n",
       "       'LP_CollectionFees', 'LP_GrossPrincipalLoss', 'LP_NetPrincipalLoss',\n",
       "       'LP_NonPrincipalRecoverypayments', 'PercentFunded', 'Recommendations',\n",
       "       'InvestmentFromFriendsCount', 'InvestmentFromFriendsAmount',\n",
       "       'Investors'],\n",
       "      dtype='object')"
      ]
     },
     "execution_count": 54,
     "metadata": {},
     "output_type": "execute_result"
    }
   ],
   "source": [
    "# columns without null values\n",
    "\n",
    "columns_without_null = loan_sub_data.isna().sum()==0\n",
    "loan_sub_data.isna().sum()[columns_without_null].index"
   ]
  },
  {
   "cell_type": "code",
   "execution_count": 55,
   "metadata": {},
   "outputs": [
    {
     "data": {
      "text/plain": [
       "Index(['CreditGrade', 'ClosedDate', 'BorrowerAPR', 'EstimatedEffectiveYield',\n",
       "       'EstimatedLoss', 'EstimatedReturn', 'ProsperRating (numeric)',\n",
       "       'ProsperRating (Alpha)', 'ProsperScore', 'BorrowerState', 'Occupation',\n",
       "       'EmploymentStatus', 'EmploymentStatusDuration', 'GroupKey',\n",
       "       'CreditScoreRangeLower', 'CreditScoreRangeUpper',\n",
       "       'FirstRecordedCreditLine', 'CurrentCreditLines', 'OpenCreditLines',\n",
       "       'TotalCreditLinespast7years', 'InquiriesLast6Months', 'TotalInquiries',\n",
       "       'CurrentDelinquencies', 'AmountDelinquent', 'DelinquenciesLast7Years',\n",
       "       'PublicRecordsLast10Years', 'PublicRecordsLast12Months',\n",
       "       'RevolvingCreditBalance', 'BankcardUtilization',\n",
       "       'AvailableBankcardCredit', 'TotalTrades',\n",
       "       'TradesNeverDelinquent (percentage)', 'TradesOpenedLast6Months',\n",
       "       'DebtToIncomeRatio', 'TotalProsperLoans', 'TotalProsperPaymentsBilled',\n",
       "       'OnTimeProsperPayments', 'ProsperPaymentsLessThanOneMonthLate',\n",
       "       'ProsperPaymentsOneMonthPlusLate', 'ProsperPrincipalBorrowed',\n",
       "       'ProsperPrincipalOutstanding', 'ScorexChangeAtTimeOfListing',\n",
       "       'LoanFirstDefaultedCycleNumber'],\n",
       "      dtype='object')"
      ]
     },
     "execution_count": 55,
     "metadata": {},
     "output_type": "execute_result"
    }
   ],
   "source": [
    "# columns with null values\n",
    "\n",
    "columns_with_null = loan_sub_data.isna().sum()>0\n",
    "loan_sub_data.isna().sum()[columns_with_null].index"
   ]
  },
  {
   "cell_type": "markdown",
   "metadata": {},
   "source": [
    "### What is the structure of your dataset?\n",
    "The dataset comprises 113937 observations and 81 variables which comprises both qualitative and quantitative variables. Some of them contain null values which means that there are no existing records for the borrower concerned. For instance, according to the [data dictionary](https://docs.google.com/spreadsheets/d/1gDyi_L4UvIrLTEC6Wri5nbaMmkGmLQBk-Yx3z0XDEtI/edit#gid=0), a borrower with a null `TotalProsperLoans` value doesn't have prior loans. The categorical variables includes `ListingCategory (numeric)`, `LoanStatus`, `ProsperScore`, and `Term`. `ListingCategory (numeric)` is encoded as follows: 0 - Not Available, 1 - Debt Consolidation, 2 - Home \n",
    "Improvement, 3 - Business, 4 - Personal Loan, 5 - Student Use, 6 - Auto, 7- Other, 8 - Baby&Adoption, 9 - Boat, 10 - Cosmetic \n",
    "Procedure, 11 - Engagement Ring, 12 - Green Loans, 13 - Household Expenses, 14 - Large Purchases, 15 - Medical/Dental, 16 - \n",
    "Motorcycle, 17 - RV, 18 - Taxes, 19 - Vacation, 20 - Wedding Loans. `ProsperScore` include values from 1 to 11 with decreasing levels of risk.\n",
    "\n",
    "### What is/are the main feature(s) of interest in your dataset?\n",
    "\n",
    "I want to investigate the factors that could affect the outcome of a loan. In particular, I will be considering those that affect complete, default and charged-off loans. Therefore, I won't be considering current or cancelled loans in this analysis. \n",
    "\n",
    "### What features in the dataset do you think will help support your investigation into your feature(s) of interest?\n",
    "\n",
    "The original loan amount (`LoanOriginalAmount`) and the principal payments (`LP_CustomerPrincipalPayments`) made by the borrowers are interesting variables to consider. Other variables we would be considering includes: the annual percentage rates (`BorrowerAPR`), the interests and fees paid by borrowers (`LP_InterestandFees`), the term of the loan (`Term`), the number of days the borrower was delinquent on the loan (`LoanCurrentDaysDelinquent`), the stated monthly income (`StatedMonthlyIncome`) and whether they can be verified (`IncomeVerifiable`), the listing category (`ListingCategory (numeric)`), and the total number of prior prosper loans (`TotalProsperLoans`)."
   ]
  },
  {
   "cell_type": "markdown",
   "metadata": {},
   "source": [
    "## Univariate Exploration\n",
    "\n",
    "I'll begin by looking at the distribution of the main variable of interest – `LoanStatus`.\n",
    "\n",
    "> In this section, investigate distributions of individual variables. If\n",
    "you see unusual points or outliers, take a deeper look to clean things up\n",
    "and prepare yourself to look at relationships between variables.\n",
    "\n",
    "\n",
    "> **Rubric Tip**: The project (Parts I alone) should have at least 15 visualizations distributed over univariate, bivariate, and multivariate plots to explore many relationships in the data set.  Use reasoning to justify the flow of the exploration.\n",
    "\n",
    "\n",
    "\n",
    ">**Rubric Tip**: Use the \"Question-Visualization-Observations\" framework  throughout the exploration. This framework involves **asking a question from the data, creating a visualization to find answers, and then recording observations after each visualisation.** \n",
    "\n",
    "##### Which loan status has the highest frequency count?"
   ]
  },
  {
   "cell_type": "code",
   "execution_count": 56,
   "metadata": {},
   "outputs": [
    {
     "data": {
      "image/png": "[encoded data removed]",
      "text/plain": [
       "<Figure size 432x288 with 1 Axes>"
      ]
     },
     "metadata": {
      "needs_background": "light"
     },
     "output_type": "display_data"
    }
   ],
   "source": [
    "# plot distribution of LoanStatus\n",
    "\n",
    "sns.countplot(data=loan_sub_data, y='LoanStatus', color=sns.color_palette()[0])\n",
    "plt.xlabel('Count')\n",
    "plt.ylabel('Loan status')\n",
    "plt.title('Count of each loan status')\n",
    "plt.show();"
   ]
  },
  {
   "cell_type": "markdown",
   "metadata": {},
   "source": [
    "The above plot shows that most borrowers completed their loans while the least of them are more than 120 days passed due. Next, we will take a look at the distribution of the `StatedMonthlyIncome`."
   ]
  },
  {
   "cell_type": "code",
   "execution_count": 57,
   "metadata": {},
   "outputs": [
    {
     "data": {
      "image/png": "[encoded data removed]",
      "text/plain": [
       "<Figure size 432x288 with 1 Axes>"
      ]
     },
     "metadata": {
      "needs_background": "light"
     },
     "output_type": "display_data"
    }
   ],
   "source": [
    "def get_bin_counts(series):\n",
    "    \"\"\"\n",
    "       computes number of bins needed to plot the histogram of series\n",
    "       using Freedman Diaconis algorithm if the IQR is not 0 else\n",
    "       take the square root of the number of data points rounded up\n",
    "       to the nearest integer\n",
    "       \n",
    "       :param series: quantitative pandas series\n",
    "       :return integer: the number of bins\n",
    "    \"\"\"\n",
    "    if series.quantile(0.75) - series.quantile(0.25) != 0:\n",
    "        bin_width = 2*((series.quantile(0.75)-series.quantile(0.25))/(np.power(series.shape[0],1/3)))\n",
    "        return ((series.max()-series.min())//bin_width).astype(int)\n",
    "    return int(math.ceil(math.sqrt(series.shape[0])))\n",
    "\n",
    "# We will use a histogram to show the distribution of the StatedMonthlyIncome variable\n",
    "\n",
    "sns.histplot(data=loan_sub_data, x='StatedMonthlyIncome', bins = get_bin_counts(loan_sub_data.StatedMonthlyIncome))\n",
    "plt.show();"
   ]
  },
  {
   "cell_type": "markdown",
   "metadata": {},
   "source": [
    "This plot doesn't look that great because `StatedMonthlyIncome` has large values. Let's plot it with a log scale on the x-axis instead. While we are at it, let's also plot the distribution of borrowers with supporting documents to verify their income."
   ]
  },
  {
   "cell_type": "code",
   "execution_count": 58,
   "metadata": {},
   "outputs": [
    {
     "data": {
      "image/png": "[encoded data removed]",
      "text/plain": [
       "<Figure size 1080x360 with 2 Axes>"
      ]
     },
     "metadata": {
      "needs_background": "light"
     },
     "output_type": "display_data"
    }
   ],
   "source": [
    "# distribution of log transformation of stated monthly income\n",
    "# and borrowers with supporting documents for their income.\n",
    "\n",
    "fig,axs = plt.subplots(1,2,figsize=(15,5))\n",
    "\n",
    "#xlabels = ['0k', '105k', '210k', '315k', '420k', '525k', '630k']\n",
    "ax1 = sns.histplot(data=loan_sub_data, x='StatedMonthlyIncome', \n",
    "                  bins = get_bin_counts(loan_sub_data.StatedMonthlyIncome), ax=axs[0])\n",
    "\n",
    "ax1.set_xscale('log')\n",
    "#x1.set_xticklabels(xlabels)\n",
    "ax1.get_xaxis().set_major_formatter(ScalarFormatter())\n",
    "\n",
    "ax1.set(xlabel='Stated monthly income in USD',\n",
    "        title='Distribution of the stated monthly income')\n",
    "\n",
    "# distribution of borrowers with verifiable income\n",
    "\n",
    "ax2 = sns.countplot(data=loan_sub_data, x='IncomeVerifiable', color=sns.color_palette()[0], \n",
    "        order=loan_sub_data.IncomeVerifiable.value_counts().index, ax=axs[1])\n",
    "ax2.set(xlabel=\"Is Income verifiable?\",\n",
    "        title=\"Frequency of borrowers with verifiable income\")\n",
    "\n",
    "plt.show();\n"
   ]
  },
  {
   "cell_type": "markdown",
   "metadata": {},
   "source": [
    "The distribution of the stated monthly income is slightly right-skewed with a considerable number of borrowers declaring that they earn between $0 and $200. The bar plot on the right shows that most of the borrowers have documents to support their income declaration.\n",
    "\n",
    "##### What are the distribution of the original loan amount, amount of principal, and the interest and fees paid by the borrowers?"
   ]
  },
  {
   "cell_type": "code",
   "execution_count": 77,
   "metadata": {},
   "outputs": [
    {
     "data": {
      "image/png": "[encoded data removed]",
      "text/plain": [
       "<Figure size 1080x360 with 3 Axes>"
      ]
     },
     "metadata": {
      "needs_background": "light"
     },
     "output_type": "display_data"
    }
   ],
   "source": [
    "# distribution of the original loan amount\n",
    "\n",
    "fig, axes = plt.subplots(1,3, figsize=(15,5))\n",
    "\n",
    "ax1 = sns.histplot(data=loan_sub_data, x='LoanOriginalAmount', \n",
    "                  bins=get_bin_counts(loan_sub_data.LoanOriginalAmount), ax=axes[0])\n",
    "\n",
    "ax1.set(xlabel='Loan original amount in USD',\n",
    "        title='Distribution of loan original amounts')\n",
    "\n",
    "# distribution of the amount of principal paid\n",
    "\n",
    "ax2 = sns.histplot(data=loan_sub_data, x='LP_CustomerPrincipalPayments',\n",
    "                   bins=get_bin_counts(loan_sub_data.LP_CustomerPayments), ax=axes[1])\n",
    "\n",
    "ax2.set(xlabel='Amount of principal paid in USD',\n",
    "        title='Distribution of principal paid')\n",
    "\n",
    "# distribution of the interest and fees paid\n",
    "\n",
    "ax3 = sns.histplot(data=loan_sub_data, x='LP_InterestandFees', \n",
    "               bins=get_bin_counts(loan_sub_data.LP_InterestandFees), ax=axes[2])\n",
    "\n",
    "ax3.set_xlim(-50, 10000)\n",
    "\n",
    "ax3.set(xlabel='Interests and Fees paid in USD',\n",
    "        title='Distribution of the interest and fees paid in USD')\n",
    "\n",
    "plt.show();"
   ]
  },
  {
   "cell_type": "markdown",
   "metadata": {},
   "source": [
    "Both distributions are right skewed with several peaks. This shows that there is a relationship between the original loan amount and the principal paid by the borrowers which is expected. The distribution of the principal paid roughly shows that the number of borrowers that paid a certain principal decreases as the amount increases. This trend is more clearly seen in the distribution of the interest and fees paid. There might be a positive relationship between the amount of principal paid and the interest and fees paid by the borrowers.\n",
    "\n",
    "##### What is the distribution of the annual percentage rate?\n",
    "\n",
    "The `BorrowerAPR` variable has some missing values which we can't account for at the moment. Let's see the percentage of null values that it has."
   ]
  },
  {
   "cell_type": "code",
   "execution_count": 60,
   "metadata": {},
   "outputs": [
    {
     "data": {
      "text/plain": [
       "0.000435874189274008"
      ]
     },
     "execution_count": 60,
     "metadata": {},
     "output_type": "execute_result"
    }
   ],
   "source": [
    "loan_sub_data.BorrowerAPR.isna().sum()/loan_sub_data.BorrowerAPR.shape[0]"
   ]
  },
  {
   "cell_type": "markdown",
   "metadata": {},
   "source": [
    "As we can see, it is not significant. Therefore, it is okay to replace them with the mean value."
   ]
  },
  {
   "cell_type": "code",
   "execution_count": 78,
   "metadata": {},
   "outputs": [
    {
     "data": {
      "image/png": "[encoded data removed]",
      "text/plain": [
       "<Figure size 432x288 with 1 Axes>"
      ]
     },
     "metadata": {
      "needs_background": "light"
     },
     "output_type": "display_data"
    }
   ],
   "source": [
    "# distribution of the annual percentage rate.\n",
    "loan_sub_data.BorrowerAPR = loan_sub_data.BorrowerAPR.fillna(loan_sub_data.BorrowerAPR.mean())\n",
    "\n",
    "ax = sns.histplot(data=loan_sub_data, x='BorrowerAPR', bins=get_bin_counts(loan_sub_data.BorrowerAPR))\n",
    "\n",
    "ax.set(xlabel='Annual percentage rate',\n",
    "        title='Distribution of the annual percentage rate')\n",
    "\n",
    "plt.show();"
   ]
  },
  {
   "cell_type": "markdown",
   "metadata": {},
   "source": [
    "From the plot, we can see that the distribution of the annual percentage rate is unimodal with the highest peak at around 0.37.\n",
    "\n",
    "##### What are the distribuions of the total number of prior loans, loan term, and the listing categories?\n",
    "\n",
    "`Term` and `ListingCategory (numeric)` are both categorical variables so we would explore their distribution on a bar plot. On the other hand, `TotalProsperLoans` is a discrete numeric variable, but because its range of values are relatively small, we can also explore its distribution with a bar plot. This variable also contains null values which means that the borrower had no prior prosper loan. We will replace them with 0."
   ]
  },
  {
   "cell_type": "code",
   "execution_count": null,
   "metadata": {},
   "outputs": [],
   "source": []
  },
  {
   "cell_type": "code",
   "execution_count": null,
   "metadata": {},
   "outputs": [],
   "source": []
  },
  {
   "cell_type": "markdown",
   "metadata": {},
   "source": [
    "\n",
    "\n",
    ">**Rubric Tip**: Visualizations should depict the data appropriately so that the plots are easily interpretable. You should choose an appropriate plot type, data encodings, and formatting as needed. The formatting may include setting/adding the title, labels, legend, and comments. Also, do not overplot or incorrectly plot ordinal data."
   ]
  },
  {
   "cell_type": "code",
   "execution_count": null,
   "metadata": {},
   "outputs": [],
   "source": []
  },
  {
   "cell_type": "markdown",
   "metadata": {},
   "source": [
    "### Discuss the distribution(s) of your variable(s) of interest. Were there any unusual points? Did you need to perform any transformations?\n",
    "\n",
    "> Your answer here!\n",
    "\n",
    "### Of the features you investigated, were there any unusual distributions? Did you perform any operations on the data to tidy, adjust, or change the form of the data? If so, why did you do this?\n",
    "\n",
    "> Your answer here!"
   ]
  },
  {
   "cell_type": "markdown",
   "metadata": {},
   "source": [
    "## Bivariate Exploration\n",
    "\n",
    "> In this section, investigate relationships between pairs of variables in your\n",
    "data. Make sure the variables that you cover here have been introduced in some\n",
    "fashion in the previous section (univariate exploration)."
   ]
  },
  {
   "cell_type": "code",
   "execution_count": null,
   "metadata": {},
   "outputs": [],
   "source": []
  },
  {
   "cell_type": "markdown",
   "metadata": {},
   "source": [
    "### Talk about some of the relationships you observed in this part of the investigation. How did the feature(s) of interest vary with other features in the dataset?\n",
    "\n",
    "> Your answer here!\n",
    "\n",
    "### Did you observe any interesting relationships between the other features (not the main feature(s) of interest)?\n",
    "\n",
    "> Your answer here!"
   ]
  },
  {
   "cell_type": "markdown",
   "metadata": {},
   "source": [
    "## Multivariate Exploration\n",
    "\n",
    "> Create plots of three or more variables to investigate your data even\n",
    "further. Make sure that your investigations are justified, and follow from\n",
    "your work in the previous sections."
   ]
  },
  {
   "cell_type": "code",
   "execution_count": null,
   "metadata": {},
   "outputs": [],
   "source": []
  },
  {
   "cell_type": "markdown",
   "metadata": {},
   "source": [
    "### Talk about some of the relationships you observed in this part of the investigation. Were there features that strengthened each other in terms of looking at your feature(s) of interest?\n",
    "\n",
    "> Your answer here!\n",
    "\n",
    "### Were there any interesting or surprising interactions between features?\n",
    "\n",
    "> Your answer here!"
   ]
  },
  {
   "cell_type": "markdown",
   "metadata": {},
   "source": [
    "## Conclusions\n",
    ">You can write a summary of the main findings and reflect on the steps taken during the data exploration.\n"
   ]
  },
  {
   "cell_type": "markdown",
   "metadata": {},
   "source": [
    "\n",
    "> Remove all Tips mentioned above, before you convert this notebook to PDF/HTML\n",
    "\n",
    "\n",
    "> At the end of your report, make sure that you export the notebook as an\n",
    "html file from the `File > Download as... > HTML or PDF` menu. Make sure you keep\n",
    "track of where the exported file goes, so you can put it in the same folder\n",
    "as this notebook for project submission. Also, make sure you remove all of\n",
    "the quote-formatted guide notes like this one before you finish your report!\n",
    "\n"
   ]
  },
  {
   "cell_type": "code",
   "execution_count": null,
   "metadata": {},
   "outputs": [],
   "source": []
  }
 ],
 "metadata": {
  "kernelspec": {
   "display_name": "Python 3.9.12 ('test_work_space')",
   "language": "python",
   "name": "python3"
  },
  "language_info": {
   "codemirror_mode": {
    "name": "ipython",
    "version": 3
   },
   "file_extension": ".py",
   "mimetype": "text/x-python",
   "name": "python",
   "nbconvert_exporter": "python",
   "pygments_lexer": "ipython3",
   "version": "3.9.12"
  },
  "vscode": {
   "interpreter": {
    "hash": "de9deb8f9f07f5427760aa3970a9a9d98b5bb9b260947cc1dfafc6c02811c732"
   }
  }
 },
 "nbformat": 4,
 "nbformat_minor": 2
}
