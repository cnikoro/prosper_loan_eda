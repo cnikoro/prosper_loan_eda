{
 "cells": [
  {
   "cell_type": "markdown",
   "metadata": {},
   "source": [
    "# Part I - (Dataset Exploration Title)\n",
    "## by Charles Nikoro\n",
    "\n",
    "## Introduction\n",
    "\n",
    "In this document, I will analyze loan data from Prosper (a peear-to-peer lending marketplace) comprising approximately 114000 records with the aim of investigating the possible factors that can affect the outcome of a loan's status.\n",
    "\n",
    "> Introduce the dataset\n",
    "\n",
    ">**Rubric Tip**: Your code should not generate any errors, and should use functions, loops where possible to reduce repetitive code. Prefer to use functions to reuse code statements.\n",
    "\n",
    "> **Rubric Tip**: Document your approach and findings in markdown cells. Use comments and docstrings in code cells to document the code functionality.\n",
    "\n",
    ">**Rubric Tip**: Markup cells should have headers and text that organize your thoughts, findings, and what you plan on investigating next.  \n",
    "\n",
    "\n",
    "\n",
    "## Preliminary Wrangling\n"
   ]
  },
  {
   "cell_type": "code",
   "execution_count": null,
   "metadata": {},
   "outputs": [],
   "source": [
    "# import all packages and set plots to be embedded inline\n",
    "import numpy as np\n",
    "import pandas as pd\n",
    "import matplotlib.pyplot as plt\n",
    "from matplotlib.ticker import ScalarFormatter\n",
    "import seaborn as sns\n",
    "import math\n",
    "\n",
    "%matplotlib inline"
   ]
  },
  {
   "cell_type": "markdown",
   "metadata": {},
   "source": [
    "> Load in your dataset and describe its properties through the questions below. Try and motivate your exploration goals through this section.\n"
   ]
  },
  {
   "cell_type": "code",
   "execution_count": 291,
   "metadata": {},
   "outputs": [
    {
     "data": {
      "text/html": [
       "<div>\n",
       "<style scoped>\n",
       "    .dataframe tbody tr th:only-of-type {\n",
       "        vertical-align: middle;\n",
       "    }\n",
       "\n",
       "    .dataframe tbody tr th {\n",
       "        vertical-align: top;\n",
       "    }\n",
       "\n",
       "    .dataframe thead th {\n",
       "        text-align: right;\n",
       "    }\n",
       "</style>\n",
       "<table border=\"1\" class=\"dataframe\">\n",
       "  <thead>\n",
       "    <tr style=\"text-align: right;\">\n",
       "      <th></th>\n",
       "      <th>ListingKey</th>\n",
       "      <th>ListingNumber</th>\n",
       "      <th>ListingCreationDate</th>\n",
       "      <th>CreditGrade</th>\n",
       "      <th>Term</th>\n",
       "      <th>LoanStatus</th>\n",
       "      <th>ClosedDate</th>\n",
       "      <th>BorrowerAPR</th>\n",
       "      <th>BorrowerRate</th>\n",
       "      <th>LenderYield</th>\n",
       "      <th>...</th>\n",
       "      <th>LP_ServiceFees</th>\n",
       "      <th>LP_CollectionFees</th>\n",
       "      <th>LP_GrossPrincipalLoss</th>\n",
       "      <th>LP_NetPrincipalLoss</th>\n",
       "      <th>LP_NonPrincipalRecoverypayments</th>\n",
       "      <th>PercentFunded</th>\n",
       "      <th>Recommendations</th>\n",
       "      <th>InvestmentFromFriendsCount</th>\n",
       "      <th>InvestmentFromFriendsAmount</th>\n",
       "      <th>Investors</th>\n",
       "    </tr>\n",
       "  </thead>\n",
       "  <tbody>\n",
       "    <tr>\n",
       "      <th>0</th>\n",
       "      <td>1021339766868145413AB3B</td>\n",
       "      <td>193129</td>\n",
       "      <td>2007-08-26 19:09:29.263</td>\n",
       "      <td>C</td>\n",
       "      <td>36</td>\n",
       "      <td>Completed</td>\n",
       "      <td>2009-08-14</td>\n",
       "      <td>0.16516</td>\n",
       "      <td>0.1580</td>\n",
       "      <td>0.1380</td>\n",
       "      <td>...</td>\n",
       "      <td>-133.18</td>\n",
       "      <td>0.0</td>\n",
       "      <td>0.0</td>\n",
       "      <td>0.0</td>\n",
       "      <td>0.0</td>\n",
       "      <td>1.0</td>\n",
       "      <td>0</td>\n",
       "      <td>0</td>\n",
       "      <td>0.0</td>\n",
       "      <td>258</td>\n",
       "    </tr>\n",
       "    <tr>\n",
       "      <th>1</th>\n",
       "      <td>10273602499503308B223C1</td>\n",
       "      <td>1209647</td>\n",
       "      <td>2014-02-27 08:28:07.900</td>\n",
       "      <td>NaN</td>\n",
       "      <td>36</td>\n",
       "      <td>Current</td>\n",
       "      <td>NaT</td>\n",
       "      <td>0.12016</td>\n",
       "      <td>0.0920</td>\n",
       "      <td>0.0820</td>\n",
       "      <td>...</td>\n",
       "      <td>0.00</td>\n",
       "      <td>0.0</td>\n",
       "      <td>0.0</td>\n",
       "      <td>0.0</td>\n",
       "      <td>0.0</td>\n",
       "      <td>1.0</td>\n",
       "      <td>0</td>\n",
       "      <td>0</td>\n",
       "      <td>0.0</td>\n",
       "      <td>1</td>\n",
       "    </tr>\n",
       "    <tr>\n",
       "      <th>2</th>\n",
       "      <td>0EE9337825851032864889A</td>\n",
       "      <td>81716</td>\n",
       "      <td>2007-01-05 15:00:47.090</td>\n",
       "      <td>HR</td>\n",
       "      <td>36</td>\n",
       "      <td>Completed</td>\n",
       "      <td>2009-12-17</td>\n",
       "      <td>0.28269</td>\n",
       "      <td>0.2750</td>\n",
       "      <td>0.2400</td>\n",
       "      <td>...</td>\n",
       "      <td>-24.20</td>\n",
       "      <td>0.0</td>\n",
       "      <td>0.0</td>\n",
       "      <td>0.0</td>\n",
       "      <td>0.0</td>\n",
       "      <td>1.0</td>\n",
       "      <td>0</td>\n",
       "      <td>0</td>\n",
       "      <td>0.0</td>\n",
       "      <td>41</td>\n",
       "    </tr>\n",
       "    <tr>\n",
       "      <th>3</th>\n",
       "      <td>0EF5356002482715299901A</td>\n",
       "      <td>658116</td>\n",
       "      <td>2012-10-22 11:02:35.010</td>\n",
       "      <td>NaN</td>\n",
       "      <td>36</td>\n",
       "      <td>Current</td>\n",
       "      <td>NaT</td>\n",
       "      <td>0.12528</td>\n",
       "      <td>0.0974</td>\n",
       "      <td>0.0874</td>\n",
       "      <td>...</td>\n",
       "      <td>-108.01</td>\n",
       "      <td>0.0</td>\n",
       "      <td>0.0</td>\n",
       "      <td>0.0</td>\n",
       "      <td>0.0</td>\n",
       "      <td>1.0</td>\n",
       "      <td>0</td>\n",
       "      <td>0</td>\n",
       "      <td>0.0</td>\n",
       "      <td>158</td>\n",
       "    </tr>\n",
       "    <tr>\n",
       "      <th>4</th>\n",
       "      <td>0F023589499656230C5E3E2</td>\n",
       "      <td>909464</td>\n",
       "      <td>2013-09-14 18:38:39.097</td>\n",
       "      <td>NaN</td>\n",
       "      <td>36</td>\n",
       "      <td>Current</td>\n",
       "      <td>NaT</td>\n",
       "      <td>0.24614</td>\n",
       "      <td>0.2085</td>\n",
       "      <td>0.1985</td>\n",
       "      <td>...</td>\n",
       "      <td>-60.27</td>\n",
       "      <td>0.0</td>\n",
       "      <td>0.0</td>\n",
       "      <td>0.0</td>\n",
       "      <td>0.0</td>\n",
       "      <td>1.0</td>\n",
       "      <td>0</td>\n",
       "      <td>0</td>\n",
       "      <td>0.0</td>\n",
       "      <td>20</td>\n",
       "    </tr>\n",
       "  </tbody>\n",
       "</table>\n",
       "<p>5 rows × 81 columns</p>\n",
       "</div>"
      ],
      "text/plain": [
       "                ListingKey  ListingNumber     ListingCreationDate CreditGrade  \\\n",
       "0  1021339766868145413AB3B         193129 2007-08-26 19:09:29.263           C   \n",
       "1  10273602499503308B223C1        1209647 2014-02-27 08:28:07.900         NaN   \n",
       "2  0EE9337825851032864889A          81716 2007-01-05 15:00:47.090          HR   \n",
       "3  0EF5356002482715299901A         658116 2012-10-22 11:02:35.010         NaN   \n",
       "4  0F023589499656230C5E3E2         909464 2013-09-14 18:38:39.097         NaN   \n",
       "\n",
       "   Term LoanStatus ClosedDate  BorrowerAPR  BorrowerRate  LenderYield  ...  \\\n",
       "0    36  Completed 2009-08-14      0.16516        0.1580       0.1380  ...   \n",
       "1    36    Current        NaT      0.12016        0.0920       0.0820  ...   \n",
       "2    36  Completed 2009-12-17      0.28269        0.2750       0.2400  ...   \n",
       "3    36    Current        NaT      0.12528        0.0974       0.0874  ...   \n",
       "4    36    Current        NaT      0.24614        0.2085       0.1985  ...   \n",
       "\n",
       "   LP_ServiceFees  LP_CollectionFees  LP_GrossPrincipalLoss  \\\n",
       "0         -133.18                0.0                    0.0   \n",
       "1            0.00                0.0                    0.0   \n",
       "2          -24.20                0.0                    0.0   \n",
       "3         -108.01                0.0                    0.0   \n",
       "4          -60.27                0.0                    0.0   \n",
       "\n",
       "   LP_NetPrincipalLoss LP_NonPrincipalRecoverypayments  PercentFunded  \\\n",
       "0                  0.0                             0.0            1.0   \n",
       "1                  0.0                             0.0            1.0   \n",
       "2                  0.0                             0.0            1.0   \n",
       "3                  0.0                             0.0            1.0   \n",
       "4                  0.0                             0.0            1.0   \n",
       "\n",
       "   Recommendations InvestmentFromFriendsCount InvestmentFromFriendsAmount  \\\n",
       "0                0                          0                         0.0   \n",
       "1                0                          0                         0.0   \n",
       "2                0                          0                         0.0   \n",
       "3                0                          0                         0.0   \n",
       "4                0                          0                         0.0   \n",
       "\n",
       "  Investors  \n",
       "0       258  \n",
       "1         1  \n",
       "2        41  \n",
       "3       158  \n",
       "4        20  \n",
       "\n",
       "[5 rows x 81 columns]"
      ]
     },
     "execution_count": 291,
     "metadata": {},
     "output_type": "execute_result"
    }
   ],
   "source": [
    "# load data and check the first five records\n",
    "# make sure the dates are correctly parsed\n",
    "\n",
    "loans = pd.read_csv('../dataset/prosperLoanData.csv', parse_dates=['ListingCreationDate',\n",
    "    'LoanOriginationDate', 'ClosedDate', 'DateCreditPulled'])\n",
    "\n",
    "loans.head()"
   ]
  },
  {
   "cell_type": "code",
   "execution_count": null,
   "metadata": {},
   "outputs": [],
   "source": [
    "# check the size of the dataset and whether it contains duplicate listings.\n",
    "\n",
    "print(\"Shape of the dataframe:\", loans.shape)\n",
    "print(\"Number of duplicate records:\", loans.duplicated().sum())"
   ]
  },
  {
   "cell_type": "code",
   "execution_count": null,
   "metadata": {},
   "outputs": [],
   "source": [
    "# columns and their data types\n",
    "\n",
    "dtypes = ['bool', 'int64', 'float64', 'object']\n",
    "\n",
    "for dtype in dtypes:\n",
    "    print(f\"{dtype}\\n{set(loans.dtypes[loans.dtypes == dtype].index)}\\n\")"
   ]
  },
  {
   "cell_type": "code",
   "execution_count": 292,
   "metadata": {},
   "outputs": [],
   "source": [
    "# make ListingCategory (numeric), ProsperScore and Term of categorical types\n",
    "\n",
    "def create_category_type(categories, ordered=False):\n",
    "    \"\"\"\n",
    "        Create category type from the list of categories\n",
    "\n",
    "        Args:\n",
    "           list: the list of categories\n",
    "           bool: whether the category type should be ordered. This is False by default\n",
    "\n",
    "        Returns:\n",
    "           a pandas CategoricalDtype object.\n",
    "    \"\"\"\n",
    "    return pd.api.types.CategoricalDtype(categories=categories, ordered=ordered)\n",
    "\n",
    "loans['ListingCategory (numeric)'] = loans['ListingCategory (numeric)'].astype(\n",
    "    create_category_type(range(21))\n",
    ")\n",
    "\n",
    "loans.Term = loans.Term.astype(create_category_type([12,36,60], ordered=True))\n",
    "\n",
    "# ProsperScore is an ordinal variable\n",
    "\n",
    "loans.ProsperScore = loans.ProsperScore.astype(create_category_type(categories=range(1,12), ordered=True))"
   ]
  },
  {
   "cell_type": "code",
   "execution_count": null,
   "metadata": {},
   "outputs": [],
   "source": [
    "# value counts of IncomeRange\n",
    "\n",
    "print('Value counts of IncomeRange: \\n',loans.IncomeRange.value_counts(dropna=False))\n",
    "print()\n",
    "print('Value counts of EmploymentStatus: \\n', loans.EmploymentStatus.value_counts(dropna=False))"
   ]
  },
  {
   "cell_type": "markdown",
   "metadata": {},
   "source": [
    "There are about 2255 records with a missing EmploymentStatus. Let's explore their Income ranges and compair them with those of borrowers with a \"Not available\" employment status."
   ]
  },
  {
   "cell_type": "code",
   "execution_count": null,
   "metadata": {},
   "outputs": [],
   "source": [
    "# Income range of borrowers with missing employment status\n",
    "\n",
    "print('Income range of borrowers with missing employment status\\n',\n",
    "    loans[loans.EmploymentStatus.isna()][[\"IncomeRange\"]].value_counts()\n",
    ")\n",
    "\n",
    "print()\n",
    "\n",
    "# Income range of borrowers with a \"Not available\" employment status\n",
    "print('Income range of borrowers with a \"Not available\" employment status',\n",
    "      loans[loans.EmploymentStatus == \"Not available\"][['IncomeRange']].value_counts()\n",
    ")"
   ]
  },
  {
   "cell_type": "markdown",
   "metadata": {},
   "source": [
    "Both have a \"Not displayed\" income range. Therefore, we can safely assume that these missing records don't have available employment status. So, we would replace them with \"Not available\"."
   ]
  },
  {
   "cell_type": "code",
   "execution_count": 293,
   "metadata": {},
   "outputs": [
    {
     "data": {
      "text/plain": [
       "Employed         67322\n",
       "Full-time        26355\n",
       "Not available     7602\n",
       "Self-employed     6134\n",
       "Other             3806\n",
       "Part-time         1088\n",
       "Not employed       835\n",
       "Retired            795\n",
       "Name: EmploymentStatus, dtype: int64"
      ]
     },
     "execution_count": 293,
     "metadata": {},
     "output_type": "execute_result"
    }
   ],
   "source": [
    "# replacing missing Employment status records with \"Not available\"\n",
    "\n",
    "loans.EmploymentStatus.fillna(\"Not available\", inplace=True)\n",
    "\n",
    "loans.EmploymentStatus.value_counts(dropna=False)"
   ]
  },
  {
   "cell_type": "markdown",
   "metadata": {},
   "source": [
    "We will also merge the records of borrowers with a \"Full-time\" and \"Part-time\" employment status to those with an \"Employed\" status since we can assume that people with a full-time or part-time job are employed by some employer."
   ]
  },
  {
   "cell_type": "code",
   "execution_count": 294,
   "metadata": {},
   "outputs": [
    {
     "data": {
      "text/plain": [
       "Employed         94765\n",
       "Not available     7602\n",
       "Self-employed     6134\n",
       "Other             3806\n",
       "Not employed       835\n",
       "Retired            795\n",
       "Name: EmploymentStatus, dtype: int64"
      ]
     },
     "execution_count": 294,
     "metadata": {},
     "output_type": "execute_result"
    }
   ],
   "source": [
    "values_to_replace = ['Full-time', 'Part-time']\n",
    "for value in values_to_replace:\n",
    "    loans.EmploymentStatus.replace(value, \"Employed\", inplace=True)\n",
    "\n",
    "loans.EmploymentStatus.value_counts()"
   ]
  },
  {
   "cell_type": "markdown",
   "metadata": {},
   "source": [
    "It is also not logical to have \"Not employed\" in the possible income range. Let's do a value count of their stated monthly income."
   ]
  },
  {
   "cell_type": "code",
   "execution_count": 295,
   "metadata": {},
   "outputs": [
    {
     "data": {
      "text/plain": [
       "0.000000        726\n",
       "0.083333         22\n",
       "583.333333        2\n",
       "833.333333        2\n",
       "1000.000000       2\n",
       "1250.000000       1\n",
       "4000.000000       1\n",
       "964.333333        1\n",
       "839.666667        1\n",
       "393.416667        1\n",
       "860.000000        1\n",
       "1400.000000       1\n",
       "1500.000000       1\n",
       "480.000000        1\n",
       "20833.333333      1\n",
       "2348.000000       1\n",
       "57.583333         1\n",
       "669.000000        1\n",
       "1507.000000       1\n",
       "430.000000        1\n",
       "738.166667        1\n",
       "6666.666667       1\n",
       "875.000000        1\n",
       "1916.666667       1\n",
       "9096.000000       1\n",
       "1173.000000       1\n",
       "3000.000000       1\n",
       "4166.666667       1\n",
       "1409.250000       1\n",
       "2972.000000       1\n",
       "643.000000        1\n",
       "5833.333333       1\n",
       "1014.000000       1\n",
       "856.000000        1\n",
       "1211.666667       1\n",
       "623.000000        1\n",
       "2926.000000       1\n",
       "1505.000000       1\n",
       "175.000000        1\n",
       "3500.000000       1\n",
       "3633.000000       1\n",
       "2167.583333       1\n",
       "125.250000        1\n",
       "1820.000000       1\n",
       "1360.000000       1\n",
       "2025.000000       1\n",
       "828.000000        1\n",
       "37.500000         1\n",
       "3333.333333       1\n",
       "2775.916667       1\n",
       "4126.416667       1\n",
       "56.250000         1\n",
       "868.000000        1\n",
       "2166.666667       1\n",
       "500.000000        1\n",
       "900.000000        1\n",
       "1289.000000       1\n",
       "Name: StatedMonthlyIncome, dtype: int64"
      ]
     },
     "execution_count": 295,
     "metadata": {},
     "output_type": "execute_result"
    }
   ],
   "source": [
    "loans[loans.IncomeRange == \"Not employed\"].StatedMonthlyIncome.value_counts(dropna=False)"
   ]
  },
  {
   "cell_type": "markdown",
   "metadata": {},
   "source": [
    "From the counts, we can't assume that the true income range value of every borrower with a \"Not employed\" income range will be $0. Since the income range isn't displayed, it will be safe to merge these records with those whose income range isn't displayed."
   ]
  },
  {
   "cell_type": "code",
   "execution_count": 296,
   "metadata": {},
   "outputs": [
    {
     "data": {
      "text/plain": [
       "$25,000-49,999    32192\n",
       "$50,000-74,999    31050\n",
       "$100,000+         17337\n",
       "$75,000-99,999    16916\n",
       "Not displayed      8547\n",
       "$1-24,999          7274\n",
       "$0                  621\n",
       "Name: IncomeRange, dtype: int64"
      ]
     },
     "execution_count": 296,
     "metadata": {},
     "output_type": "execute_result"
    }
   ],
   "source": [
    "loans.IncomeRange.replace(\"Not employed\", \"Not displayed\", inplace=True)\n",
    "\n",
    "loans.IncomeRange.value_counts(dropna=False)"
   ]
  },
  {
   "cell_type": "markdown",
   "metadata": {},
   "source": [
    "Let's make `IncomeRange` and `EmploymentStatus` categorical variables."
   ]
  },
  {
   "cell_type": "code",
   "execution_count": 297,
   "metadata": {},
   "outputs": [],
   "source": [
    "# IncomeRange should be categorical\n",
    "\n",
    "categories = ['$0', '$1-24,999', '$25,000-49,999', '$50,000-74,999',\n",
    "               '$75,000-99,999', '$100,000+', 'Not displayed']\n",
    "\n",
    "loans.IncomeRange = loans.IncomeRange.astype(create_category_type(categories=categories, ordered=True))\n",
    "\n",
    "# EmploymentStatus should also be categorical\n",
    "\n",
    "categories = ['Not employed', 'Self-employed', 'Employed', 'Retired', 'Other', 'Not available']\n",
    "loans.EmploymentStatus = loans.EmploymentStatus.astype(create_category_type(categories=categories))"
   ]
  },
  {
   "cell_type": "markdown",
   "metadata": {},
   "source": [
    "It also makes sense to make `LoanStatus` a categorical variable."
   ]
  },
  {
   "cell_type": "code",
   "execution_count": 298,
   "metadata": {},
   "outputs": [
    {
     "data": {
      "text/plain": [
       "Current                   56576\n",
       "Completed                 38074\n",
       "Chargedoff                11992\n",
       "Defaulted                  5018\n",
       "Past Due (1-15 days)        806\n",
       "Past Due (31-60 days)       363\n",
       "Past Due (61-90 days)       313\n",
       "Past Due (91-120 days)      304\n",
       "Past Due (16-30 days)       265\n",
       "FinalPaymentInProgress      205\n",
       "Past Due (>120 days)         16\n",
       "Cancelled                     5\n",
       "Name: LoanStatus, dtype: int64"
      ]
     },
     "execution_count": 298,
     "metadata": {},
     "output_type": "execute_result"
    }
   ],
   "source": [
    "# check values of LoanStatus\n",
    "\n",
    "loans.LoanStatus.value_counts()"
   ]
  },
  {
   "cell_type": "markdown",
   "metadata": {},
   "source": [
    "However, we won't be analyzing current and cancelled loans. Therefore, we will only be concerned with records that don't have these statuses."
   ]
  },
  {
   "cell_type": "code",
   "execution_count": 300,
   "metadata": {},
   "outputs": [
    {
     "name": "stdout",
     "output_type": "stream",
     "text": [
      "(57356, 81)\n"
     ]
    }
   ],
   "source": [
    "# We won't consider current and cancelled loans in our analysis.\n",
    "\n",
    "excluded_list = ['Current', 'Cancelled']\n",
    "\n",
    "loan_sub_data = loans.query('LoanStatus not in @excluded_list').copy()\n",
    "\n",
    "# the loan status should be categorical. We will also make it ordinal\n",
    "\n",
    "categories = ['Completed', 'FinalPaymentInProgress',\n",
    " 'Past Due (1-15 days)', 'Past Due (16-30 days)', 'Past Due (31-60 days)', \n",
    "'Past Due (61-90 days)', 'Past Due (91-120 days)', 'Past Due (>120 days)', \n",
    "'Defaulted', 'Chargedoff']\n",
    "\n",
    "loan_sub_data.LoanStatus = loan_sub_data.LoanStatus.astype(create_category_type(categories=categories, ordered=True))\n",
    "\n",
    "# The shape of the subset of data we will be analyzing\n",
    "\n",
    "print(loan_sub_data.shape)"
   ]
  },
  {
   "cell_type": "code",
   "execution_count": 301,
   "metadata": {},
   "outputs": [
    {
     "data": {
      "text/plain": [
       "Index(['ListingKey', 'ListingNumber', 'ListingCreationDate', 'Term',\n",
       "       'LoanStatus', 'BorrowerRate', 'LenderYield',\n",
       "       'ListingCategory (numeric)', 'EmploymentStatus', 'IsBorrowerHomeowner',\n",
       "       'CurrentlyInGroup', 'DateCreditPulled', 'OpenRevolvingAccounts',\n",
       "       'OpenRevolvingMonthlyPayment', 'IncomeRange', 'IncomeVerifiable',\n",
       "       'StatedMonthlyIncome', 'LoanKey', 'LoanCurrentDaysDelinquent',\n",
       "       'LoanMonthsSinceOrigination', 'LoanNumber', 'LoanOriginalAmount',\n",
       "       'LoanOriginationDate', 'LoanOriginationQuarter', 'MemberKey',\n",
       "       'MonthlyLoanPayment', 'LP_CustomerPayments',\n",
       "       'LP_CustomerPrincipalPayments', 'LP_InterestandFees', 'LP_ServiceFees',\n",
       "       'LP_CollectionFees', 'LP_GrossPrincipalLoss', 'LP_NetPrincipalLoss',\n",
       "       'LP_NonPrincipalRecoverypayments', 'PercentFunded', 'Recommendations',\n",
       "       'InvestmentFromFriendsCount', 'InvestmentFromFriendsAmount',\n",
       "       'Investors'],\n",
       "      dtype='object')"
      ]
     },
     "execution_count": 301,
     "metadata": {},
     "output_type": "execute_result"
    }
   ],
   "source": [
    "# columns without null values\n",
    "\n",
    "columns_without_null = loan_sub_data.isna().sum()==0\n",
    "loan_sub_data.isna().sum()[columns_without_null].index"
   ]
  },
  {
   "cell_type": "code",
   "execution_count": 302,
   "metadata": {},
   "outputs": [
    {
     "data": {
      "text/plain": [
       "Index(['CreditGrade', 'ClosedDate', 'BorrowerAPR', 'EstimatedEffectiveYield',\n",
       "       'EstimatedLoss', 'EstimatedReturn', 'ProsperRating (numeric)',\n",
       "       'ProsperRating (Alpha)', 'ProsperScore', 'BorrowerState', 'Occupation',\n",
       "       'EmploymentStatusDuration', 'GroupKey', 'CreditScoreRangeLower',\n",
       "       'CreditScoreRangeUpper', 'FirstRecordedCreditLine',\n",
       "       'CurrentCreditLines', 'OpenCreditLines', 'TotalCreditLinespast7years',\n",
       "       'InquiriesLast6Months', 'TotalInquiries', 'CurrentDelinquencies',\n",
       "       'AmountDelinquent', 'DelinquenciesLast7Years',\n",
       "       'PublicRecordsLast10Years', 'PublicRecordsLast12Months',\n",
       "       'RevolvingCreditBalance', 'BankcardUtilization',\n",
       "       'AvailableBankcardCredit', 'TotalTrades',\n",
       "       'TradesNeverDelinquent (percentage)', 'TradesOpenedLast6Months',\n",
       "       'DebtToIncomeRatio', 'TotalProsperLoans', 'TotalProsperPaymentsBilled',\n",
       "       'OnTimeProsperPayments', 'ProsperPaymentsLessThanOneMonthLate',\n",
       "       'ProsperPaymentsOneMonthPlusLate', 'ProsperPrincipalBorrowed',\n",
       "       'ProsperPrincipalOutstanding', 'ScorexChangeAtTimeOfListing',\n",
       "       'LoanFirstDefaultedCycleNumber'],\n",
       "      dtype='object')"
      ]
     },
     "execution_count": 302,
     "metadata": {},
     "output_type": "execute_result"
    }
   ],
   "source": [
    "# columns with null values\n",
    "\n",
    "columns_with_null = loan_sub_data.isna().sum()>0\n",
    "loan_sub_data.isna().sum()[columns_with_null].index"
   ]
  },
  {
   "cell_type": "markdown",
   "metadata": {},
   "source": [
    "### What is the structure of your dataset?\n",
    "The dataset comprises 113937 observations and 81 variables which comprises both qualitative and quantitative variables. Some of them contain null values which means that there are no existing records for the borrower concerned. For instance, according to the [data dictionary](https://docs.google.com/spreadsheets/d/1gDyi_L4UvIrLTEC6Wri5nbaMmkGmLQBk-Yx3z0XDEtI/edit#gid=0), a borrower with a null `TotalProsperLoans` value doesn't have prior loans. The categorical variables includes `ListingCategory (numeric)`, `LoanStatus`, `IncomeRange`, `ProsperScore`, and `Term`. `ListingCategory (numeric)` is encoded as follows: 0 - Not Available, 1 - Debt Consolidation, 2 - Home \n",
    "Improvement, 3 - Business, 4 - Personal Loan, 5 - Student Use, 6 - Auto, 7- Other, 8 - Baby&Adoption, 9 - Boat, 10 - Cosmetic \n",
    "Procedure, 11 - Engagement Ring, 12 - Green Loans, 13 - Household Expenses, 14 - Large Purchases, 15 - Medical/Dental, 16 - \n",
    "Motorcycle, 17 - RV, 18 - Taxes, 19 - Vacation, 20 - Wedding Loans. `ProsperScore` include values from 1 to 11 with decreasing levels of risk.\n",
    "\n",
    "### What is/are the main feature(s) of interest in your dataset?\n",
    "\n",
    "I want to investigate the factors that could affect the outcome of a loan. In particular, I will be considering those that affect complete, default and charged-off loans. Therefore, I won't be considering current or cancelled loans in this analysis. \n",
    "\n",
    "### What features in the dataset do you think will help support your investigation into your feature(s) of interest?\n",
    "\n",
    "The original loan amount (`LoanOriginalAmount`) and the principal payments (`LP_CustomerPrincipalPayments`) made by the borrowers are interesting variables to consider. Other variables we would be considering includes: the annual percentage rates (`BorrowerAPR`), interests and fees paid by borrowers (`LP_InterestandFees`), term of the loan (`Term`), number of days the borrower was delinquent on the loan (`LoanCurrentDaysDelinquent`), income range (`IncomeRange`), employment status (`EmploymentStatus`), listing category (`ListingCategory (numeric)`), and total number of prior prosper loans (`TotalProsperLoans`)."
   ]
  },
  {
   "cell_type": "markdown",
   "metadata": {},
   "source": [
    "## Univariate Exploration\n",
    "\n",
    "I'll begin by looking at the distribution of the main variable of interest – `LoanStatus`.\n",
    "\n",
    "> In this section, investigate distributions of individual variables. If\n",
    "you see unusual points or outliers, take a deeper look to clean things up\n",
    "and prepare yourself to look at relationships between variables.\n",
    "\n",
    "\n",
    "> **Rubric Tip**: The project (Parts I alone) should have at least 15 visualizations distributed over univariate, bivariate, and multivariate plots to explore many relationships in the data set.  Use reasoning to justify the flow of the exploration.\n",
    "\n",
    "\n",
    "\n",
    ">**Rubric Tip**: Use the \"Question-Visualization-Observations\" framework  throughout the exploration. This framework involves **asking a question from the data, creating a visualization to find answers, and then recording observations after each visualisation.** \n",
    "\n",
    "##### Which loan status has the highest frequency count?"
   ]
  },
  {
   "cell_type": "code",
   "execution_count": 303,
   "metadata": {},
   "outputs": [
    {
     "data": {
      "image/png": "[encoded data removed]",
      "text/plain": [
       "<Figure size 432x288 with 1 Axes>"
      ]
     },
     "metadata": {
      "needs_background": "light"
     },
     "output_type": "display_data"
    }
   ],
   "source": [
    "# plot distribution of LoanStatus\n",
    "\n",
    "sns.countplot(data=loan_sub_data, y='LoanStatus', color=sns.color_palette()[0])\n",
    "plt.xlabel('Count')\n",
    "plt.ylabel('Loan status')\n",
    "plt.title('Count of each loan status')\n",
    "plt.show();"
   ]
  },
  {
   "cell_type": "markdown",
   "metadata": {},
   "source": [
    "The above plot shows that most borrowers completed their loans while the least of them are more than 120 days passed due. \n",
    "\n",
    "##### What are the distributions of the income range and employment status?"
   ]
  },
  {
   "cell_type": "code",
   "execution_count": 304,
   "metadata": {},
   "outputs": [
    {
     "data": {
      "image/png": "[encoded data removed]",
      "text/plain": [
       "<Figure size 1296x360 with 2 Axes>"
      ]
     },
     "metadata": {
      "needs_background": "light"
     },
     "output_type": "display_data"
    }
   ],
   "source": [
    "fig,axs = plt.subplots(1,2,figsize=(18,5))\n",
    "\n",
    "# distribution of income range\n",
    "\n",
    "ax1 = sns.countplot(data=loan_sub_data, x='IncomeRange', color=sns.color_palette()[0],\n",
    "                    ax=axs[0])\n",
    "ax1.set(xlabel='Income range per annum',\n",
    "        title='Frequency of each income range')\n",
    "ax1.set_xticklabels(labels=ax1.get_xticklabels(), rotation=60)\n",
    "\n",
    "# distribution of employment status\n",
    "\n",
    "ax2 = sns.countplot(data=loan_sub_data, x='EmploymentStatus', color=sns.color_palette()[0], \n",
    "        order=loan_sub_data.EmploymentStatus.value_counts().index, ax=axs[1])\n",
    "ax2.set(xlabel=\"Employment status\",\n",
    "        title=\"Frequency of each employment status\")\n",
    "\n",
    "plt.show();\n"
   ]
  },
  {
   "cell_type": "markdown",
   "metadata": {},
   "source": [
    "From the plots, most borrowers stated that have an annual income that falls in the range of $25,000 to $49,999. A very few had $0 annual income. Also, most borrowers are employed with a very stated as unemployed. The employment status of a considerable number of borrowers is not available.\n",
    "\n",
    "##### What are the distributions of the original loan amount, and the amount of principal as well as interests and fees paid by the borrowers?"
   ]
  },
  {
   "cell_type": "code",
   "execution_count": 305,
   "metadata": {},
   "outputs": [
    {
     "data": {
      "image/png": "[encoded data removed]",
      "text/plain": [
       "<Figure size 1080x360 with 3 Axes>"
      ]
     },
     "metadata": {
      "needs_background": "light"
     },
     "output_type": "display_data"
    }
   ],
   "source": [
    "def get_bin_counts(series):\n",
    "    \"\"\"\n",
    "       computes number of bins needed to plot the histogram of series\n",
    "       using Freedman Diaconis algorithm if the IQR is not 0 else\n",
    "       take the square root of the number of data points rounded up\n",
    "       to the nearest integer\n",
    "       \n",
    "       :param series: quantitative pandas series\n",
    "       :return integer: the number of bins\n",
    "    \"\"\"\n",
    "    if series.quantile(0.75) - series.quantile(0.25) != 0:\n",
    "        bin_width = 2*((series.quantile(0.75)-series.quantile(0.25))/(np.power(series.shape[0],1/3)))\n",
    "        return ((series.max()-series.min())//bin_width).astype(int)\n",
    "    return int(math.ceil(math.sqrt(series.shape[0])))\n",
    "\n",
    "# distribution of the original loan amount\n",
    "\n",
    "fig, axes = plt.subplots(1,3, figsize=(15,5))\n",
    "\n",
    "ax1 = sns.histplot(data=loan_sub_data, x='LoanOriginalAmount', \n",
    "                  bins=get_bin_counts(loan_sub_data.LoanOriginalAmount), ax=axes[0])\n",
    "\n",
    "ax1.set(xlabel='Loan original amount in USD',\n",
    "        title='Distribution of loan original amounts')\n",
    "\n",
    "# distribution of the amount of principal paid\n",
    "\n",
    "ax2 = sns.histplot(data=loan_sub_data, x='LP_CustomerPrincipalPayments',\n",
    "                   bins=get_bin_counts(loan_sub_data.LP_CustomerPayments), ax=axes[1])\n",
    "\n",
    "ax2.set(xlabel='Amount of principal paid in USD',\n",
    "        title='Distribution of principal paid')\n",
    "\n",
    "# distribution of the interest and fees paid\n",
    "\n",
    "ax3 = sns.histplot(data=loan_sub_data, x='LP_InterestandFees', \n",
    "               bins=get_bin_counts(loan_sub_data.LP_InterestandFees), ax=axes[2])\n",
    "\n",
    "ax3.set_xlim(-50, 10000)\n",
    "\n",
    "ax3.set(xlabel='Interests and Fees paid in USD',\n",
    "        title='Distribution of the interest and fees paid in USD')\n",
    "\n",
    "plt.show();"
   ]
  },
  {
   "cell_type": "markdown",
   "metadata": {},
   "source": [
    "Both distributions are right skewed with several peaks. This shows that there is a relationship between the original loan amount and the principal paid by the borrowers which is expected. The distribution of the principal paid roughly shows that the number of borrowers that paid a certain principal decreases as the amount increases. This trend is more clearly seen in the distribution of the interest and fees paid. There might be a positive relationship between the amount of principal paid and the interest and fees paid by the borrowers. Let's take a look at the distribution of the outstanding principal balance.\n",
    "\n",
    "##### What is the distribution of the principal outstanding on the loans?\n",
    "\n"
   ]
  },
  {
   "cell_type": "code",
   "execution_count": 306,
   "metadata": {},
   "outputs": [
    {
     "data": {
      "image/png": "[encoded data removed]",
      "text/plain": [
       "<Figure size 432x288 with 1 Axes>"
      ]
     },
     "metadata": {
      "needs_background": "light"
     },
     "output_type": "display_data"
    }
   ],
   "source": [
    "# we will create a new column LoanPrincipalOutstanding\n",
    "\n",
    "loan_sub_data['LoanPrincipalOutstanding'] = loan_sub_data.LoanOriginalAmount - loan_sub_data.LP_CustomerPrincipalPayments\n",
    "\n",
    "# We can now check out its distribution\n",
    "sns.histplot(data=loan_sub_data, x='LoanPrincipalOutstanding',\n",
    "            bins=get_bin_counts(loan_sub_data.LoanPrincipalOutstanding))\n",
    "\n",
    "plt.xlabel('Loan principal outstanding in USD')\n",
    "plt.title('Distribution of loan principal outstanding')\n",
    "\n",
    "plt.show();"
   ]
  },
  {
   "cell_type": "markdown",
   "metadata": {},
   "source": [
    "The plot doesn't look so good. Let's plot it on a log scale along the y-axis."
   ]
  },
  {
   "cell_type": "code",
   "execution_count": 307,
   "metadata": {},
   "outputs": [
    {
     "data": {
      "image/png": "[encoded data removed]",
      "text/plain": [
       "<Figure size 432x288 with 1 Axes>"
      ]
     },
     "metadata": {
      "needs_background": "light"
     },
     "output_type": "display_data"
    }
   ],
   "source": [
    "# distribution of the loan principal outstanding on a log scale along the y-axis\n",
    "\n",
    "sns.histplot(data=loan_sub_data, x='LoanPrincipalOutstanding',\n",
    "            bins=get_bin_counts(loan_sub_data.LoanPrincipalOutstanding))\n",
    "            \n",
    "plt.yscale('log')\n",
    "plt.xlabel('Loan principal outstanding in USD')\n",
    "plt.title('Distribution of loan principal outstanding')\n",
    "\n",
    "plt.show();"
   ]
  },
  {
   "cell_type": "markdown",
   "metadata": {},
   "source": [
    "The plot reveals some outliers before $0 and after $25,000. Let's take a look at the value counts of our new variable."
   ]
  },
  {
   "cell_type": "code",
   "execution_count": 268,
   "metadata": {},
   "outputs": [
    {
     "data": {
      "text/plain": [
       "-1423.51     1\n",
       "-1416.48     1\n",
       "-837.66      1\n",
       "-692.84      1\n",
       "-487.19      1\n",
       "            ..\n",
       " 28011.80    1\n",
       " 28277.71    1\n",
       " 31114.13    1\n",
       " 32998.22    1\n",
       " 34102.06    1\n",
       "Name: LoanPrincipalOutstanding, Length: 19781, dtype: int64"
      ]
     },
     "execution_count": 268,
     "metadata": {},
     "output_type": "execute_result"
    }
   ],
   "source": [
    "loan_sub_data.LoanPrincipalOutstanding.value_counts(dropna=False).sort_index()"
   ]
  },
  {
   "cell_type": "markdown",
   "metadata": {},
   "source": [
    "We can see that there are some negative principal outstandings which isn't quite right. Let's explore their original loan amounts and the amount of principal that has been paid. While we are at it, we will also explore their `LP_CustomerPayments` and `LP_InterestandFees` values."
   ]
  },
  {
   "cell_type": "code",
   "execution_count": 276,
   "metadata": {},
   "outputs": [
    {
     "data": {
      "text/html": [
       "<div>\n",
       "<style scoped>\n",
       "    .dataframe tbody tr th:only-of-type {\n",
       "        vertical-align: middle;\n",
       "    }\n",
       "\n",
       "    .dataframe tbody tr th {\n",
       "        vertical-align: top;\n",
       "    }\n",
       "\n",
       "    .dataframe thead th {\n",
       "        text-align: right;\n",
       "    }\n",
       "</style>\n",
       "<table border=\"1\" class=\"dataframe\">\n",
       "  <thead>\n",
       "    <tr style=\"text-align: right;\">\n",
       "      <th></th>\n",
       "      <th>LoanOriginalAmount</th>\n",
       "      <th>LP_CustomerPrincipalPayments</th>\n",
       "      <th>LP_CustomerPayments</th>\n",
       "      <th>LP_InterestandFees</th>\n",
       "    </tr>\n",
       "  </thead>\n",
       "  <tbody>\n",
       "    <tr>\n",
       "      <th>132</th>\n",
       "      <td>8600</td>\n",
       "      <td>8618.31</td>\n",
       "      <td>10373.47</td>\n",
       "      <td>1755.16</td>\n",
       "    </tr>\n",
       "    <tr>\n",
       "      <th>136</th>\n",
       "      <td>3000</td>\n",
       "      <td>3000.01</td>\n",
       "      <td>3985.53</td>\n",
       "      <td>985.52</td>\n",
       "    </tr>\n",
       "    <tr>\n",
       "      <th>156</th>\n",
       "      <td>5500</td>\n",
       "      <td>5500.01</td>\n",
       "      <td>7057.41</td>\n",
       "      <td>1557.40</td>\n",
       "    </tr>\n",
       "    <tr>\n",
       "      <th>197</th>\n",
       "      <td>3000</td>\n",
       "      <td>3000.01</td>\n",
       "      <td>3110.04</td>\n",
       "      <td>110.03</td>\n",
       "    </tr>\n",
       "    <tr>\n",
       "      <th>241</th>\n",
       "      <td>1100</td>\n",
       "      <td>1100.01</td>\n",
       "      <td>1793.46</td>\n",
       "      <td>693.45</td>\n",
       "    </tr>\n",
       "    <tr>\n",
       "      <th>...</th>\n",
       "      <td>...</td>\n",
       "      <td>...</td>\n",
       "      <td>...</td>\n",
       "      <td>...</td>\n",
       "    </tr>\n",
       "    <tr>\n",
       "      <th>113806</th>\n",
       "      <td>7500</td>\n",
       "      <td>7500.03</td>\n",
       "      <td>10053.24</td>\n",
       "      <td>2553.21</td>\n",
       "    </tr>\n",
       "    <tr>\n",
       "      <th>113818</th>\n",
       "      <td>10000</td>\n",
       "      <td>10007.34</td>\n",
       "      <td>11133.21</td>\n",
       "      <td>1125.87</td>\n",
       "    </tr>\n",
       "    <tr>\n",
       "      <th>113825</th>\n",
       "      <td>2550</td>\n",
       "      <td>2556.73</td>\n",
       "      <td>3686.24</td>\n",
       "      <td>1129.51</td>\n",
       "    </tr>\n",
       "    <tr>\n",
       "      <th>113843</th>\n",
       "      <td>6001</td>\n",
       "      <td>6001.01</td>\n",
       "      <td>7406.21</td>\n",
       "      <td>1405.20</td>\n",
       "    </tr>\n",
       "    <tr>\n",
       "      <th>113906</th>\n",
       "      <td>3001</td>\n",
       "      <td>3001.02</td>\n",
       "      <td>3320.89</td>\n",
       "      <td>319.87</td>\n",
       "    </tr>\n",
       "  </tbody>\n",
       "</table>\n",
       "<p>4135 rows × 4 columns</p>\n",
       "</div>"
      ],
      "text/plain": [
       "        LoanOriginalAmount  LP_CustomerPrincipalPayments  LP_CustomerPayments  \\\n",
       "132                   8600                       8618.31             10373.47   \n",
       "136                   3000                       3000.01              3985.53   \n",
       "156                   5500                       5500.01              7057.41   \n",
       "197                   3000                       3000.01              3110.04   \n",
       "241                   1100                       1100.01              1793.46   \n",
       "...                    ...                           ...                  ...   \n",
       "113806                7500                       7500.03             10053.24   \n",
       "113818               10000                      10007.34             11133.21   \n",
       "113825                2550                       2556.73              3686.24   \n",
       "113843                6001                       6001.01              7406.21   \n",
       "113906                3001                       3001.02              3320.89   \n",
       "\n",
       "        LP_InterestandFees  \n",
       "132                1755.16  \n",
       "136                 985.52  \n",
       "156                1557.40  \n",
       "197                 110.03  \n",
       "241                 693.45  \n",
       "...                    ...  \n",
       "113806             2553.21  \n",
       "113818             1125.87  \n",
       "113825             1129.51  \n",
       "113843             1405.20  \n",
       "113906              319.87  \n",
       "\n",
       "[4135 rows x 4 columns]"
      ]
     },
     "execution_count": 276,
     "metadata": {},
     "output_type": "execute_result"
    }
   ],
   "source": [
    "loan_sub_data[loan_sub_data.LoanPrincipalOutstanding < 0][['LoanOriginalAmount', 'LP_CustomerPrincipalPayments',\n",
    "                                                             'LP_CustomerPayments', 'LP_InterestandFees']]"
   ]
  },
  {
   "cell_type": "markdown",
   "metadata": {},
   "source": [
    "These are clearly outliers. The principal payments made by the borrowers can't be more than the loan original amount. The additional amounts on the principal payments must have come from the amounts paid for the interest and fees. We will therefore add the additional amounts to their corresponding `LP_InterestandFees` values."
   ]
  },
  {
   "cell_type": "code",
   "execution_count": 308,
   "metadata": {},
   "outputs": [
    {
     "data": {
      "text/html": [
       "<div>\n",
       "<style scoped>\n",
       "    .dataframe tbody tr th:only-of-type {\n",
       "        vertical-align: middle;\n",
       "    }\n",
       "\n",
       "    .dataframe tbody tr th {\n",
       "        vertical-align: top;\n",
       "    }\n",
       "\n",
       "    .dataframe thead th {\n",
       "        text-align: right;\n",
       "    }\n",
       "</style>\n",
       "<table border=\"1\" class=\"dataframe\">\n",
       "  <thead>\n",
       "    <tr style=\"text-align: right;\">\n",
       "      <th></th>\n",
       "      <th>LoanOriginalAmount</th>\n",
       "      <th>LP_CustomerPrincipalPayments</th>\n",
       "      <th>LP_CustomerPayments</th>\n",
       "      <th>LP_InterestandFees</th>\n",
       "    </tr>\n",
       "  </thead>\n",
       "  <tbody>\n",
       "    <tr>\n",
       "      <th>132</th>\n",
       "      <td>8600</td>\n",
       "      <td>8600.0</td>\n",
       "      <td>10373.47</td>\n",
       "      <td>1773.47</td>\n",
       "    </tr>\n",
       "    <tr>\n",
       "      <th>136</th>\n",
       "      <td>3000</td>\n",
       "      <td>3000.0</td>\n",
       "      <td>3985.53</td>\n",
       "      <td>985.53</td>\n",
       "    </tr>\n",
       "    <tr>\n",
       "      <th>156</th>\n",
       "      <td>5500</td>\n",
       "      <td>5500.0</td>\n",
       "      <td>7057.41</td>\n",
       "      <td>1557.41</td>\n",
       "    </tr>\n",
       "    <tr>\n",
       "      <th>197</th>\n",
       "      <td>3000</td>\n",
       "      <td>3000.0</td>\n",
       "      <td>3110.04</td>\n",
       "      <td>110.04</td>\n",
       "    </tr>\n",
       "    <tr>\n",
       "      <th>241</th>\n",
       "      <td>1100</td>\n",
       "      <td>1100.0</td>\n",
       "      <td>1793.46</td>\n",
       "      <td>693.46</td>\n",
       "    </tr>\n",
       "    <tr>\n",
       "      <th>...</th>\n",
       "      <td>...</td>\n",
       "      <td>...</td>\n",
       "      <td>...</td>\n",
       "      <td>...</td>\n",
       "    </tr>\n",
       "    <tr>\n",
       "      <th>113806</th>\n",
       "      <td>7500</td>\n",
       "      <td>7500.0</td>\n",
       "      <td>10053.24</td>\n",
       "      <td>2553.24</td>\n",
       "    </tr>\n",
       "    <tr>\n",
       "      <th>113818</th>\n",
       "      <td>10000</td>\n",
       "      <td>10000.0</td>\n",
       "      <td>11133.21</td>\n",
       "      <td>1133.21</td>\n",
       "    </tr>\n",
       "    <tr>\n",
       "      <th>113825</th>\n",
       "      <td>2550</td>\n",
       "      <td>2550.0</td>\n",
       "      <td>3686.24</td>\n",
       "      <td>1136.24</td>\n",
       "    </tr>\n",
       "    <tr>\n",
       "      <th>113843</th>\n",
       "      <td>6001</td>\n",
       "      <td>6001.0</td>\n",
       "      <td>7406.21</td>\n",
       "      <td>1405.21</td>\n",
       "    </tr>\n",
       "    <tr>\n",
       "      <th>113906</th>\n",
       "      <td>3001</td>\n",
       "      <td>3001.0</td>\n",
       "      <td>3320.89</td>\n",
       "      <td>319.89</td>\n",
       "    </tr>\n",
       "  </tbody>\n",
       "</table>\n",
       "<p>4135 rows × 4 columns</p>\n",
       "</div>"
      ],
      "text/plain": [
       "        LoanOriginalAmount  LP_CustomerPrincipalPayments  LP_CustomerPayments  \\\n",
       "132                   8600                        8600.0             10373.47   \n",
       "136                   3000                        3000.0              3985.53   \n",
       "156                   5500                        5500.0              7057.41   \n",
       "197                   3000                        3000.0              3110.04   \n",
       "241                   1100                        1100.0              1793.46   \n",
       "...                    ...                           ...                  ...   \n",
       "113806                7500                        7500.0             10053.24   \n",
       "113818               10000                       10000.0             11133.21   \n",
       "113825                2550                        2550.0              3686.24   \n",
       "113843                6001                        6001.0              7406.21   \n",
       "113906                3001                        3001.0              3320.89   \n",
       "\n",
       "        LP_InterestandFees  \n",
       "132                1773.47  \n",
       "136                 985.53  \n",
       "156                1557.41  \n",
       "197                 110.04  \n",
       "241                 693.46  \n",
       "...                    ...  \n",
       "113806             2553.24  \n",
       "113818             1133.21  \n",
       "113825             1136.24  \n",
       "113843             1405.21  \n",
       "113906              319.89  \n",
       "\n",
       "[4135 rows x 4 columns]"
      ]
     },
     "execution_count": 308,
     "metadata": {},
     "output_type": "execute_result"
    }
   ],
   "source": [
    "# add excess principal payments to LP_InterestandFees\n",
    "\n",
    "negative_principal_outstanding = loan_sub_data[loan_sub_data.LoanPrincipalOutstanding<0]\n",
    "additional_interest_and_fees = negative_principal_outstanding.LoanPrincipalOutstanding * -1\n",
    "\n",
    "to_replace = negative_principal_outstanding.LP_InterestandFees.values\n",
    "values = to_replace + additional_interest_and_fees.values\n",
    "\n",
    "loan_sub_data.LP_InterestandFees.replace(to_replace, values, inplace=True)\n",
    "\n",
    "# set LP_CustomerPrincipalPayments of these records to be the same as LoanOriginalAmount\n",
    "\n",
    "to_replace = negative_principal_outstanding.LP_CustomerPrincipalPayments.values\n",
    "values = negative_principal_outstanding.LoanOriginalAmount.values\n",
    "\n",
    "loan_sub_data.LP_CustomerPrincipalPayments.replace(to_replace, values, inplace=True)\n",
    "\n",
    "loan_sub_data[loan_sub_data.LoanPrincipalOutstanding < 0][['LoanOriginalAmount', 'LP_CustomerPrincipalPayments',\n",
    "                                                             'LP_CustomerPayments', 'LP_InterestandFees']]\n",
    "\n"
   ]
  },
  {
   "cell_type": "markdown",
   "metadata": {},
   "source": [
    "Now, we can replace all negative principal outstandings with 0."
   ]
  },
  {
   "cell_type": "code",
   "execution_count": 309,
   "metadata": {},
   "outputs": [
    {
     "data": {
      "text/plain": [
       "0.00        31588\n",
       "0.01         2766\n",
       "0.01          669\n",
       "0.02          444\n",
       "0.02          386\n",
       "            ...  \n",
       "10100.86        1\n",
       "5667.92         1\n",
       "18263.01        1\n",
       "2278.82         1\n",
       "2.84            1\n",
       "Name: LoanPrincipalOutstanding, Length: 18827, dtype: int64"
      ]
     },
     "execution_count": 309,
     "metadata": {},
     "output_type": "execute_result"
    }
   ],
   "source": [
    "to_replace = negative_principal_outstanding.LoanPrincipalOutstanding.values\n",
    "\n",
    "loan_sub_data.LoanPrincipalOutstanding.replace(to_replace, 0, inplace=True)\n",
    "\n",
    "loan_sub_data.LoanPrincipalOutstanding.value_counts()"
   ]
  },
  {
   "cell_type": "markdown",
   "metadata": {},
   "source": [
    "Let's now replot the distribution of the `LoanPrincipalOutstanding`, `LoanOriginalAmount`, `LP_CustomerPrincipalPayments`, and `LP_InterestandFees` variables."
   ]
  },
  {
   "cell_type": "code",
   "execution_count": 314,
   "metadata": {},
   "outputs": [
    {
     "data": {
      "image/png": "[encoded data removed]",
      "text/plain": [
       "<Figure size 1080x720 with 4 Axes>"
      ]
     },
     "metadata": {
      "needs_background": "light"
     },
     "output_type": "display_data"
    }
   ],
   "source": [
    "# distribution of the original loan amount\n",
    "\n",
    "fig, axes = plt.subplots(2,2, figsize=(15,10))\n",
    "\n",
    "ax1 = sns.histplot(data=loan_sub_data, x='LoanOriginalAmount', \n",
    "                  bins=get_bin_counts(loan_sub_data.LoanOriginalAmount), ax=axes[0][0])\n",
    "                  \n",
    "ax1.set(xlabel='Loan original amount in USD',\n",
    "        title='Distribution of loan original amounts')\n",
    "\n",
    "# distribution of the amount of principal paid\n",
    "\n",
    "ax2 = sns.histplot(data=loan_sub_data, x='LP_CustomerPrincipalPayments',\n",
    "                   bins=get_bin_counts(loan_sub_data.LP_CustomerPayments), ax=axes[0][1])\n",
    "\n",
    "ax2.set(xlabel='Amount of principal paid in USD',\n",
    "        title='Distribution of principal paid')\n",
    "\n",
    "# distribution of the interest and fees paid\n",
    "\n",
    "ax3 = sns.histplot(data=loan_sub_data, x='LP_InterestandFees', \n",
    "               bins=get_bin_counts(loan_sub_data.LP_InterestandFees), ax=axes[1][0])\n",
    "\n",
    "ax3.set_xlim(-50, 10000)\n",
    "\n",
    "ax3.set(xlabel='Interests and Fees paid in USD',\n",
    "        title='Distribution of the interest and fees paid in USD')\n",
    "\n",
    "# distribution of the loan principal outstanding on a log scale along the y-axis\n",
    "\n",
    "ax4 = sns.histplot(data=loan_sub_data, x='LoanPrincipalOutstanding',\n",
    "            bins=get_bin_counts(loan_sub_data.LoanPrincipalOutstanding), ax=axes[1][1])\n",
    "            \n",
    "ax4.set_yscale('log')\n",
    "ax4.set_xlabel('Loan principal outstanding in USD')\n",
    "ax4.set_title('Distribution of loan principal outstanding')\n",
    "\n",
    "plt.show();"
   ]
  },
  {
   "cell_type": "markdown",
   "metadata": {},
   "source": [
    "The distribution still looks the same, but with the negative principal outstanding outliers taken care of. The distribution of the loan principal outstanding shows that most borrowers have no principal outstanding which seems to agree with the bar plot of the loan status where we saw that most of the borrowers had completed their loan payments. This suggest a possible relationship between `LoanStatus` and `LoanPrincipalOutstanding`."
   ]
  },
  {
   "cell_type": "markdown",
   "metadata": {},
   "source": [
    "##### What is the distribution of the annual percentage rate?\n",
    "\n",
    "The `BorrowerAPR` variable has some missing values which we can't account for at the moment. Let's see the percentage of null values that it has."
   ]
  },
  {
   "cell_type": "code",
   "execution_count": 315,
   "metadata": {},
   "outputs": [
    {
     "data": {
      "text/plain": [
       "0.000435874189274008"
      ]
     },
     "execution_count": 315,
     "metadata": {},
     "output_type": "execute_result"
    }
   ],
   "source": [
    "loan_sub_data.BorrowerAPR.isna().sum()/loan_sub_data.BorrowerAPR.shape[0]"
   ]
  },
  {
   "cell_type": "markdown",
   "metadata": {},
   "source": [
    "As we can see, it is not significant. Therefore, it is okay to replace them with the mean value."
   ]
  },
  {
   "cell_type": "code",
   "execution_count": 316,
   "metadata": {},
   "outputs": [
    {
     "data": {
      "image/png": "[encoded data removed]",
      "text/plain": [
       "<Figure size 432x288 with 1 Axes>"
      ]
     },
     "metadata": {
      "needs_background": "light"
     },
     "output_type": "display_data"
    }
   ],
   "source": [
    "# distribution of the annual percentage rate.\n",
    "loan_sub_data.BorrowerAPR = loan_sub_data.BorrowerAPR.fillna(loan_sub_data.BorrowerAPR.mean())\n",
    "\n",
    "ax = sns.histplot(data=loan_sub_data, x='BorrowerAPR', bins=get_bin_counts(loan_sub_data.BorrowerAPR))\n",
    "\n",
    "ax.set(xlabel='Annual percentage rate',\n",
    "        title='Distribution of the annual percentage rate')\n",
    "\n",
    "plt.show();"
   ]
  },
  {
   "cell_type": "markdown",
   "metadata": {},
   "source": [
    "From the plot, we can see that the distribution of the annual percentage rate is unimodal with the highest peak at around 0.37.\n",
    "\n",
    "##### What are the distribuions of the total number of prior loans, loan term, and the listing categories?\n",
    "\n",
    "`Term` and `ListingCategory (numeric)` are both categorical variables so we would explore their distribution on a bar plot. On the other hand, `TotalProsperLoans` is a discrete numeric variable, but because its range of values are relatively small, we can also explore its distribution with a bar plot. This variable also contains null values which means that the borrower had no prior prosper loan. We will replace them with 0."
   ]
  },
  {
   "cell_type": "code",
   "execution_count": 317,
   "metadata": {},
   "outputs": [
    {
     "data": {
      "image/png": "[encoded data removed]",
      "text/plain": [
       "<Figure size 1440x360 with 3 Axes>"
      ]
     },
     "metadata": {
      "needs_background": "light"
     },
     "output_type": "display_data"
    }
   ],
   "source": [
    "# Distribution of TotalProsperLoans\n",
    "\n",
    "fig, axes = plt.subplots(1,3, figsize=(20,5))\n",
    "\n",
    "loan_sub_data.TotalProsperLoans = loan_sub_data.TotalProsperLoans.fillna(0)\n",
    "\n",
    "ax1 = sns.countplot(data=loan_sub_data, x='TotalProsperLoans', color=sns.color_palette()[0], ax=axes[0], \n",
    "                   order=loan_sub_data.TotalProsperLoans.value_counts().index)\n",
    "\n",
    "ax1.set(xlabel=\"Number of prior loans\",\n",
    "        title=\"Count of each number of prior loans\")\n",
    "\n",
    "# distribution of Term\n",
    "\n",
    "ax2 = sns.countplot(data=loan_sub_data, x='Term', color=sns.color_palette()[0], ax=axes[1])\n",
    "ax2.set(xlabel=\"Loan term in months\",\n",
    "        title='Count of each loan term')\n",
    "\n",
    "# distribution of ListingCategory\n",
    "\n",
    "ax3 = sns.countplot(data=loan_sub_data, x='ListingCategory (numeric)', color=sns.color_palette()[0], ax=axes[2],\n",
    " order=loan_sub_data['ListingCategory (numeric)'].value_counts().index)\n",
    "\n",
    "ax3.set(xlabel=\"Listing category\",\n",
    "        title=\"Count of each listing category\")\n",
    "\n",
    "\n",
    "plt.show();"
   ]
  },
  {
   "cell_type": "markdown",
   "metadata": {},
   "source": [
    "From the plots, most borrowers had no prior Prosper loans. Also most of their loans were for a 3-year term, and most of them took loans for debt consolidation which is represented as 1 in the `ListCategory (numeric)` variable.\n",
    "\n",
    "##### What is the distribution of number of days delinquent on the loan?"
   ]
  },
  {
   "cell_type": "code",
   "execution_count": 318,
   "metadata": {},
   "outputs": [
    {
     "data": {
      "image/png": "[encoded data removed]",
      "text/plain": [
       "<Figure size 432x288 with 1 Axes>"
      ]
     },
     "metadata": {
      "needs_background": "light"
     },
     "output_type": "display_data"
    }
   ],
   "source": [
    "# distribution of LoanCurrentDaysDelinquent\n",
    "\n",
    "sns.histplot(data=loan_sub_data, x='LoanCurrentDaysDelinquent', bins=get_bin_counts(loan_sub_data.LoanCurrentDaysDelinquent))\n",
    "\n",
    "plt.xlabel('Number of days delinquent on loan')\n",
    "plt.title('Distribution of the number of days delinquent on loan')\n",
    "\n",
    "plt.show();"
   ]
  },
  {
   "cell_type": "markdown",
   "metadata": {},
   "source": [
    "This doesn't look so good. Let's plot it on a log scale along the y-axis."
   ]
  },
  {
   "cell_type": "code",
   "execution_count": 319,
   "metadata": {},
   "outputs": [
    {
     "data": {
      "image/png": "[encoded data removed]",
      "text/plain": [
       "<Figure size 432x288 with 1 Axes>"
      ]
     },
     "metadata": {
      "needs_background": "light"
     },
     "output_type": "display_data"
    }
   ],
   "source": [
    "# distribution of LoanCurrentDaysDelinquent\n",
    "\n",
    "ax = sns.histplot(data=loan_sub_data, x='LoanCurrentDaysDelinquent', \n",
    "                 bins=get_bin_counts(loan_sub_data.LoanCurrentDaysDelinquent))\n",
    "\n",
    "ax.set_yscale('log')\n",
    "ax.get_yaxis().set_major_formatter(ScalarFormatter())\n",
    "\n",
    "ax.set_xlabel('Number of days delinquent on loan')\n",
    "ax.set_title('Distribution of the number of days delinquent on loan')\n",
    "\n",
    "plt.show();"
   ]
  },
  {
   "cell_type": "markdown",
   "metadata": {},
   "source": [
    "The distribution is unimodal with the highest peak around 0. This shows that there are more borrowers who were not delinquent on their loans. This seems to agree with our earlier distribution plot of the `LoanStatus` variable where we noticed that most borrowers completed their loans. Therefore, there might be a relationship between both variables which we would explore in the bivariate section."
   ]
  },
  {
   "cell_type": "markdown",
   "metadata": {},
   "source": [
    "\n",
    "\n",
    ">**Rubric Tip**: Visualizations should depict the data appropriately so that the plots are easily interpretable. You should choose an appropriate plot type, data encodings, and formatting as needed. The formatting may include setting/adding the title, labels, legend, and comments. Also, do not overplot or incorrectly plot ordinal data."
   ]
  },
  {
   "cell_type": "markdown",
   "metadata": {},
   "source": [
    "### Discuss the distribution(s) of your variable(s) of interest. Were there any unusual points? Did you need to perform any transformations?\n",
    "\n",
    "Our univariate exploration of our variables of interest shows that most borrowers completed their loans and most of them where not delinquent which suggest a possible relationship between the `LoanStatus` and `LoanCurrentDaysDelinquent` variables. We had to plot the latter on a log scale along the y-axis due to its large range of frequencies in order to make its distribution more obvious. There might also be some relationship between the loan principal outstanding and the loan status.\n",
    "\n",
    "Most of the borrowers had a 36-month loan term, and most of them didn't have any prior Prosper loan before applying for a loan. Furthermore, most of the borrowers took loans for debt consolidation. The `TotalProsperLoans` variable contains some null values which means that the borrower doesn't have any prior loans. We replaced them with 0 before ploting its distribution. For most borrowers, their annual income falls within the range of $25,000 to $49,999. Also, our univariate exploration shows that most borrowers are employed.\n",
    "\n",
    "The distribution of the annual percentage rate is unimodal with the highest peak around 0.37. The `BorrowerAPR` variable has some missing values which wasn't accounted for in the data dictionary. Since the proportion of these values is not significant, I decided to replace them with the mean of the variable.\n",
    "\n",
    "### Of the features you investigated, were there any unusual distributions? Did you perform any operations on the data to tidy, adjust, or change the form of the data? If so, why did you do this?\n",
    "\n",
    "The plot of the loan principal outstanding revealed some negative outliers which was as a result of having principal payments which where greater than the original loan amount. After examining the `LP_InterestandFees` and `LP_CustomerPayments` values of records with this condition, I concluded that the excess principal payments might have been from interest and fee payments made by the borrower. So, I added them to their `LP_InterestandFees` values and replaced the affected `LP_CustomerPrincipalPayments` values with the values of their original loan amounts and the negative principal outstandings with 0."
   ]
  },
  {
   "cell_type": "markdown",
   "metadata": {},
   "source": [
    "## Bivariate Exploration\n",
    "\n",
    "> In this section, investigate relationships between pairs of variables in your\n",
    "data. Make sure the variables that you cover here have been introduced in some\n",
    "fashion in the previous section (univariate exploration)."
   ]
  },
  {
   "cell_type": "code",
   "execution_count": null,
   "metadata": {},
   "outputs": [],
   "source": []
  },
  {
   "cell_type": "markdown",
   "metadata": {},
   "source": [
    "### Talk about some of the relationships you observed in this part of the investigation. How did the feature(s) of interest vary with other features in the dataset?\n",
    "\n",
    "> Your answer here!\n",
    "\n",
    "### Did you observe any interesting relationships between the other features (not the main feature(s) of interest)?\n",
    "\n",
    "> Your answer here!"
   ]
  },
  {
   "cell_type": "markdown",
   "metadata": {},
   "source": [
    "## Multivariate Exploration\n",
    "\n",
    "> Create plots of three or more variables to investigate your data even\n",
    "further. Make sure that your investigations are justified, and follow from\n",
    "your work in the previous sections."
   ]
  },
  {
   "cell_type": "code",
   "execution_count": null,
   "metadata": {},
   "outputs": [],
   "source": []
  },
  {
   "cell_type": "markdown",
   "metadata": {},
   "source": [
    "### Talk about some of the relationships you observed in this part of the investigation. Were there features that strengthened each other in terms of looking at your feature(s) of interest?\n",
    "\n",
    "> Your answer here!\n",
    "\n",
    "### Were there any interesting or surprising interactions between features?\n",
    "\n",
    "> Your answer here!"
   ]
  },
  {
   "cell_type": "markdown",
   "metadata": {},
   "source": [
    "## Conclusions\n",
    ">You can write a summary of the main findings and reflect on the steps taken during the data exploration.\n"
   ]
  },
  {
   "cell_type": "markdown",
   "metadata": {},
   "source": [
    "\n",
    "> Remove all Tips mentioned above, before you convert this notebook to PDF/HTML\n",
    "\n",
    "\n",
    "> At the end of your report, make sure that you export the notebook as an\n",
    "html file from the `File > Download as... > HTML or PDF` menu. Make sure you keep\n",
    "track of where the exported file goes, so you can put it in the same folder\n",
    "as this notebook for project submission. Also, make sure you remove all of\n",
    "the quote-formatted guide notes like this one before you finish your report!\n",
    "\n"
   ]
  },
  {
   "cell_type": "code",
   "execution_count": null,
   "metadata": {},
   "outputs": [],
   "source": []
  }
 ],
 "metadata": {
  "kernelspec": {
   "display_name": "Python 3.9.12 ('test_work_space')",
   "language": "python",
   "name": "python3"
  },
  "language_info": {
   "codemirror_mode": {
    "name": "ipython",
    "version": 3
   },
   "file_extension": ".py",
   "mimetype": "text/x-python",
   "name": "python",
   "nbconvert_exporter": "python",
   "pygments_lexer": "ipython3",
   "version": "3.9.12"
  },
  "vscode": {
   "interpreter": {
    "hash": "de9deb8f9f07f5427760aa3970a9a9d98b5bb9b260947cc1dfafc6c02811c732"
   }
  }
 },
 "nbformat": 4,
 "nbformat_minor": 2
}
