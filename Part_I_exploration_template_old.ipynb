{
 "cells": [
  {
   "cell_type": "markdown",
   "metadata": {},
   "source": [
    "# Part I - (Dataset Exploration Title)\n",
    "## by Charles Nikoro\n",
    "\n",
    "## Introduction\n",
    "\n",
    "In this document, I will analyze loan data from Prosper (a peear-to-peer lending marketplace) comprising approximately 113937 records with the aim of investigating the possible factors that can affect the outcome of a loan's status.\n",
    "\n",
    "> Introduce the dataset\n",
    "\n",
    ">**Rubric Tip**: Your code should not generate any errors, and should use functions, loops where possible to reduce repetitive code. Prefer to use functions to reuse code statements.\n",
    "\n",
    "> **Rubric Tip**: Document your approach and findings in markdown cells. Use comments and docstrings in code cells to document the code functionality.\n",
    "\n",
    ">**Rubric Tip**: Markup cells should have headers and text that organize your thoughts, findings, and what you plan on investigating next.  \n",
    "\n",
    "\n",
    "\n",
    "## Preliminary Wrangling\n"
   ]
  },
  {
   "cell_type": "code",
   "execution_count": 1,
   "metadata": {},
   "outputs": [],
   "source": [
    "# import all packages and set plots to be embedded inline\n",
    "import numpy as np\n",
    "import pandas as pd\n",
    "import matplotlib.pyplot as plt\n",
    "import seaborn as sns\n",
    "import math\n",
    "\n",
    "%matplotlib inline"
   ]
  },
  {
   "cell_type": "markdown",
   "metadata": {},
   "source": [
    "> Load in your dataset and describe its properties through the questions below. Try and motivate your exploration goals through this section.\n"
   ]
  },
  {
   "cell_type": "code",
   "execution_count": 2,
   "metadata": {
    "scrolled": true
   },
   "outputs": [
    {
     "data": {
      "text/html": [
       "<div>\n",
       "<style scoped>\n",
       "    .dataframe tbody tr th:only-of-type {\n",
       "        vertical-align: middle;\n",
       "    }\n",
       "\n",
       "    .dataframe tbody tr th {\n",
       "        vertical-align: top;\n",
       "    }\n",
       "\n",
       "    .dataframe thead th {\n",
       "        text-align: right;\n",
       "    }\n",
       "</style>\n",
       "<table border=\"1\" class=\"dataframe\">\n",
       "  <thead>\n",
       "    <tr style=\"text-align: right;\">\n",
       "      <th></th>\n",
       "      <th>ListingKey</th>\n",
       "      <th>ListingNumber</th>\n",
       "      <th>ListingCreationDate</th>\n",
       "      <th>CreditGrade</th>\n",
       "      <th>Term</th>\n",
       "      <th>LoanStatus</th>\n",
       "      <th>ClosedDate</th>\n",
       "      <th>BorrowerAPR</th>\n",
       "      <th>BorrowerRate</th>\n",
       "      <th>LenderYield</th>\n",
       "      <th>...</th>\n",
       "      <th>LP_ServiceFees</th>\n",
       "      <th>LP_CollectionFees</th>\n",
       "      <th>LP_GrossPrincipalLoss</th>\n",
       "      <th>LP_NetPrincipalLoss</th>\n",
       "      <th>LP_NonPrincipalRecoverypayments</th>\n",
       "      <th>PercentFunded</th>\n",
       "      <th>Recommendations</th>\n",
       "      <th>InvestmentFromFriendsCount</th>\n",
       "      <th>InvestmentFromFriendsAmount</th>\n",
       "      <th>Investors</th>\n",
       "    </tr>\n",
       "  </thead>\n",
       "  <tbody>\n",
       "    <tr>\n",
       "      <th>0</th>\n",
       "      <td>1021339766868145413AB3B</td>\n",
       "      <td>193129</td>\n",
       "      <td>2007-08-26 19:09:29.263</td>\n",
       "      <td>C</td>\n",
       "      <td>36</td>\n",
       "      <td>Completed</td>\n",
       "      <td>2009-08-14</td>\n",
       "      <td>0.16516</td>\n",
       "      <td>0.1580</td>\n",
       "      <td>0.1380</td>\n",
       "      <td>...</td>\n",
       "      <td>-133.18</td>\n",
       "      <td>0.0</td>\n",
       "      <td>0.0</td>\n",
       "      <td>0.0</td>\n",
       "      <td>0.0</td>\n",
       "      <td>1.0</td>\n",
       "      <td>0</td>\n",
       "      <td>0</td>\n",
       "      <td>0.0</td>\n",
       "      <td>258</td>\n",
       "    </tr>\n",
       "    <tr>\n",
       "      <th>1</th>\n",
       "      <td>10273602499503308B223C1</td>\n",
       "      <td>1209647</td>\n",
       "      <td>2014-02-27 08:28:07.900</td>\n",
       "      <td>NaN</td>\n",
       "      <td>36</td>\n",
       "      <td>Current</td>\n",
       "      <td>NaT</td>\n",
       "      <td>0.12016</td>\n",
       "      <td>0.0920</td>\n",
       "      <td>0.0820</td>\n",
       "      <td>...</td>\n",
       "      <td>0.00</td>\n",
       "      <td>0.0</td>\n",
       "      <td>0.0</td>\n",
       "      <td>0.0</td>\n",
       "      <td>0.0</td>\n",
       "      <td>1.0</td>\n",
       "      <td>0</td>\n",
       "      <td>0</td>\n",
       "      <td>0.0</td>\n",
       "      <td>1</td>\n",
       "    </tr>\n",
       "    <tr>\n",
       "      <th>2</th>\n",
       "      <td>0EE9337825851032864889A</td>\n",
       "      <td>81716</td>\n",
       "      <td>2007-01-05 15:00:47.090</td>\n",
       "      <td>HR</td>\n",
       "      <td>36</td>\n",
       "      <td>Completed</td>\n",
       "      <td>2009-12-17</td>\n",
       "      <td>0.28269</td>\n",
       "      <td>0.2750</td>\n",
       "      <td>0.2400</td>\n",
       "      <td>...</td>\n",
       "      <td>-24.20</td>\n",
       "      <td>0.0</td>\n",
       "      <td>0.0</td>\n",
       "      <td>0.0</td>\n",
       "      <td>0.0</td>\n",
       "      <td>1.0</td>\n",
       "      <td>0</td>\n",
       "      <td>0</td>\n",
       "      <td>0.0</td>\n",
       "      <td>41</td>\n",
       "    </tr>\n",
       "    <tr>\n",
       "      <th>3</th>\n",
       "      <td>0EF5356002482715299901A</td>\n",
       "      <td>658116</td>\n",
       "      <td>2012-10-22 11:02:35.010</td>\n",
       "      <td>NaN</td>\n",
       "      <td>36</td>\n",
       "      <td>Current</td>\n",
       "      <td>NaT</td>\n",
       "      <td>0.12528</td>\n",
       "      <td>0.0974</td>\n",
       "      <td>0.0874</td>\n",
       "      <td>...</td>\n",
       "      <td>-108.01</td>\n",
       "      <td>0.0</td>\n",
       "      <td>0.0</td>\n",
       "      <td>0.0</td>\n",
       "      <td>0.0</td>\n",
       "      <td>1.0</td>\n",
       "      <td>0</td>\n",
       "      <td>0</td>\n",
       "      <td>0.0</td>\n",
       "      <td>158</td>\n",
       "    </tr>\n",
       "    <tr>\n",
       "      <th>4</th>\n",
       "      <td>0F023589499656230C5E3E2</td>\n",
       "      <td>909464</td>\n",
       "      <td>2013-09-14 18:38:39.097</td>\n",
       "      <td>NaN</td>\n",
       "      <td>36</td>\n",
       "      <td>Current</td>\n",
       "      <td>NaT</td>\n",
       "      <td>0.24614</td>\n",
       "      <td>0.2085</td>\n",
       "      <td>0.1985</td>\n",
       "      <td>...</td>\n",
       "      <td>-60.27</td>\n",
       "      <td>0.0</td>\n",
       "      <td>0.0</td>\n",
       "      <td>0.0</td>\n",
       "      <td>0.0</td>\n",
       "      <td>1.0</td>\n",
       "      <td>0</td>\n",
       "      <td>0</td>\n",
       "      <td>0.0</td>\n",
       "      <td>20</td>\n",
       "    </tr>\n",
       "  </tbody>\n",
       "</table>\n",
       "<p>5 rows × 81 columns</p>\n",
       "</div>"
      ],
      "text/plain": [
       "                ListingKey  ListingNumber     ListingCreationDate CreditGrade  \\\n",
       "0  1021339766868145413AB3B         193129 2007-08-26 19:09:29.263           C   \n",
       "1  10273602499503308B223C1        1209647 2014-02-27 08:28:07.900         NaN   \n",
       "2  0EE9337825851032864889A          81716 2007-01-05 15:00:47.090          HR   \n",
       "3  0EF5356002482715299901A         658116 2012-10-22 11:02:35.010         NaN   \n",
       "4  0F023589499656230C5E3E2         909464 2013-09-14 18:38:39.097         NaN   \n",
       "\n",
       "   Term LoanStatus ClosedDate  BorrowerAPR  BorrowerRate  LenderYield  ...  \\\n",
       "0    36  Completed 2009-08-14      0.16516        0.1580       0.1380  ...   \n",
       "1    36    Current        NaT      0.12016        0.0920       0.0820  ...   \n",
       "2    36  Completed 2009-12-17      0.28269        0.2750       0.2400  ...   \n",
       "3    36    Current        NaT      0.12528        0.0974       0.0874  ...   \n",
       "4    36    Current        NaT      0.24614        0.2085       0.1985  ...   \n",
       "\n",
       "   LP_ServiceFees  LP_CollectionFees  LP_GrossPrincipalLoss  \\\n",
       "0         -133.18                0.0                    0.0   \n",
       "1            0.00                0.0                    0.0   \n",
       "2          -24.20                0.0                    0.0   \n",
       "3         -108.01                0.0                    0.0   \n",
       "4          -60.27                0.0                    0.0   \n",
       "\n",
       "   LP_NetPrincipalLoss LP_NonPrincipalRecoverypayments  PercentFunded  \\\n",
       "0                  0.0                             0.0            1.0   \n",
       "1                  0.0                             0.0            1.0   \n",
       "2                  0.0                             0.0            1.0   \n",
       "3                  0.0                             0.0            1.0   \n",
       "4                  0.0                             0.0            1.0   \n",
       "\n",
       "   Recommendations InvestmentFromFriendsCount InvestmentFromFriendsAmount  \\\n",
       "0                0                          0                         0.0   \n",
       "1                0                          0                         0.0   \n",
       "2                0                          0                         0.0   \n",
       "3                0                          0                         0.0   \n",
       "4                0                          0                         0.0   \n",
       "\n",
       "  Investors  \n",
       "0       258  \n",
       "1         1  \n",
       "2        41  \n",
       "3       158  \n",
       "4        20  \n",
       "\n",
       "[5 rows x 81 columns]"
      ]
     },
     "execution_count": 2,
     "metadata": {},
     "output_type": "execute_result"
    }
   ],
   "source": [
    "# load data and check the first five records\n",
    "# make sure the dates are correctly parsed\n",
    "\n",
    "loans = pd.read_csv('../dataset/prosperLoanData.csv', parse_dates=['ListingCreationDate',\n",
    "    'LoanOriginationDate', 'ClosedDate', 'DateCreditPulled'])\n",
    "\n",
    "loans.head()"
   ]
  },
  {
   "cell_type": "code",
   "execution_count": 27,
   "metadata": {
    "scrolled": true
   },
   "outputs": [
    {
     "name": "stdout",
     "output_type": "stream",
     "text": [
      "Shape of the dataframe: (113937, 81)\n",
      "Number of duplicate records: 0\n"
     ]
    }
   ],
   "source": [
    "print(\"Shape of the dataframe:\", loans.shape)\n",
    "print(\"Number of duplicate records:\", loans.duplicated().sum())"
   ]
  },
  {
   "cell_type": "code",
   "execution_count": 28,
   "metadata": {},
   "outputs": [
    {
     "name": "stdout",
     "output_type": "stream",
     "text": [
      "Shape of the dataframe: (84685, 81)\n"
     ]
    }
   ],
   "source": [
    "# get listings that originated after July 2009\n",
    "\n",
    "loans = loans.query(\"ListingCreationDate > '2009-07-31'\").copy()\n",
    "\n",
    "print(\"Shape of the dataframe:\", loans.shape)"
   ]
  },
  {
   "cell_type": "code",
   "execution_count": 29,
   "metadata": {},
   "outputs": [
    {
     "data": {
      "text/plain": [
       "Index(['ListingKey', 'ListingNumber', 'ListingCreationDate', 'Term',\n",
       "       'LoanStatus', 'BorrowerAPR', 'BorrowerRate', 'LenderYield',\n",
       "       'EstimatedEffectiveYield', 'EstimatedLoss', 'EstimatedReturn',\n",
       "       'ProsperRating (numeric)', 'ProsperRating (Alpha)', 'ProsperScore',\n",
       "       'ListingCategory (numeric)', 'BorrowerState', 'EmploymentStatus',\n",
       "       'IsBorrowerHomeowner', 'CurrentlyInGroup', 'DateCreditPulled',\n",
       "       'CreditScoreRangeLower', 'CreditScoreRangeUpper',\n",
       "       'FirstRecordedCreditLine', 'CurrentCreditLines', 'OpenCreditLines',\n",
       "       'TotalCreditLinespast7years', 'OpenRevolvingAccounts',\n",
       "       'OpenRevolvingMonthlyPayment', 'InquiriesLast6Months', 'TotalInquiries',\n",
       "       'CurrentDelinquencies', 'AmountDelinquent', 'DelinquenciesLast7Years',\n",
       "       'PublicRecordsLast10Years', 'PublicRecordsLast12Months',\n",
       "       'RevolvingCreditBalance', 'BankcardUtilization',\n",
       "       'AvailableBankcardCredit', 'TotalTrades',\n",
       "       'TradesNeverDelinquent (percentage)', 'TradesOpenedLast6Months',\n",
       "       'IncomeRange', 'IncomeVerifiable', 'StatedMonthlyIncome', 'LoanKey',\n",
       "       'LoanCurrentDaysDelinquent', 'LoanMonthsSinceOrigination', 'LoanNumber',\n",
       "       'LoanOriginalAmount', 'LoanOriginationDate', 'LoanOriginationQuarter',\n",
       "       'MemberKey', 'MonthlyLoanPayment', 'LP_CustomerPayments',\n",
       "       'LP_CustomerPrincipalPayments', 'LP_InterestandFees', 'LP_ServiceFees',\n",
       "       'LP_CollectionFees', 'LP_GrossPrincipalLoss', 'LP_NetPrincipalLoss',\n",
       "       'LP_NonPrincipalRecoverypayments', 'PercentFunded', 'Recommendations',\n",
       "       'InvestmentFromFriendsCount', 'InvestmentFromFriendsAmount',\n",
       "       'Investors'],\n",
       "      dtype='object')"
      ]
     },
     "execution_count": 29,
     "metadata": {},
     "output_type": "execute_result"
    }
   ],
   "source": [
    "# columns without null values\n",
    "\n",
    "columns_without_null = loans.isna().sum()==0\n",
    "loans.isna().sum()[columns_without_null].index"
   ]
  },
  {
   "cell_type": "code",
   "execution_count": 30,
   "metadata": {},
   "outputs": [
    {
     "data": {
      "text/plain": [
       "Index(['CreditGrade', 'ClosedDate', 'Occupation', 'EmploymentStatusDuration',\n",
       "       'GroupKey', 'DebtToIncomeRatio', 'TotalProsperLoans',\n",
       "       'TotalProsperPaymentsBilled', 'OnTimeProsperPayments',\n",
       "       'ProsperPaymentsLessThanOneMonthLate',\n",
       "       'ProsperPaymentsOneMonthPlusLate', 'ProsperPrincipalBorrowed',\n",
       "       'ProsperPrincipalOutstanding', 'ScorexChangeAtTimeOfListing',\n",
       "       'LoanFirstDefaultedCycleNumber'],\n",
       "      dtype='object')"
      ]
     },
     "execution_count": 30,
     "metadata": {},
     "output_type": "execute_result"
    }
   ],
   "source": [
    "# columns with null values\n",
    "\n",
    "columns_with_null = loans.isna().sum()>0\n",
    "loans.isna().sum()[columns_with_null].index"
   ]
  },
  {
   "cell_type": "code",
   "execution_count": 31,
   "metadata": {
    "scrolled": false
   },
   "outputs": [
    {
     "name": "stdout",
     "output_type": "stream",
     "text": [
      "bool\n",
      "{'IsBorrowerHomeowner', 'CurrentlyInGroup', 'IncomeVerifiable'}\n",
      "\n",
      "int64\n",
      "{'ListingNumber', 'LoanMonthsSinceOrigination', 'OpenRevolvingAccounts', 'LoanOriginalAmount', 'Investors', 'LoanCurrentDaysDelinquent', 'InvestmentFromFriendsCount', 'LoanNumber', 'ListingCategory (numeric)', 'Recommendations', 'Term'}\n",
      "\n",
      "float64\n",
      "{'EstimatedReturn', 'EmploymentStatusDuration', 'LP_InterestandFees', 'TotalProsperPaymentsBilled', 'CurrentDelinquencies', 'TradesOpenedLast6Months', 'TotalTrades', 'TradesNeverDelinquent (percentage)', 'LP_CollectionFees', 'DebtToIncomeRatio', 'DelinquenciesLast7Years', 'InquiriesLast6Months', 'BankcardUtilization', 'OpenCreditLines', 'AvailableBankcardCredit', 'BorrowerAPR', 'ProsperPaymentsOneMonthPlusLate', 'ScorexChangeAtTimeOfListing', 'LP_GrossPrincipalLoss', 'ProsperPrincipalBorrowed', 'PercentFunded', 'TotalCreditLinespast7years', 'LenderYield', 'LoanFirstDefaultedCycleNumber', 'LP_CustomerPrincipalPayments', 'BorrowerRate', 'PublicRecordsLast10Years', 'EstimatedEffectiveYield', 'TotalInquiries', 'TotalProsperLoans', 'LP_ServiceFees', 'LP_NonPrincipalRecoverypayments', 'CreditScoreRangeLower', 'InvestmentFromFriendsAmount', 'OpenRevolvingMonthlyPayment', 'LP_NetPrincipalLoss', 'ProsperPaymentsLessThanOneMonthLate', 'EstimatedLoss', 'StatedMonthlyIncome', 'ProsperScore', 'RevolvingCreditBalance', 'CreditScoreRangeUpper', 'ProsperRating (numeric)', 'PublicRecordsLast12Months', 'CurrentCreditLines', 'AmountDelinquent', 'OnTimeProsperPayments', 'MonthlyLoanPayment', 'LP_CustomerPayments', 'ProsperPrincipalOutstanding'}\n",
      "\n",
      "object\n",
      "{'EmploymentStatus', 'MemberKey', 'LoanStatus', 'ProsperRating (Alpha)', 'GroupKey', 'FirstRecordedCreditLine', 'LoanKey', 'IncomeRange', 'DateCreditPulled', 'BorrowerState', 'LoanOriginationQuarter', 'Occupation', 'CreditGrade', 'ListingKey'}\n",
      "\n"
     ]
    }
   ],
   "source": [
    "# columns and their data types\n",
    "\n",
    "dtypes = ['bool', 'int64', 'float64', 'object']\n",
    "\n",
    "for dtype in dtypes:\n",
    "    print(f\"{dtype}\\n{set(loans.dtypes[loans.dtypes == dtype].index)}\\n\")"
   ]
  },
  {
   "cell_type": "code",
   "execution_count": 32,
   "metadata": {},
   "outputs": [
    {
     "data": {
      "text/html": [
       "<div>\n",
       "<style scoped>\n",
       "    .dataframe tbody tr th:only-of-type {\n",
       "        vertical-align: middle;\n",
       "    }\n",
       "\n",
       "    .dataframe tbody tr th {\n",
       "        vertical-align: top;\n",
       "    }\n",
       "\n",
       "    .dataframe thead th {\n",
       "        text-align: right;\n",
       "    }\n",
       "</style>\n",
       "<table border=\"1\" class=\"dataframe\">\n",
       "  <thead>\n",
       "    <tr style=\"text-align: right;\">\n",
       "      <th></th>\n",
       "      <th>Term</th>\n",
       "      <th>BorrowerAPR</th>\n",
       "      <th>BorrowerRate</th>\n",
       "      <th>LenderYield</th>\n",
       "      <th>EstimatedEffectiveYield</th>\n",
       "      <th>EstimatedLoss</th>\n",
       "      <th>EstimatedReturn</th>\n",
       "      <th>ProsperRating (numeric)</th>\n",
       "      <th>ProsperScore</th>\n",
       "      <th>ListingCategory (numeric)</th>\n",
       "      <th>...</th>\n",
       "      <th>LP_ServiceFees</th>\n",
       "      <th>LP_CollectionFees</th>\n",
       "      <th>LP_GrossPrincipalLoss</th>\n",
       "      <th>LP_NetPrincipalLoss</th>\n",
       "      <th>LP_NonPrincipalRecoverypayments</th>\n",
       "      <th>PercentFunded</th>\n",
       "      <th>Recommendations</th>\n",
       "      <th>InvestmentFromFriendsCount</th>\n",
       "      <th>InvestmentFromFriendsAmount</th>\n",
       "      <th>Investors</th>\n",
       "    </tr>\n",
       "  </thead>\n",
       "  <tbody>\n",
       "    <tr>\n",
       "      <th>count</th>\n",
       "      <td>84685.000000</td>\n",
       "      <td>84685.000000</td>\n",
       "      <td>84685.000000</td>\n",
       "      <td>84685.000000</td>\n",
       "      <td>84685.000000</td>\n",
       "      <td>84685.000000</td>\n",
       "      <td>84685.000000</td>\n",
       "      <td>84685.000000</td>\n",
       "      <td>84685.000000</td>\n",
       "      <td>84685.000000</td>\n",
       "      <td>...</td>\n",
       "      <td>84685.000000</td>\n",
       "      <td>84685.000000</td>\n",
       "      <td>84685.000000</td>\n",
       "      <td>84685.000000</td>\n",
       "      <td>84685.000000</td>\n",
       "      <td>84685.000000</td>\n",
       "      <td>84685.00000</td>\n",
       "      <td>84685.000000</td>\n",
       "      <td>84685.000000</td>\n",
       "      <td>84685.000000</td>\n",
       "    </tr>\n",
       "    <tr>\n",
       "      <th>mean</th>\n",
       "      <td>42.499002</td>\n",
       "      <td>0.226740</td>\n",
       "      <td>0.196091</td>\n",
       "      <td>0.186086</td>\n",
       "      <td>0.168830</td>\n",
       "      <td>0.080339</td>\n",
       "      <td>0.096092</td>\n",
       "      <td>4.071016</td>\n",
       "      <td>5.945398</td>\n",
       "      <td>3.313503</td>\n",
       "      <td>...</td>\n",
       "      <td>-54.642423</td>\n",
       "      <td>-8.196423</td>\n",
       "      <td>376.183526</td>\n",
       "      <td>367.843459</td>\n",
       "      <td>7.637875</td>\n",
       "      <td>0.998094</td>\n",
       "      <td>0.01737</td>\n",
       "      <td>0.007888</td>\n",
       "      <td>4.272890</td>\n",
       "      <td>68.101116</td>\n",
       "    </tr>\n",
       "    <tr>\n",
       "      <th>std</th>\n",
       "      <td>11.648297</td>\n",
       "      <td>0.079892</td>\n",
       "      <td>0.074609</td>\n",
       "      <td>0.074609</td>\n",
       "      <td>0.068409</td>\n",
       "      <td>0.046728</td>\n",
       "      <td>0.030379</td>\n",
       "      <td>1.672839</td>\n",
       "      <td>2.375464</td>\n",
       "      <td>4.367191</td>\n",
       "      <td>...</td>\n",
       "      <td>59.741420</td>\n",
       "      <td>75.160646</td>\n",
       "      <td>1721.532039</td>\n",
       "      <td>1701.019897</td>\n",
       "      <td>119.168606</td>\n",
       "      <td>0.020762</td>\n",
       "      <td>0.18713</td>\n",
       "      <td>0.108924</td>\n",
       "      <td>116.866606</td>\n",
       "      <td>95.052548</td>\n",
       "    </tr>\n",
       "    <tr>\n",
       "      <th>min</th>\n",
       "      <td>12.000000</td>\n",
       "      <td>0.049350</td>\n",
       "      <td>0.040000</td>\n",
       "      <td>0.030000</td>\n",
       "      <td>-0.182700</td>\n",
       "      <td>0.004900</td>\n",
       "      <td>-0.182700</td>\n",
       "      <td>1.000000</td>\n",
       "      <td>1.000000</td>\n",
       "      <td>0.000000</td>\n",
       "      <td>...</td>\n",
       "      <td>-589.950000</td>\n",
       "      <td>-4865.080000</td>\n",
       "      <td>-94.200000</td>\n",
       "      <td>-504.410000</td>\n",
       "      <td>0.000000</td>\n",
       "      <td>0.700000</td>\n",
       "      <td>0.00000</td>\n",
       "      <td>0.000000</td>\n",
       "      <td>0.000000</td>\n",
       "      <td>1.000000</td>\n",
       "    </tr>\n",
       "    <tr>\n",
       "      <th>25%</th>\n",
       "      <td>36.000000</td>\n",
       "      <td>0.163610</td>\n",
       "      <td>0.135900</td>\n",
       "      <td>0.125900</td>\n",
       "      <td>0.116600</td>\n",
       "      <td>0.042400</td>\n",
       "      <td>0.074550</td>\n",
       "      <td>3.000000</td>\n",
       "      <td>4.000000</td>\n",
       "      <td>1.000000</td>\n",
       "      <td>...</td>\n",
       "      <td>-72.320000</td>\n",
       "      <td>0.000000</td>\n",
       "      <td>0.000000</td>\n",
       "      <td>0.000000</td>\n",
       "      <td>0.000000</td>\n",
       "      <td>1.000000</td>\n",
       "      <td>0.00000</td>\n",
       "      <td>0.000000</td>\n",
       "      <td>0.000000</td>\n",
       "      <td>1.000000</td>\n",
       "    </tr>\n",
       "    <tr>\n",
       "      <th>50%</th>\n",
       "      <td>36.000000</td>\n",
       "      <td>0.219450</td>\n",
       "      <td>0.187500</td>\n",
       "      <td>0.177500</td>\n",
       "      <td>0.161500</td>\n",
       "      <td>0.072400</td>\n",
       "      <td>0.092110</td>\n",
       "      <td>4.000000</td>\n",
       "      <td>6.000000</td>\n",
       "      <td>1.000000</td>\n",
       "      <td>...</td>\n",
       "      <td>-34.900000</td>\n",
       "      <td>0.000000</td>\n",
       "      <td>0.000000</td>\n",
       "      <td>0.000000</td>\n",
       "      <td>0.000000</td>\n",
       "      <td>1.000000</td>\n",
       "      <td>0.00000</td>\n",
       "      <td>0.000000</td>\n",
       "      <td>0.000000</td>\n",
       "      <td>31.000000</td>\n",
       "    </tr>\n",
       "    <tr>\n",
       "      <th>75%</th>\n",
       "      <td>60.000000</td>\n",
       "      <td>0.292540</td>\n",
       "      <td>0.257400</td>\n",
       "      <td>0.247400</td>\n",
       "      <td>0.224300</td>\n",
       "      <td>0.112000</td>\n",
       "      <td>0.116600</td>\n",
       "      <td>5.000000</td>\n",
       "      <td>8.000000</td>\n",
       "      <td>3.000000</td>\n",
       "      <td>...</td>\n",
       "      <td>-14.270000</td>\n",
       "      <td>0.000000</td>\n",
       "      <td>0.000000</td>\n",
       "      <td>0.000000</td>\n",
       "      <td>0.000000</td>\n",
       "      <td>1.000000</td>\n",
       "      <td>0.00000</td>\n",
       "      <td>0.000000</td>\n",
       "      <td>0.000000</td>\n",
       "      <td>97.000000</td>\n",
       "    </tr>\n",
       "    <tr>\n",
       "      <th>max</th>\n",
       "      <td>60.000000</td>\n",
       "      <td>0.423950</td>\n",
       "      <td>0.360000</td>\n",
       "      <td>0.340000</td>\n",
       "      <td>0.319900</td>\n",
       "      <td>0.366000</td>\n",
       "      <td>0.283700</td>\n",
       "      <td>7.000000</td>\n",
       "      <td>11.000000</td>\n",
       "      <td>20.000000</td>\n",
       "      <td>...</td>\n",
       "      <td>3.010000</td>\n",
       "      <td>0.000000</td>\n",
       "      <td>25000.000000</td>\n",
       "      <td>25000.000000</td>\n",
       "      <td>7780.030000</td>\n",
       "      <td>1.012500</td>\n",
       "      <td>19.00000</td>\n",
       "      <td>9.000000</td>\n",
       "      <td>11000.000000</td>\n",
       "      <td>1189.000000</td>\n",
       "    </tr>\n",
       "  </tbody>\n",
       "</table>\n",
       "<p>8 rows × 60 columns</p>\n",
       "</div>"
      ],
      "text/plain": [
       "               Term   BorrowerAPR  BorrowerRate   LenderYield  \\\n",
       "count  84685.000000  84685.000000  84685.000000  84685.000000   \n",
       "mean      42.499002      0.226740      0.196091      0.186086   \n",
       "std       11.648297      0.079892      0.074609      0.074609   \n",
       "min       12.000000      0.049350      0.040000      0.030000   \n",
       "25%       36.000000      0.163610      0.135900      0.125900   \n",
       "50%       36.000000      0.219450      0.187500      0.177500   \n",
       "75%       60.000000      0.292540      0.257400      0.247400   \n",
       "max       60.000000      0.423950      0.360000      0.340000   \n",
       "\n",
       "       EstimatedEffectiveYield  EstimatedLoss  EstimatedReturn  \\\n",
       "count             84685.000000   84685.000000     84685.000000   \n",
       "mean                  0.168830       0.080339         0.096092   \n",
       "std                   0.068409       0.046728         0.030379   \n",
       "min                  -0.182700       0.004900        -0.182700   \n",
       "25%                   0.116600       0.042400         0.074550   \n",
       "50%                   0.161500       0.072400         0.092110   \n",
       "75%                   0.224300       0.112000         0.116600   \n",
       "max                   0.319900       0.366000         0.283700   \n",
       "\n",
       "       ProsperRating (numeric)  ProsperScore  ListingCategory (numeric)  ...  \\\n",
       "count             84685.000000  84685.000000               84685.000000  ...   \n",
       "mean                  4.071016      5.945398                   3.313503  ...   \n",
       "std                   1.672839      2.375464                   4.367191  ...   \n",
       "min                   1.000000      1.000000                   0.000000  ...   \n",
       "25%                   3.000000      4.000000                   1.000000  ...   \n",
       "50%                   4.000000      6.000000                   1.000000  ...   \n",
       "75%                   5.000000      8.000000                   3.000000  ...   \n",
       "max                   7.000000     11.000000                  20.000000  ...   \n",
       "\n",
       "       LP_ServiceFees  LP_CollectionFees  LP_GrossPrincipalLoss  \\\n",
       "count    84685.000000       84685.000000           84685.000000   \n",
       "mean       -54.642423          -8.196423             376.183526   \n",
       "std         59.741420          75.160646            1721.532039   \n",
       "min       -589.950000       -4865.080000             -94.200000   \n",
       "25%        -72.320000           0.000000               0.000000   \n",
       "50%        -34.900000           0.000000               0.000000   \n",
       "75%        -14.270000           0.000000               0.000000   \n",
       "max          3.010000           0.000000           25000.000000   \n",
       "\n",
       "       LP_NetPrincipalLoss  LP_NonPrincipalRecoverypayments  PercentFunded  \\\n",
       "count         84685.000000                     84685.000000   84685.000000   \n",
       "mean            367.843459                         7.637875       0.998094   \n",
       "std            1701.019897                       119.168606       0.020762   \n",
       "min            -504.410000                         0.000000       0.700000   \n",
       "25%               0.000000                         0.000000       1.000000   \n",
       "50%               0.000000                         0.000000       1.000000   \n",
       "75%               0.000000                         0.000000       1.000000   \n",
       "max           25000.000000                      7780.030000       1.012500   \n",
       "\n",
       "       Recommendations  InvestmentFromFriendsCount  \\\n",
       "count      84685.00000                84685.000000   \n",
       "mean           0.01737                    0.007888   \n",
       "std            0.18713                    0.108924   \n",
       "min            0.00000                    0.000000   \n",
       "25%            0.00000                    0.000000   \n",
       "50%            0.00000                    0.000000   \n",
       "75%            0.00000                    0.000000   \n",
       "max           19.00000                    9.000000   \n",
       "\n",
       "       InvestmentFromFriendsAmount     Investors  \n",
       "count                 84685.000000  84685.000000  \n",
       "mean                      4.272890     68.101116  \n",
       "std                     116.866606     95.052548  \n",
       "min                       0.000000      1.000000  \n",
       "25%                       0.000000      1.000000  \n",
       "50%                       0.000000     31.000000  \n",
       "75%                       0.000000     97.000000  \n",
       "max                   11000.000000   1189.000000  \n",
       "\n",
       "[8 rows x 60 columns]"
      ]
     },
     "execution_count": 32,
     "metadata": {},
     "output_type": "execute_result"
    }
   ],
   "source": [
    "# summary statistics\n",
    "\n",
    "loans.loc[:, 'Term':].describe()"
   ]
  },
  {
   "cell_type": "code",
   "execution_count": 112,
   "metadata": {},
   "outputs": [
    {
     "data": {
      "text/plain": [
       "20      771\n",
       "19      768\n",
       "18      885\n",
       "17       52\n",
       "16      304\n",
       "15     1522\n",
       "14      876\n",
       "13     1996\n",
       "12       59\n",
       "11      217\n",
       "10       91\n",
       "9        85\n",
       "8       199\n",
       "7     10494\n",
       "6      2572\n",
       "5       756\n",
       "4      2395\n",
       "3      7189\n",
       "2      7433\n",
       "1     58308\n",
       "0     16965\n",
       "Name: ListingCategory (numeric), dtype: int64"
      ]
     },
     "execution_count": 112,
     "metadata": {},
     "output_type": "execute_result"
    }
   ],
   "source": [
    "loans['ListingCategory (numeric)'].value_counts().sort_index(ascending=False)"
   ]
  },
  {
   "cell_type": "code",
   "execution_count": 83,
   "metadata": {},
   "outputs": [],
   "source": [
    "# make ListingCategory (numeric) and Term of categorical types\n",
    "\n",
    "category = pd.api.types.CategoricalDtype(categories=range(1,18), ordered=False)\n",
    "\n",
    "loans['ListingCategory (numeric)'] = loans['ListingCategory (numeric)'].astype(category)\n",
    "\n",
    "category = pd.api.types.CategoricalDtype(categories=[12, 36, 60], ordered=True)\n",
    "\n",
    "loans['Term'] = loans.Term.astype(category)\n",
    "\n",
    "# LoanStatus would be made an ordered categorical variable\n",
    "\n",
    "category = ['Cancelled', 'Current', 'FinalPaymentInProgress', 'Completed',\n",
    " 'Past Due (1-15 days)', 'Past Due (16-30 days)', 'Past Due (31-60 days)', \n",
    "'Past Due (61-90 days)', 'Past Due (91-120 days)', 'Past Due (> 120 days)', \n",
    "'Defaulted', 'Chargedoff']\n",
    "\n",
    "category = pd.api.types.CategoricalDtype(categories=category, ordered=True)\n",
    "loans.LoanStatus = loans.LoanStatus.astype(category)"
   ]
  },
  {
   "cell_type": "code",
   "execution_count": 23,
   "metadata": {},
   "outputs": [
    {
     "data": {
      "text/html": [
       "<div>\n",
       "<style scoped>\n",
       "    .dataframe tbody tr th:only-of-type {\n",
       "        vertical-align: middle;\n",
       "    }\n",
       "\n",
       "    .dataframe tbody tr th {\n",
       "        vertical-align: top;\n",
       "    }\n",
       "\n",
       "    .dataframe thead th {\n",
       "        text-align: right;\n",
       "    }\n",
       "</style>\n",
       "<table border=\"1\" class=\"dataframe\">\n",
       "  <thead>\n",
       "    <tr style=\"text-align: right;\">\n",
       "      <th></th>\n",
       "      <th>BorrowerRate</th>\n",
       "      <th>LP_InterestandFees</th>\n",
       "      <th>LP_ServiceFees</th>\n",
       "      <th>MonthlyLoanPayment</th>\n",
       "    </tr>\n",
       "  </thead>\n",
       "  <tbody>\n",
       "    <tr>\n",
       "      <th>BorrowerRate</th>\n",
       "      <td>1.000000</td>\n",
       "      <td>0.238708</td>\n",
       "      <td>0.098069</td>\n",
       "      <td>-0.332256</td>\n",
       "    </tr>\n",
       "    <tr>\n",
       "      <th>LP_InterestandFees</th>\n",
       "      <td>0.238708</td>\n",
       "      <td>1.000000</td>\n",
       "      <td>-0.873865</td>\n",
       "      <td>0.270631</td>\n",
       "    </tr>\n",
       "    <tr>\n",
       "      <th>LP_ServiceFees</th>\n",
       "      <td>0.098069</td>\n",
       "      <td>-0.873865</td>\n",
       "      <td>1.000000</td>\n",
       "      <td>-0.395031</td>\n",
       "    </tr>\n",
       "    <tr>\n",
       "      <th>MonthlyLoanPayment</th>\n",
       "      <td>-0.332256</td>\n",
       "      <td>0.270631</td>\n",
       "      <td>-0.395031</td>\n",
       "      <td>1.000000</td>\n",
       "    </tr>\n",
       "    <tr>\n",
       "      <th>LP_CustomerPrincipalPayments</th>\n",
       "      <td>-0.088165</td>\n",
       "      <td>0.427626</td>\n",
       "      <td>-0.539776</td>\n",
       "      <td>0.295066</td>\n",
       "    </tr>\n",
       "    <tr>\n",
       "      <th>LP_CustomerPayments</th>\n",
       "      <td>-0.011341</td>\n",
       "      <td>0.634170</td>\n",
       "      <td>-0.696243</td>\n",
       "      <td>0.325021</td>\n",
       "    </tr>\n",
       "    <tr>\n",
       "      <th>LoanFirstDefaultedCycleNumber</th>\n",
       "      <td>-0.085495</td>\n",
       "      <td>0.544498</td>\n",
       "      <td>-0.488962</td>\n",
       "      <td>-0.039755</td>\n",
       "    </tr>\n",
       "    <tr>\n",
       "      <th>OnTimeProsperPayments</th>\n",
       "      <td>0.002190</td>\n",
       "      <td>0.026656</td>\n",
       "      <td>-0.022364</td>\n",
       "      <td>0.018842</td>\n",
       "    </tr>\n",
       "    <tr>\n",
       "      <th>ProsperPrincipalBorrowed</th>\n",
       "      <td>-0.220912</td>\n",
       "      <td>0.031844</td>\n",
       "      <td>-0.128090</td>\n",
       "      <td>0.330926</td>\n",
       "    </tr>\n",
       "    <tr>\n",
       "      <th>ProsperPrincipalOutstanding</th>\n",
       "      <td>-0.097319</td>\n",
       "      <td>0.020294</td>\n",
       "      <td>-0.058596</td>\n",
       "      <td>0.175039</td>\n",
       "    </tr>\n",
       "    <tr>\n",
       "      <th>TotalTrades</th>\n",
       "      <td>-0.071317</td>\n",
       "      <td>0.017919</td>\n",
       "      <td>-0.045728</td>\n",
       "      <td>0.150760</td>\n",
       "    </tr>\n",
       "    <tr>\n",
       "      <th>TradesNeverDelinquent (percentage)</th>\n",
       "      <td>-0.264028</td>\n",
       "      <td>-0.030453</td>\n",
       "      <td>-0.062924</td>\n",
       "      <td>0.181095</td>\n",
       "    </tr>\n",
       "    <tr>\n",
       "      <th>EstimatedEffectiveYield</th>\n",
       "      <td>0.896279</td>\n",
       "      <td>0.252805</td>\n",
       "      <td>0.058442</td>\n",
       "      <td>-0.254230</td>\n",
       "    </tr>\n",
       "    <tr>\n",
       "      <th>LenderYield</th>\n",
       "      <td>0.999996</td>\n",
       "      <td>0.238707</td>\n",
       "      <td>0.098076</td>\n",
       "      <td>-0.332213</td>\n",
       "    </tr>\n",
       "    <tr>\n",
       "      <th>EstimatedLoss</th>\n",
       "      <td>0.945585</td>\n",
       "      <td>0.108011</td>\n",
       "      <td>0.197358</td>\n",
       "      <td>-0.329826</td>\n",
       "    </tr>\n",
       "    <tr>\n",
       "      <th>BorrowerAPR</th>\n",
       "      <td>0.993324</td>\n",
       "      <td>0.211582</td>\n",
       "      <td>0.124894</td>\n",
       "      <td>-0.322433</td>\n",
       "    </tr>\n",
       "  </tbody>\n",
       "</table>\n",
       "</div>"
      ],
      "text/plain": [
       "                                    BorrowerRate  LP_InterestandFees  \\\n",
       "BorrowerRate                            1.000000            0.238708   \n",
       "LP_InterestandFees                      0.238708            1.000000   \n",
       "LP_ServiceFees                          0.098069           -0.873865   \n",
       "MonthlyLoanPayment                     -0.332256            0.270631   \n",
       "LP_CustomerPrincipalPayments           -0.088165            0.427626   \n",
       "LP_CustomerPayments                    -0.011341            0.634170   \n",
       "LoanFirstDefaultedCycleNumber          -0.085495            0.544498   \n",
       "OnTimeProsperPayments                   0.002190            0.026656   \n",
       "ProsperPrincipalBorrowed               -0.220912            0.031844   \n",
       "ProsperPrincipalOutstanding            -0.097319            0.020294   \n",
       "TotalTrades                            -0.071317            0.017919   \n",
       "TradesNeverDelinquent (percentage)     -0.264028           -0.030453   \n",
       "EstimatedEffectiveYield                 0.896279            0.252805   \n",
       "LenderYield                             0.999996            0.238707   \n",
       "EstimatedLoss                           0.945585            0.108011   \n",
       "BorrowerAPR                             0.993324            0.211582   \n",
       "\n",
       "                                    LP_ServiceFees  MonthlyLoanPayment  \n",
       "BorrowerRate                              0.098069           -0.332256  \n",
       "LP_InterestandFees                       -0.873865            0.270631  \n",
       "LP_ServiceFees                            1.000000           -0.395031  \n",
       "MonthlyLoanPayment                       -0.395031            1.000000  \n",
       "LP_CustomerPrincipalPayments             -0.539776            0.295066  \n",
       "LP_CustomerPayments                      -0.696243            0.325021  \n",
       "LoanFirstDefaultedCycleNumber            -0.488962           -0.039755  \n",
       "OnTimeProsperPayments                    -0.022364            0.018842  \n",
       "ProsperPrincipalBorrowed                 -0.128090            0.330926  \n",
       "ProsperPrincipalOutstanding              -0.058596            0.175039  \n",
       "TotalTrades                              -0.045728            0.150760  \n",
       "TradesNeverDelinquent (percentage)       -0.062924            0.181095  \n",
       "EstimatedEffectiveYield                   0.058442           -0.254230  \n",
       "LenderYield                               0.098076           -0.332213  \n",
       "EstimatedLoss                             0.197358           -0.329826  \n",
       "BorrowerAPR                               0.124894           -0.322433  "
      ]
     },
     "execution_count": 23,
     "metadata": {},
     "output_type": "execute_result"
    }
   ],
   "source": [
    "loans[['BorrowerRate', 'LP_InterestandFees', 'LP_ServiceFees',\n",
    " 'MonthlyLoanPayment', 'LP_CustomerPrincipalPayments', 'LP_CustomerPayments',\n",
    " 'LoanFirstDefaultedCycleNumber', 'OnTimeProsperPayments', 'ProsperPrincipalBorrowed',\n",
    " 'ProsperPrincipalOutstanding', 'TotalTrades', 'TradesNeverDelinquent (percentage)',\n",
    " 'EstimatedEffectiveYield', 'LenderYield', 'EstimatedLoss', 'BorrowerAPR']].corr().iloc[:,:4]"
   ]
  },
  {
   "cell_type": "code",
   "execution_count": 157,
   "metadata": {},
   "outputs": [
    {
     "data": {
      "text/html": [
       "<div>\n",
       "<style scoped>\n",
       "    .dataframe tbody tr th:only-of-type {\n",
       "        vertical-align: middle;\n",
       "    }\n",
       "\n",
       "    .dataframe tbody tr th {\n",
       "        vertical-align: top;\n",
       "    }\n",
       "\n",
       "    .dataframe thead th {\n",
       "        text-align: right;\n",
       "    }\n",
       "</style>\n",
       "<table border=\"1\" class=\"dataframe\">\n",
       "  <thead>\n",
       "    <tr style=\"text-align: right;\">\n",
       "      <th></th>\n",
       "      <th>LP_CustomerPrincipalPayments</th>\n",
       "      <th>LP_CustomerPayments</th>\n",
       "      <th>LoanFirstDefaultedCycleNumber</th>\n",
       "    </tr>\n",
       "  </thead>\n",
       "  <tbody>\n",
       "    <tr>\n",
       "      <th>BorrowerRate</th>\n",
       "      <td>-0.153722</td>\n",
       "      <td>-0.081055</td>\n",
       "      <td>-0.172936</td>\n",
       "    </tr>\n",
       "    <tr>\n",
       "      <th>LP_InterestandFees</th>\n",
       "      <td>0.518203</td>\n",
       "      <td>0.687189</td>\n",
       "      <td>0.413346</td>\n",
       "    </tr>\n",
       "    <tr>\n",
       "      <th>LP_ServiceFees</th>\n",
       "      <td>-0.576933</td>\n",
       "      <td>-0.703125</td>\n",
       "      <td>-0.383058</td>\n",
       "    </tr>\n",
       "    <tr>\n",
       "      <th>MonthlyLoanPayment</th>\n",
       "      <td>0.387200</td>\n",
       "      <td>0.425351</td>\n",
       "      <td>-0.010950</td>\n",
       "    </tr>\n",
       "    <tr>\n",
       "      <th>LP_CustomerPrincipalPayments</th>\n",
       "      <td>1.000000</td>\n",
       "      <td>0.977430</td>\n",
       "      <td>0.482596</td>\n",
       "    </tr>\n",
       "    <tr>\n",
       "      <th>LP_CustomerPayments</th>\n",
       "      <td>0.977430</td>\n",
       "      <td>1.000000</td>\n",
       "      <td>0.484110</td>\n",
       "    </tr>\n",
       "    <tr>\n",
       "      <th>LoanFirstDefaultedCycleNumber</th>\n",
       "      <td>0.482596</td>\n",
       "      <td>0.484110</td>\n",
       "      <td>1.000000</td>\n",
       "    </tr>\n",
       "    <tr>\n",
       "      <th>OnTimeProsperPayments</th>\n",
       "      <td>0.016315</td>\n",
       "      <td>0.024061</td>\n",
       "      <td>0.006332</td>\n",
       "    </tr>\n",
       "    <tr>\n",
       "      <th>ProsperPrincipalBorrowed</th>\n",
       "      <td>0.103585</td>\n",
       "      <td>0.101672</td>\n",
       "      <td>-0.093558</td>\n",
       "    </tr>\n",
       "    <tr>\n",
       "      <th>ProsperPrincipalOutstanding</th>\n",
       "      <td>0.012278</td>\n",
       "      <td>0.019624</td>\n",
       "      <td>-0.050007</td>\n",
       "    </tr>\n",
       "    <tr>\n",
       "      <th>TotalTrades</th>\n",
       "      <td>0.026646</td>\n",
       "      <td>0.031083</td>\n",
       "      <td>0.008078</td>\n",
       "    </tr>\n",
       "    <tr>\n",
       "      <th>TradesNeverDelinquent (percentage)</th>\n",
       "      <td>0.067109</td>\n",
       "      <td>0.055043</td>\n",
       "      <td>-0.039631</td>\n",
       "    </tr>\n",
       "    <tr>\n",
       "      <th>EstimatedEffectiveYield</th>\n",
       "      <td>-0.086423</td>\n",
       "      <td>-0.006059</td>\n",
       "      <td>-0.182887</td>\n",
       "    </tr>\n",
       "    <tr>\n",
       "      <th>LenderYield</th>\n",
       "      <td>-0.151563</td>\n",
       "      <td>-0.079052</td>\n",
       "      <td>-0.170825</td>\n",
       "    </tr>\n",
       "    <tr>\n",
       "      <th>EstimatedLoss</th>\n",
       "      <td>-0.133549</td>\n",
       "      <td>-0.085261</td>\n",
       "      <td>-0.078386</td>\n",
       "    </tr>\n",
       "    <tr>\n",
       "      <th>BorrowerAPR</th>\n",
       "      <td>-0.180433</td>\n",
       "      <td>-0.111343</td>\n",
       "      <td>-0.185956</td>\n",
       "    </tr>\n",
       "  </tbody>\n",
       "</table>\n",
       "</div>"
      ],
      "text/plain": [
       "                                    LP_CustomerPrincipalPayments  \\\n",
       "BorrowerRate                                           -0.153722   \n",
       "LP_InterestandFees                                      0.518203   \n",
       "LP_ServiceFees                                         -0.576933   \n",
       "MonthlyLoanPayment                                      0.387200   \n",
       "LP_CustomerPrincipalPayments                            1.000000   \n",
       "LP_CustomerPayments                                     0.977430   \n",
       "LoanFirstDefaultedCycleNumber                           0.482596   \n",
       "OnTimeProsperPayments                                   0.016315   \n",
       "ProsperPrincipalBorrowed                                0.103585   \n",
       "ProsperPrincipalOutstanding                             0.012278   \n",
       "TotalTrades                                             0.026646   \n",
       "TradesNeverDelinquent (percentage)                      0.067109   \n",
       "EstimatedEffectiveYield                                -0.086423   \n",
       "LenderYield                                            -0.151563   \n",
       "EstimatedLoss                                          -0.133549   \n",
       "BorrowerAPR                                            -0.180433   \n",
       "\n",
       "                                    LP_CustomerPayments  \\\n",
       "BorrowerRate                                  -0.081055   \n",
       "LP_InterestandFees                             0.687189   \n",
       "LP_ServiceFees                                -0.703125   \n",
       "MonthlyLoanPayment                             0.425351   \n",
       "LP_CustomerPrincipalPayments                   0.977430   \n",
       "LP_CustomerPayments                            1.000000   \n",
       "LoanFirstDefaultedCycleNumber                  0.484110   \n",
       "OnTimeProsperPayments                          0.024061   \n",
       "ProsperPrincipalBorrowed                       0.101672   \n",
       "ProsperPrincipalOutstanding                    0.019624   \n",
       "TotalTrades                                    0.031083   \n",
       "TradesNeverDelinquent (percentage)             0.055043   \n",
       "EstimatedEffectiveYield                       -0.006059   \n",
       "LenderYield                                   -0.079052   \n",
       "EstimatedLoss                                 -0.085261   \n",
       "BorrowerAPR                                   -0.111343   \n",
       "\n",
       "                                    LoanFirstDefaultedCycleNumber  \n",
       "BorrowerRate                                            -0.172936  \n",
       "LP_InterestandFees                                       0.413346  \n",
       "LP_ServiceFees                                          -0.383058  \n",
       "MonthlyLoanPayment                                      -0.010950  \n",
       "LP_CustomerPrincipalPayments                             0.482596  \n",
       "LP_CustomerPayments                                      0.484110  \n",
       "LoanFirstDefaultedCycleNumber                            1.000000  \n",
       "OnTimeProsperPayments                                    0.006332  \n",
       "ProsperPrincipalBorrowed                                -0.093558  \n",
       "ProsperPrincipalOutstanding                             -0.050007  \n",
       "TotalTrades                                              0.008078  \n",
       "TradesNeverDelinquent (percentage)                      -0.039631  \n",
       "EstimatedEffectiveYield                                 -0.182887  \n",
       "LenderYield                                             -0.170825  \n",
       "EstimatedLoss                                           -0.078386  \n",
       "BorrowerAPR                                             -0.185956  "
      ]
     },
     "execution_count": 157,
     "metadata": {},
     "output_type": "execute_result"
    }
   ],
   "source": [
    "\n",
    "data[['BorrowerRate', 'LP_InterestandFees', 'LP_ServiceFees',\n",
    " 'MonthlyLoanPayment', 'LP_CustomerPrincipalPayments', 'LP_CustomerPayments',\n",
    " 'LoanFirstDefaultedCycleNumber', 'OnTimeProsperPayments', 'ProsperPrincipalBorrowed',\n",
    " 'ProsperPrincipalOutstanding', 'TotalTrades', 'TradesNeverDelinquent (percentage)',\n",
    " 'EstimatedEffectiveYield', 'LenderYield', 'EstimatedLoss', 'BorrowerAPR']].corr().iloc[:,4:7]\n",
    "\n",
    "\n"
   ]
  },
  {
   "cell_type": "code",
   "execution_count": 158,
   "metadata": {},
   "outputs": [
    {
     "data": {
      "text/html": [
       "<div>\n",
       "<style scoped>\n",
       "    .dataframe tbody tr th:only-of-type {\n",
       "        vertical-align: middle;\n",
       "    }\n",
       "\n",
       "    .dataframe tbody tr th {\n",
       "        vertical-align: top;\n",
       "    }\n",
       "\n",
       "    .dataframe thead th {\n",
       "        text-align: right;\n",
       "    }\n",
       "</style>\n",
       "<table border=\"1\" class=\"dataframe\">\n",
       "  <thead>\n",
       "    <tr style=\"text-align: right;\">\n",
       "      <th></th>\n",
       "      <th>OnTimeProsperPayments</th>\n",
       "      <th>ProsperPrincipalBorrowed</th>\n",
       "      <th>ProsperPrincipalOutstanding</th>\n",
       "    </tr>\n",
       "  </thead>\n",
       "  <tbody>\n",
       "    <tr>\n",
       "      <th>BorrowerRate</th>\n",
       "      <td>-0.006954</td>\n",
       "      <td>-0.206461</td>\n",
       "      <td>-0.039643</td>\n",
       "    </tr>\n",
       "    <tr>\n",
       "      <th>LP_InterestandFees</th>\n",
       "      <td>0.041305</td>\n",
       "      <td>0.047917</td>\n",
       "      <td>0.037224</td>\n",
       "    </tr>\n",
       "    <tr>\n",
       "      <th>LP_ServiceFees</th>\n",
       "      <td>-0.057433</td>\n",
       "      <td>-0.138998</td>\n",
       "      <td>-0.064392</td>\n",
       "    </tr>\n",
       "    <tr>\n",
       "      <th>MonthlyLoanPayment</th>\n",
       "      <td>-0.034718</td>\n",
       "      <td>0.339724</td>\n",
       "      <td>0.018277</td>\n",
       "    </tr>\n",
       "    <tr>\n",
       "      <th>LP_CustomerPrincipalPayments</th>\n",
       "      <td>0.016315</td>\n",
       "      <td>0.103585</td>\n",
       "      <td>0.012278</td>\n",
       "    </tr>\n",
       "    <tr>\n",
       "      <th>LP_CustomerPayments</th>\n",
       "      <td>0.024061</td>\n",
       "      <td>0.101672</td>\n",
       "      <td>0.019624</td>\n",
       "    </tr>\n",
       "    <tr>\n",
       "      <th>LoanFirstDefaultedCycleNumber</th>\n",
       "      <td>0.006332</td>\n",
       "      <td>-0.093558</td>\n",
       "      <td>-0.050007</td>\n",
       "    </tr>\n",
       "    <tr>\n",
       "      <th>OnTimeProsperPayments</th>\n",
       "      <td>1.000000</td>\n",
       "      <td>0.367936</td>\n",
       "      <td>0.380652</td>\n",
       "    </tr>\n",
       "    <tr>\n",
       "      <th>ProsperPrincipalBorrowed</th>\n",
       "      <td>0.367936</td>\n",
       "      <td>1.000000</td>\n",
       "      <td>0.498351</td>\n",
       "    </tr>\n",
       "    <tr>\n",
       "      <th>ProsperPrincipalOutstanding</th>\n",
       "      <td>0.380652</td>\n",
       "      <td>0.498351</td>\n",
       "      <td>1.000000</td>\n",
       "    </tr>\n",
       "    <tr>\n",
       "      <th>TotalTrades</th>\n",
       "      <td>0.075539</td>\n",
       "      <td>0.160654</td>\n",
       "      <td>0.073580</td>\n",
       "    </tr>\n",
       "    <tr>\n",
       "      <th>TradesNeverDelinquent (percentage)</th>\n",
       "      <td>0.012788</td>\n",
       "      <td>0.197618</td>\n",
       "      <td>0.052159</td>\n",
       "    </tr>\n",
       "    <tr>\n",
       "      <th>EstimatedEffectiveYield</th>\n",
       "      <td>-0.063883</td>\n",
       "      <td>-0.143350</td>\n",
       "      <td>-0.050863</td>\n",
       "    </tr>\n",
       "    <tr>\n",
       "      <th>LenderYield</th>\n",
       "      <td>-0.006611</td>\n",
       "      <td>-0.206725</td>\n",
       "      <td>-0.039460</td>\n",
       "    </tr>\n",
       "    <tr>\n",
       "      <th>EstimatedLoss</th>\n",
       "      <td>-0.026965</td>\n",
       "      <td>-0.205754</td>\n",
       "      <td>-0.078665</td>\n",
       "    </tr>\n",
       "    <tr>\n",
       "      <th>BorrowerAPR</th>\n",
       "      <td>0.006996</td>\n",
       "      <td>-0.206209</td>\n",
       "      <td>-0.032986</td>\n",
       "    </tr>\n",
       "  </tbody>\n",
       "</table>\n",
       "</div>"
      ],
      "text/plain": [
       "                                    OnTimeProsperPayments  \\\n",
       "BorrowerRate                                    -0.006954   \n",
       "LP_InterestandFees                               0.041305   \n",
       "LP_ServiceFees                                  -0.057433   \n",
       "MonthlyLoanPayment                              -0.034718   \n",
       "LP_CustomerPrincipalPayments                     0.016315   \n",
       "LP_CustomerPayments                              0.024061   \n",
       "LoanFirstDefaultedCycleNumber                    0.006332   \n",
       "OnTimeProsperPayments                            1.000000   \n",
       "ProsperPrincipalBorrowed                         0.367936   \n",
       "ProsperPrincipalOutstanding                      0.380652   \n",
       "TotalTrades                                      0.075539   \n",
       "TradesNeverDelinquent (percentage)               0.012788   \n",
       "EstimatedEffectiveYield                         -0.063883   \n",
       "LenderYield                                     -0.006611   \n",
       "EstimatedLoss                                   -0.026965   \n",
       "BorrowerAPR                                      0.006996   \n",
       "\n",
       "                                    ProsperPrincipalBorrowed  \\\n",
       "BorrowerRate                                       -0.206461   \n",
       "LP_InterestandFees                                  0.047917   \n",
       "LP_ServiceFees                                     -0.138998   \n",
       "MonthlyLoanPayment                                  0.339724   \n",
       "LP_CustomerPrincipalPayments                        0.103585   \n",
       "LP_CustomerPayments                                 0.101672   \n",
       "LoanFirstDefaultedCycleNumber                      -0.093558   \n",
       "OnTimeProsperPayments                               0.367936   \n",
       "ProsperPrincipalBorrowed                            1.000000   \n",
       "ProsperPrincipalOutstanding                         0.498351   \n",
       "TotalTrades                                         0.160654   \n",
       "TradesNeverDelinquent (percentage)                  0.197618   \n",
       "EstimatedEffectiveYield                            -0.143350   \n",
       "LenderYield                                        -0.206725   \n",
       "EstimatedLoss                                      -0.205754   \n",
       "BorrowerAPR                                        -0.206209   \n",
       "\n",
       "                                    ProsperPrincipalOutstanding  \n",
       "BorrowerRate                                          -0.039643  \n",
       "LP_InterestandFees                                     0.037224  \n",
       "LP_ServiceFees                                        -0.064392  \n",
       "MonthlyLoanPayment                                     0.018277  \n",
       "LP_CustomerPrincipalPayments                           0.012278  \n",
       "LP_CustomerPayments                                    0.019624  \n",
       "LoanFirstDefaultedCycleNumber                         -0.050007  \n",
       "OnTimeProsperPayments                                  0.380652  \n",
       "ProsperPrincipalBorrowed                               0.498351  \n",
       "ProsperPrincipalOutstanding                            1.000000  \n",
       "TotalTrades                                            0.073580  \n",
       "TradesNeverDelinquent (percentage)                     0.052159  \n",
       "EstimatedEffectiveYield                               -0.050863  \n",
       "LenderYield                                           -0.039460  \n",
       "EstimatedLoss                                         -0.078665  \n",
       "BorrowerAPR                                           -0.032986  "
      ]
     },
     "execution_count": 158,
     "metadata": {},
     "output_type": "execute_result"
    }
   ],
   "source": [
    "data[['BorrowerRate', 'LP_InterestandFees', 'LP_ServiceFees',\n",
    " 'MonthlyLoanPayment', 'LP_CustomerPrincipalPayments', 'LP_CustomerPayments',\n",
    " 'LoanFirstDefaultedCycleNumber', 'OnTimeProsperPayments', 'ProsperPrincipalBorrowed',\n",
    " 'ProsperPrincipalOutstanding', 'TotalTrades', 'TradesNeverDelinquent (percentage)',\n",
    " 'EstimatedEffectiveYield', 'LenderYield', 'EstimatedLoss', 'BorrowerAPR']].corr().iloc[:,7:10]"
   ]
  },
  {
   "cell_type": "code",
   "execution_count": 159,
   "metadata": {},
   "outputs": [
    {
     "data": {
      "text/html": [
       "<div>\n",
       "<style scoped>\n",
       "    .dataframe tbody tr th:only-of-type {\n",
       "        vertical-align: middle;\n",
       "    }\n",
       "\n",
       "    .dataframe tbody tr th {\n",
       "        vertical-align: top;\n",
       "    }\n",
       "\n",
       "    .dataframe thead th {\n",
       "        text-align: right;\n",
       "    }\n",
       "</style>\n",
       "<table border=\"1\" class=\"dataframe\">\n",
       "  <thead>\n",
       "    <tr style=\"text-align: right;\">\n",
       "      <th></th>\n",
       "      <th>TotalTrades</th>\n",
       "      <th>TradesNeverDelinquent (percentage)</th>\n",
       "      <th>EstimatedEffectiveYield</th>\n",
       "    </tr>\n",
       "  </thead>\n",
       "  <tbody>\n",
       "    <tr>\n",
       "      <th>BorrowerRate</th>\n",
       "      <td>-0.048211</td>\n",
       "      <td>-0.261189</td>\n",
       "      <td>0.895282</td>\n",
       "    </tr>\n",
       "    <tr>\n",
       "      <th>LP_InterestandFees</th>\n",
       "      <td>0.033781</td>\n",
       "      <td>-0.008248</td>\n",
       "      <td>0.252936</td>\n",
       "    </tr>\n",
       "    <tr>\n",
       "      <th>LP_ServiceFees</th>\n",
       "      <td>-0.048738</td>\n",
       "      <td>-0.067241</td>\n",
       "      <td>0.058309</td>\n",
       "    </tr>\n",
       "    <tr>\n",
       "      <th>MonthlyLoanPayment</th>\n",
       "      <td>0.166256</td>\n",
       "      <td>0.220534</td>\n",
       "      <td>-0.251588</td>\n",
       "    </tr>\n",
       "    <tr>\n",
       "      <th>LP_CustomerPrincipalPayments</th>\n",
       "      <td>0.026646</td>\n",
       "      <td>0.067109</td>\n",
       "      <td>-0.086423</td>\n",
       "    </tr>\n",
       "    <tr>\n",
       "      <th>LP_CustomerPayments</th>\n",
       "      <td>0.031083</td>\n",
       "      <td>0.055043</td>\n",
       "      <td>-0.006059</td>\n",
       "    </tr>\n",
       "    <tr>\n",
       "      <th>LoanFirstDefaultedCycleNumber</th>\n",
       "      <td>0.008078</td>\n",
       "      <td>-0.039631</td>\n",
       "      <td>-0.182887</td>\n",
       "    </tr>\n",
       "    <tr>\n",
       "      <th>OnTimeProsperPayments</th>\n",
       "      <td>0.075539</td>\n",
       "      <td>0.012788</td>\n",
       "      <td>-0.063883</td>\n",
       "    </tr>\n",
       "    <tr>\n",
       "      <th>ProsperPrincipalBorrowed</th>\n",
       "      <td>0.160654</td>\n",
       "      <td>0.197618</td>\n",
       "      <td>-0.143350</td>\n",
       "    </tr>\n",
       "    <tr>\n",
       "      <th>ProsperPrincipalOutstanding</th>\n",
       "      <td>0.073580</td>\n",
       "      <td>0.052159</td>\n",
       "      <td>-0.050863</td>\n",
       "    </tr>\n",
       "    <tr>\n",
       "      <th>TotalTrades</th>\n",
       "      <td>1.000000</td>\n",
       "      <td>0.122054</td>\n",
       "      <td>-0.053520</td>\n",
       "    </tr>\n",
       "    <tr>\n",
       "      <th>TradesNeverDelinquent (percentage)</th>\n",
       "      <td>0.122054</td>\n",
       "      <td>1.000000</td>\n",
       "      <td>-0.228990</td>\n",
       "    </tr>\n",
       "    <tr>\n",
       "      <th>EstimatedEffectiveYield</th>\n",
       "      <td>-0.053520</td>\n",
       "      <td>-0.228990</td>\n",
       "      <td>1.000000</td>\n",
       "    </tr>\n",
       "    <tr>\n",
       "      <th>LenderYield</th>\n",
       "      <td>-0.047249</td>\n",
       "      <td>-0.256283</td>\n",
       "      <td>0.895343</td>\n",
       "    </tr>\n",
       "    <tr>\n",
       "      <th>EstimatedLoss</th>\n",
       "      <td>-0.068128</td>\n",
       "      <td>-0.259380</td>\n",
       "      <td>0.798135</td>\n",
       "    </tr>\n",
       "    <tr>\n",
       "      <th>BorrowerAPR</th>\n",
       "      <td>-0.041894</td>\n",
       "      <td>-0.241349</td>\n",
       "      <td>0.895635</td>\n",
       "    </tr>\n",
       "  </tbody>\n",
       "</table>\n",
       "</div>"
      ],
      "text/plain": [
       "                                    TotalTrades  \\\n",
       "BorrowerRate                          -0.048211   \n",
       "LP_InterestandFees                     0.033781   \n",
       "LP_ServiceFees                        -0.048738   \n",
       "MonthlyLoanPayment                     0.166256   \n",
       "LP_CustomerPrincipalPayments           0.026646   \n",
       "LP_CustomerPayments                    0.031083   \n",
       "LoanFirstDefaultedCycleNumber          0.008078   \n",
       "OnTimeProsperPayments                  0.075539   \n",
       "ProsperPrincipalBorrowed               0.160654   \n",
       "ProsperPrincipalOutstanding            0.073580   \n",
       "TotalTrades                            1.000000   \n",
       "TradesNeverDelinquent (percentage)     0.122054   \n",
       "EstimatedEffectiveYield               -0.053520   \n",
       "LenderYield                           -0.047249   \n",
       "EstimatedLoss                         -0.068128   \n",
       "BorrowerAPR                           -0.041894   \n",
       "\n",
       "                                    TradesNeverDelinquent (percentage)  \\\n",
       "BorrowerRate                                                 -0.261189   \n",
       "LP_InterestandFees                                           -0.008248   \n",
       "LP_ServiceFees                                               -0.067241   \n",
       "MonthlyLoanPayment                                            0.220534   \n",
       "LP_CustomerPrincipalPayments                                  0.067109   \n",
       "LP_CustomerPayments                                           0.055043   \n",
       "LoanFirstDefaultedCycleNumber                                -0.039631   \n",
       "OnTimeProsperPayments                                         0.012788   \n",
       "ProsperPrincipalBorrowed                                      0.197618   \n",
       "ProsperPrincipalOutstanding                                   0.052159   \n",
       "TotalTrades                                                   0.122054   \n",
       "TradesNeverDelinquent (percentage)                            1.000000   \n",
       "EstimatedEffectiveYield                                      -0.228990   \n",
       "LenderYield                                                  -0.256283   \n",
       "EstimatedLoss                                                -0.259380   \n",
       "BorrowerAPR                                                  -0.241349   \n",
       "\n",
       "                                    EstimatedEffectiveYield  \n",
       "BorrowerRate                                       0.895282  \n",
       "LP_InterestandFees                                 0.252936  \n",
       "LP_ServiceFees                                     0.058309  \n",
       "MonthlyLoanPayment                                -0.251588  \n",
       "LP_CustomerPrincipalPayments                      -0.086423  \n",
       "LP_CustomerPayments                               -0.006059  \n",
       "LoanFirstDefaultedCycleNumber                     -0.182887  \n",
       "OnTimeProsperPayments                             -0.063883  \n",
       "ProsperPrincipalBorrowed                          -0.143350  \n",
       "ProsperPrincipalOutstanding                       -0.050863  \n",
       "TotalTrades                                       -0.053520  \n",
       "TradesNeverDelinquent (percentage)                -0.228990  \n",
       "EstimatedEffectiveYield                            1.000000  \n",
       "LenderYield                                        0.895343  \n",
       "EstimatedLoss                                      0.798135  \n",
       "BorrowerAPR                                        0.895635  "
      ]
     },
     "execution_count": 159,
     "metadata": {},
     "output_type": "execute_result"
    }
   ],
   "source": [
    "data[['BorrowerRate', 'LP_InterestandFees', 'LP_ServiceFees',\n",
    " 'MonthlyLoanPayment', 'LP_CustomerPrincipalPayments', 'LP_CustomerPayments',\n",
    " 'LoanFirstDefaultedCycleNumber', 'OnTimeProsperPayments', 'ProsperPrincipalBorrowed',\n",
    " 'ProsperPrincipalOutstanding', 'TotalTrades', 'TradesNeverDelinquent (percentage)',\n",
    " 'EstimatedEffectiveYield', 'LenderYield', 'EstimatedLoss', 'BorrowerAPR']].corr().iloc[:,10:13]"
   ]
  },
  {
   "cell_type": "code",
   "execution_count": 162,
   "metadata": {},
   "outputs": [
    {
     "data": {
      "text/html": [
       "<div>\n",
       "<style scoped>\n",
       "    .dataframe tbody tr th:only-of-type {\n",
       "        vertical-align: middle;\n",
       "    }\n",
       "\n",
       "    .dataframe tbody tr th {\n",
       "        vertical-align: top;\n",
       "    }\n",
       "\n",
       "    .dataframe thead th {\n",
       "        text-align: right;\n",
       "    }\n",
       "</style>\n",
       "<table border=\"1\" class=\"dataframe\">\n",
       "  <thead>\n",
       "    <tr style=\"text-align: right;\">\n",
       "      <th></th>\n",
       "      <th>LenderYield</th>\n",
       "      <th>EstimatedLoss</th>\n",
       "      <th>BorrowerAPR</th>\n",
       "    </tr>\n",
       "  </thead>\n",
       "  <tbody>\n",
       "    <tr>\n",
       "      <th>BorrowerRate</th>\n",
       "      <td>0.999211</td>\n",
       "      <td>0.945297</td>\n",
       "      <td>0.989587</td>\n",
       "    </tr>\n",
       "    <tr>\n",
       "      <th>LP_InterestandFees</th>\n",
       "      <td>0.201162</td>\n",
       "      <td>0.107987</td>\n",
       "      <td>0.169713</td>\n",
       "    </tr>\n",
       "    <tr>\n",
       "      <th>LP_ServiceFees</th>\n",
       "      <td>0.097854</td>\n",
       "      <td>0.197471</td>\n",
       "      <td>0.116966</td>\n",
       "    </tr>\n",
       "    <tr>\n",
       "      <th>MonthlyLoanPayment</th>\n",
       "      <td>-0.244214</td>\n",
       "      <td>-0.328703</td>\n",
       "      <td>-0.226627</td>\n",
       "    </tr>\n",
       "    <tr>\n",
       "      <th>LP_CustomerPrincipalPayments</th>\n",
       "      <td>-0.151563</td>\n",
       "      <td>-0.133549</td>\n",
       "      <td>-0.180433</td>\n",
       "    </tr>\n",
       "    <tr>\n",
       "      <th>LP_CustomerPayments</th>\n",
       "      <td>-0.079052</td>\n",
       "      <td>-0.085261</td>\n",
       "      <td>-0.111343</td>\n",
       "    </tr>\n",
       "    <tr>\n",
       "      <th>LoanFirstDefaultedCycleNumber</th>\n",
       "      <td>-0.170825</td>\n",
       "      <td>-0.078386</td>\n",
       "      <td>-0.185956</td>\n",
       "    </tr>\n",
       "    <tr>\n",
       "      <th>OnTimeProsperPayments</th>\n",
       "      <td>-0.006611</td>\n",
       "      <td>-0.026965</td>\n",
       "      <td>0.006996</td>\n",
       "    </tr>\n",
       "    <tr>\n",
       "      <th>ProsperPrincipalBorrowed</th>\n",
       "      <td>-0.206725</td>\n",
       "      <td>-0.205754</td>\n",
       "      <td>-0.206209</td>\n",
       "    </tr>\n",
       "    <tr>\n",
       "      <th>ProsperPrincipalOutstanding</th>\n",
       "      <td>-0.039460</td>\n",
       "      <td>-0.078665</td>\n",
       "      <td>-0.032986</td>\n",
       "    </tr>\n",
       "    <tr>\n",
       "      <th>TotalTrades</th>\n",
       "      <td>-0.047249</td>\n",
       "      <td>-0.068128</td>\n",
       "      <td>-0.041894</td>\n",
       "    </tr>\n",
       "    <tr>\n",
       "      <th>TradesNeverDelinquent (percentage)</th>\n",
       "      <td>-0.256283</td>\n",
       "      <td>-0.259380</td>\n",
       "      <td>-0.241349</td>\n",
       "    </tr>\n",
       "    <tr>\n",
       "      <th>EstimatedEffectiveYield</th>\n",
       "      <td>0.895343</td>\n",
       "      <td>0.798135</td>\n",
       "      <td>0.895635</td>\n",
       "    </tr>\n",
       "    <tr>\n",
       "      <th>LenderYield</th>\n",
       "      <td>1.000000</td>\n",
       "      <td>0.945308</td>\n",
       "      <td>0.989095</td>\n",
       "    </tr>\n",
       "    <tr>\n",
       "      <th>EstimatedLoss</th>\n",
       "      <td>0.945308</td>\n",
       "      <td>1.000000</td>\n",
       "      <td>0.949538</td>\n",
       "    </tr>\n",
       "    <tr>\n",
       "      <th>BorrowerAPR</th>\n",
       "      <td>0.989095</td>\n",
       "      <td>0.949538</td>\n",
       "      <td>1.000000</td>\n",
       "    </tr>\n",
       "  </tbody>\n",
       "</table>\n",
       "</div>"
      ],
      "text/plain": [
       "                                    LenderYield  EstimatedLoss  BorrowerAPR\n",
       "BorrowerRate                           0.999211       0.945297     0.989587\n",
       "LP_InterestandFees                     0.201162       0.107987     0.169713\n",
       "LP_ServiceFees                         0.097854       0.197471     0.116966\n",
       "MonthlyLoanPayment                    -0.244214      -0.328703    -0.226627\n",
       "LP_CustomerPrincipalPayments          -0.151563      -0.133549    -0.180433\n",
       "LP_CustomerPayments                   -0.079052      -0.085261    -0.111343\n",
       "LoanFirstDefaultedCycleNumber         -0.170825      -0.078386    -0.185956\n",
       "OnTimeProsperPayments                 -0.006611      -0.026965     0.006996\n",
       "ProsperPrincipalBorrowed              -0.206725      -0.205754    -0.206209\n",
       "ProsperPrincipalOutstanding           -0.039460      -0.078665    -0.032986\n",
       "TotalTrades                           -0.047249      -0.068128    -0.041894\n",
       "TradesNeverDelinquent (percentage)    -0.256283      -0.259380    -0.241349\n",
       "EstimatedEffectiveYield                0.895343       0.798135     0.895635\n",
       "LenderYield                            1.000000       0.945308     0.989095\n",
       "EstimatedLoss                          0.945308       1.000000     0.949538\n",
       "BorrowerAPR                            0.989095       0.949538     1.000000"
      ]
     },
     "execution_count": 162,
     "metadata": {},
     "output_type": "execute_result"
    }
   ],
   "source": [
    "data[['BorrowerRate', 'LP_InterestandFees', 'LP_ServiceFees',\n",
    " 'MonthlyLoanPayment', 'LP_CustomerPrincipalPayments', 'LP_CustomerPayments',\n",
    " 'LoanFirstDefaultedCycleNumber', 'OnTimeProsperPayments', 'ProsperPrincipalBorrowed',\n",
    " 'ProsperPrincipalOutstanding', 'TotalTrades', 'TradesNeverDelinquent (percentage)',\n",
    " 'EstimatedEffectiveYield', 'LenderYield', 'EstimatedLoss', 'BorrowerAPR']].corr().iloc[:,13:19]"
   ]
  },
  {
   "cell_type": "markdown",
   "metadata": {},
   "source": [
    "### What is the structure of your dataset?\n",
    "\n",
    "The dataset comprises 113937 observations and 81 variables some of which contains null values. For some of them, it means that there are no existing records for the borrower concerned. For instance, according to the [data dictionary](https://docs.google.com/spreadsheets/d/1gDyi_L4UvIrLTEC6Wri5nbaMmkGmLQBk-Yx3z0XDEtI/edit#gid=0), a borrower with a null `TotalProsperLoans` value doesn't have prior loans. The categorical variables includes `ListingCategory (numeric)`, `LoanStatus`, `ProsperScore`, and `Term`. `ListingCategory (numeric)` is encoded as follows: 0 - Not Available, 1 - Debt Consolidation, 2 - Home \n",
    "Improvement, 3 - Business, 4 - Personal Loan, 5 - Student Use, 6 - Auto, 7- Other, 8 - Baby&Adoption, 9 - Boat, 10 - Cosmetic \n",
    "Procedure, 11 - Engagement Ring, 12 - Green Loans, 13 - Household Expenses, 14 - Large Purchases, 15 - Medical/Dental, 16 - \n",
    "Motorcycle, 17 - RV, 18 - Taxes, 19 - Vacation, 20 - Wedding Loans. `ProsperScore` include values from 1 to 11 where 11 means a very low risk.\n",
    "\n",
    "### What is/are the main feature(s) of interest in your dataset?\n",
    "\n",
    "I am most interested in figuring out the features that will help predict the outcome of a borrower's loan status.\n",
    "\n",
    "### What features in the dataset do you think will help support your investigation into your feature(s) of interest?\n",
    "\n",
    "I suspect that the `LoanCurrentDaysDelinquent` variable might be an important factor to consider to determine if a borrower will default or not. Other factors I also intend to investigate includes the total number of prior loans (`TotalProsperLoans`), term of each loan (`Term`), principal outstanding of the borrower (`ProsperPrincipalOutstanding`), listing category (`ListingCategory (numeric)`), average credit score (`(CreditScoreRangeLower + CreditScoreRangeUpper) / 2`), the total number of on time payments made on prior loans (`OnTimeProsperPayments`), stated monthly income of the borrower (`StatedMonthlyIncome`) and whether they are verifiable or not (`IncomeVerifiable`), and the number of times the borrower was more than one month late on prior loans (`ProsperPaymentsOneMonthPlusLate`). Two other interesting variables I would like to investigate are `BorrowerAPR`and `EstimatedLoss`.\n"
   ]
  },
  {
   "cell_type": "markdown",
   "metadata": {},
   "source": [
    "## Univariate Exploration\n",
    "\n",
    "I'll begin by looking at the distribution of the main variable of interest – `LoanStatus`.\n",
    "\n",
    "> In this section, investigate distributions of individual variables. If\n",
    "you see unusual points or outliers, take a deeper look to clean things up\n",
    "and prepare yourself to look at relationships between variables.\n",
    "\n",
    "\n",
    "> **Rubric Tip**: The project (Parts I alone) should have at least 15 visualizations distributed over univariate, bivariate, and multivariate plots to explore many relationships in the data set.  Use reasoning to justify the flow of the exploration.\n",
    "\n",
    "\n",
    "\n",
    ">**Rubric Tip**: Use the \"Question-Visualization-Observations\" framework  throughout the exploration. This framework involves **asking a question from the data, creating a visualization to find answers, and then recording observations after each visualisation.** \n"
   ]
  },
  {
   "cell_type": "markdown",
   "metadata": {},
   "source": [
    "##### Which loan status has the highest frequency count?"
   ]
  },
  {
   "cell_type": "code",
   "execution_count": 87,
   "metadata": {},
   "outputs": [
    {
     "data": {
      "image/png": "[encoded data removed]",
      "text/plain": [
       "<Figure size 432x288 with 1 Axes>"
      ]
     },
     "metadata": {
      "needs_background": "light"
     },
     "output_type": "display_data"
    }
   ],
   "source": [
    "# plot distribution of LoanStatus\n",
    "\n",
    "sns.countplot(data=loans, y='LoanStatus', order=loans.LoanStatus.value_counts().index, color=sns.color_palette()[0])\n",
    "plt.xlabel('Count')\n",
    "plt.ylabel('Loan status')\n",
    "plt.title('Frequency of each loan status')\n",
    "plt.show()"
   ]
  },
  {
   "cell_type": "markdown",
   "metadata": {},
   "source": [
    "From the above chart, we can see that there are more borrowers with a current loan status while none of them have their loans cancelled or past due for more than 120 days. We will therefore remove these options from the list of values of this variable."
   ]
  },
  {
   "cell_type": "code",
   "execution_count": 85,
   "metadata": {},
   "outputs": [
    {
     "data": {
      "text/plain": [
       "Current                   56576\n",
       "Completed                 38074\n",
       "Chargedoff                11992\n",
       "Defaulted                  5018\n",
       "Past Due (1-15 days)        806\n",
       "Past Due (31-60 days)       363\n",
       "Past Due (61-90 days)       313\n",
       "Past Due (91-120 days)      304\n",
       "Past Due (16-30 days)       265\n",
       "FinalPaymentInProgress      205\n",
       "Name: LoanStatus, dtype: int64"
      ]
     },
     "execution_count": 85,
     "metadata": {},
     "output_type": "execute_result"
    }
   ],
   "source": [
    "category = ['Current', 'FinalPaymentInProgress', 'Completed',\n",
    " 'Past Due (1-15 days)', 'Past Due (16-30 days)', 'Past Due (31-60 days)', \n",
    "'Past Due (61-90 days)', 'Past Due (91-120 days)', \n",
    "'Defaulted', 'Chargedoff']\n",
    "\n",
    "category = pd.api.types.CategoricalDtype(categories=category, ordered=True)\n",
    "loans.LoanStatus = loans.LoanStatus.astype(category)\n",
    "\n",
    "loans.LoanStatus.value_counts()"
   ]
  },
  {
   "cell_type": "markdown",
   "metadata": {},
   "source": [
    "Next, let's take a look at the distribution of the stated monthly income. First, we will define two functions for computing the number of bins we need for the plot and for performing a log transformation of the `StatedMonthlyIncome` variable because of its large values."
   ]
  },
  {
   "cell_type": "code",
   "execution_count": 36,
   "metadata": {},
   "outputs": [],
   "source": [
    "def get_bin_counts(series):\n",
    "    \"\"\"\n",
    "       computes number of bins needed to plot the histogram of series\n",
    "       using Freedman Diaconis algorithm\n",
    "       \n",
    "       :param series: quantitative pandas series\n",
    "       :return integer: the number of bins\n",
    "    \"\"\"\n",
    "    bin_width = 2*((series.quantile(0.75)-series.quantile(0.25))/(np.power(series.shape[0],1/3)))\n",
    "    return ((series.max()-series.min())//bin_width).astype(int)\n",
    "\n",
    "def log_trans(number):\n",
    "    '''\n",
    "        computes the log of a number\n",
    "\n",
    "        :param integer: number whose log we want to compute\n",
    "        :return float: log of the number\n",
    "    '''\n",
    "\n",
    "    if not number: # return 0 if number is 0\n",
    "        return 0\n",
    "    return math.log10(number)"
   ]
  },
  {
   "cell_type": "markdown",
   "metadata": {},
   "source": [
    "##### What is the distribution of the Stated Monthly Income of the borrowers? Do most of them have documents to support their stated income?"
   ]
  },
  {
   "cell_type": "code",
   "execution_count": 56,
   "metadata": {},
   "outputs": [
    {
     "data": {
      "image/png": "[encoded data removed]",
      "text/plain": [
       "<Figure size 1080x360 with 2 Axes>"
      ]
     },
     "metadata": {
      "needs_background": "light"
     },
     "output_type": "display_data"
    }
   ],
   "source": [
    "# distribution of monthly income\n",
    "\n",
    "log_of_income = loans.StatedMonthlyIncome.apply(log_trans) # perform log transform on the monthly income\n",
    "\n",
    "fig,axs = plt.subplots(1,2,figsize=(15,5))\n",
    "\n",
    "xticklabels = ['0k', '200k', '400k', '600k', '800k', '1000k', '1200k', '1400k', '1600k']\n",
    "xticks = np.arange(log_of_income.min(), log_of_income.max()+1)\n",
    "\n",
    "ax1 = sns.histplot(log_of_income, bins = get_bin_counts(log_of_income), ax=axs[0])\n",
    "ax1.set_xticks(xticks)\n",
    "ax1.set_xticklabels(xticklabels)\n",
    "ax1.set(xlabel='Stated monthly income in USD',\n",
    "        title='Distribution of the stated monthly income')\n",
    "\n",
    "# distribution of borrowers with verifiable income\n",
    "\n",
    "ax2 = sns.countplot(data=loans, x='IncomeVerifiable', color=sns.color_palette()[0], order=loans.IncomeVerifiable.value_counts().index, ax=axs[1])\n",
    "ax2.set(xlabel=\"Is Income verifiable?\",\n",
    "        title=\"Frequency of borrowers with verifiable income\")\n",
    "\n",
    "plt.show()"
   ]
  },
  {
   "cell_type": "markdown",
   "metadata": {},
   "source": [
    "The stated monthly income follows a roughly normal distribution. As we can also see, most of the borrowers have supporting documents to verify their income. "
   ]
  },
  {
   "cell_type": "markdown",
   "metadata": {},
   "source": [
    "##### What is the distribution of the total number of loans? Which listing category and term did most of the borrowers decide to opt for?\n",
    "\n",
    "Since the total number of Prosper loans taken by each borrower is discrete with a fairly small range of values, we can use a count plot to get a sense of its distribution. The `TotalProsperLoans` variable also contains null values which means that the borrower had no prior prosper loan. We will replace these values with 0."
   ]
  },
  {
   "cell_type": "code",
   "execution_count": 57,
   "metadata": {},
   "outputs": [
    {
     "data": {
      "image/png": "[encoded data removed]",
      "text/plain": [
       "<Figure size 1440x360 with 3 Axes>"
      ]
     },
     "metadata": {
      "needs_background": "light"
     },
     "output_type": "display_data"
    }
   ],
   "source": [
    "# Distribution of TotalProsperLoans, Term, and ListingCategory\n",
    "\n",
    "fig, axes = plt.subplots(1,3, figsize=(20,5))\n",
    "\n",
    "loans.TotalProsperLoans = loans.TotalProsperLoans.fillna(0)\n",
    "\n",
    "ax1 = sns.countplot(data=loans, x='TotalProsperLoans', color=sns.color_palette()[0], ax=axes[0], order=loans.TotalProsperLoans.value_counts().index)\n",
    "ax1.set(xlabel=\"Number of prior loans\",\n",
    "        title=\"Count of each number of prior loans\")\n",
    "\n",
    "ax2 = sns.countplot(data=loans, x='Term', color=sns.color_palette()[0], ax=axes[1])\n",
    "ax2.set(xlabel=\"Loan term in months\",\n",
    "        title='Count of each loan term')\n",
    "\n",
    "ax3 = sns.countplot(data=loans, x='ListingCategory (numeric)', color=sns.color_palette()[0], ax=axes[2],\n",
    " order=loans['ListingCategory (numeric)'].value_counts().index)\n",
    "\n",
    "ax3.set(xlabel=\"Listing category\",\n",
    "        title=\"Count of each listing category\")\n",
    "\n",
    "\n",
    "plt.show()"
   ]
  },
  {
   "cell_type": "markdown",
   "metadata": {},
   "source": [
    "From the plots, most borrowers had no prior Prosper loans. Also most of their loans were for a 3-year term, and most of them took loans for debt consolidation which is represented as 1 in the `ListCategory (numeric)` variable."
   ]
  },
  {
   "cell_type": "markdown",
   "metadata": {},
   "source": [
    "##### What is the distribution of the number of days the borrowers were delinquent on a loan? Is it roughly the same as the number of times the borrower was more than one month late on prior loans?\n",
    "\n",
    "Because the interquantile range of `LoanCurrentDaysDelinquent` and `ProsperPaymentsOneMonthPlusLate` are both 0, we can't use the Freedman Diaconis algorithm that `get_bin_counts()` is based on to compute their optimal bin size to use. We will have to manually compute their bin edges. The `ProsperPaymentsOneMonthPLusLate` variable also contains null values which implies that the borrower didn't have any prior loans. We will replace these values with 0. We will also plot the y-axis on a log scale in order to make every bin visible."
   ]
  },
  {
   "cell_type": "code",
   "execution_count": null,
   "metadata": {},
   "outputs": [],
   "source": [
    "fig, axes = plt.subplots(1,2, figsize=(15,5))\n",
    "\n",
    "# distribution of LoanCurrentDaysDelinquent\n",
    "\n",
    "bin_edges = np.arange(loans.LoanCurrentDaysDelinquent.min(), loans.LoanCurrentDaysDelinquent.max()+100, 50)\n",
    "ax1_ticks = [10, 100, 1000, 10000, 100000]\n",
    "ax1_labels = [str(i) for i in ax1_ticks]\n",
    "\n",
    "ax1 = sns.histplot(data=loans, x='LoanCurrentDaysDelinquent', bins=bin_edges, ax=axes[0])\n",
    "ax1.set_yscale('log')\n",
    "ax1.set_yticks(ticks=ax1_ticks)\n",
    "ax1.set_yticklabels(ax1_labels)\n",
    "ax1.set(xlabel=\"Number of days delinquent on current loan\",\n",
    "        title=\"Distribution of number of days delinquent on current loan\")\n",
    "\n",
    "# distribution of ProsperPaymentsOneMonthPlusLate\n",
    "loans.ProsperPaymentsOneMonthPlusLate = loans.ProsperPaymentsOneMonthPlusLate.fillna(0)\n",
    "\n",
    "bin_edges = np.arange(loans.ProsperPaymentsOneMonthPlusLate.min(), loans.ProsperPaymentsOneMonthPlusLate.max()+1)\n",
    "ax2_ticks = [3, 30, 300, 3000, 30000, 300000]\n",
    "ax2_labels = [str(i) for i in ax2_ticks]\n",
    "\n",
    "ax2 = sns.histplot(x=loans.ProsperPaymentsOneMonthPlusLate, bins=bin_edges, ax=axes[1])\n",
    "ax2.set_yscale('log')\n",
    "ax2.set_yticks(ticks=ax2_ticks)\n",
    "ax2.set_yticklabels(ax2_labels)\n",
    "ax2.set(xlabel=\"Payments that were a month or more late\",\n",
    "        title=\"Distribution of payments that were a month or more late\")\n",
    "        \n",
    "plt.show()\n"
   ]
  },
  {
   "cell_type": "code",
   "execution_count": 90,
   "metadata": {},
   "outputs": [
    {
     "data": {
      "text/plain": [
       "(57361, 81)"
      ]
     },
     "execution_count": 90,
     "metadata": {},
     "output_type": "execute_result"
    }
   ],
   "source": [
    "data2 = loans.query(\"LoanStatus != 'Current'\")\n",
    "\n",
    "data2.shape"
   ]
  },
  {
   "cell_type": "code",
   "execution_count": 91,
   "metadata": {},
   "outputs": [
    {
     "data": {
      "text/plain": [
       "(11204, 81)"
      ]
     },
     "execution_count": 91,
     "metadata": {},
     "output_type": "execute_result"
    }
   ],
   "source": [
    "data = data2.query(\"TotalProsperLoans > 0\").copy()\n",
    "\n",
    "data.shape"
   ]
  },
  {
   "cell_type": "code",
   "execution_count": 94,
   "metadata": {},
   "outputs": [
    {
     "data": {
      "text/plain": [
       "Completed                 8084\n",
       "Chargedoff                1977\n",
       "Defaulted                  477\n",
       "Past Due (1-15 days)       249\n",
       "Past Due (61-90 days)       98\n",
       "Past Due (91-120 days)      93\n",
       "Past Due (31-60 days)       86\n",
       "Past Due (16-30 days)       74\n",
       "FinalPaymentInProgress      61\n",
       "Name: LoanStatus, dtype: int64"
      ]
     },
     "execution_count": 94,
     "metadata": {},
     "output_type": "execute_result"
    }
   ],
   "source": [
    "category = ['FinalPaymentInProgress', 'Completed',\n",
    " 'Past Due (1-15 days)', 'Past Due (16-30 days)', 'Past Due (31-60 days)', \n",
    "'Past Due (61-90 days)', 'Past Due (91-120 days)', \n",
    "'Defaulted', 'Chargedoff']\n",
    "\n",
    "category = pd.api.types.CategoricalDtype(categories=category, ordered=True)\n",
    "data.LoanStatus = data.LoanStatus.astype(category)\n",
    "\n",
    "data.LoanStatus.value_counts()"
   ]
  },
  {
   "cell_type": "code",
   "execution_count": 92,
   "metadata": {},
   "outputs": [
    {
     "data": {
      "text/plain": [
       "Completed                 8084\n",
       "Chargedoff                1977\n",
       "Defaulted                  477\n",
       "Past Due (1-15 days)       249\n",
       "Past Due (61-90 days)       98\n",
       "Past Due (91-120 days)      93\n",
       "Past Due (31-60 days)       86\n",
       "Past Due (16-30 days)       74\n",
       "FinalPaymentInProgress      61\n",
       "Current                      0\n",
       "Name: LoanStatus, dtype: int64"
      ]
     },
     "execution_count": 92,
     "metadata": {},
     "output_type": "execute_result"
    }
   ],
   "source": [
    "data.LoanStatus.value_counts()"
   ]
  },
  {
   "cell_type": "markdown",
   "metadata": {},
   "source": [
    "The distribution of both variables are skewed to the right. Also, in both cases, there are more borrowers in the first bin. This is because most borrowers do not have prior loans.\n",
    "\n"
   ]
  },
  {
   "cell_type": "markdown",
   "metadata": {},
   "source": [
    "##### What is the distribution of the percentage of on time payments made?\n",
    "\n",
    "The `OnTimeProsperPayments` variable has null values that implies that the borrower concerned doesn't have any prior loans. We will replace the null value with 0. We will also plot the y-axis on a log scale in other to make every bin visible."
   ]
  },
  {
   "cell_type": "code",
   "execution_count": 95,
   "metadata": {},
   "outputs": [
    {
     "data": {
      "image/png": "[encoded data removed]",
      "text/plain": [
       "<Figure size 432x288 with 1 Axes>"
      ]
     },
     "metadata": {
      "needs_background": "light"
     },
     "output_type": "display_data"
    }
   ],
   "source": [
    "# compute the percentages of On time payments\n",
    "data[\"OnTimeProsperPayments\"] = data.OnTimeProsperPayments.fillna(0)\n",
    "\n",
    "bin_edges = np.arange(0, data.OnTimeProsperPayments.max()+1, 3)\n",
    "\n",
    "sns.histplot(data=data, x='OnTimeProsperPayments', bins=bin_edges)\n",
    "plt.yscale('log')\n",
    "\n",
    "#plt.yticks([20,200,2000,20000], ['20', '200', '2000', '20000'])\n",
    "plt.xlabel('Number of on time payments on prior loans')\n",
    "plt.title('Distribution of the number of on time payments on prior loans')\n",
    "\n",
    "plt.show();"
   ]
  },
  {
   "cell_type": "markdown",
   "metadata": {},
   "source": [
    "The distribution is unimodal and skewed to the right with peak around 0 because most borrowers didn't have prior loans.\n",
    "\n",
    "##### What is the distribution of `ProsperPrincipalOutstanding`? What is also the distribution of the average credit score?\n",
    "\n",
    "As with the `OnTimeProsperPayments` variable, `ProsperPrincipalOutstanding`, `CreditScoreRangeLower`, and `CreditScoreRangeUpper` also contains null values that mean the borrowers concerned didn't have any prior loans. We will also replace them with 0. A log scale will be used on the y-axis to make the bins of the distribution of `ProsperPrincipalOutstanding` visible."
   ]
  },
  {
   "cell_type": "code",
   "execution_count": 96,
   "metadata": {},
   "outputs": [
    {
     "data": {
      "image/png": "[encoded data removed]",
      "text/plain": [
       "<Figure size 1080x360 with 2 Axes>"
      ]
     },
     "metadata": {
      "needs_background": "light"
     },
     "output_type": "display_data"
    }
   ],
   "source": [
    "# distribution of ProsperPrincipalOutstanding\n",
    "\n",
    "fig, axes = plt.subplots(1,2, figsize=(15,5))\n",
    "\n",
    "bin_size = get_bin_counts(data.ProsperPrincipalOutstanding)\n",
    "\n",
    "loans.ProsperPrincipalOutstanding = data.ProsperPrincipalOutstanding.fillna(0)\n",
    "\n",
    "ax1 = sns.histplot(data=data, x='ProsperPrincipalOutstanding', bins=bin_size, ax=axes[0]) \n",
    "ax1.set_yscale('log')\n",
    "y_ticks = [10, 100, 1000, 10000, 100000]\n",
    "ax1.set_yticks(y_ticks)\n",
    "ax1.set_yticklabels([str(i) for i in y_ticks])\n",
    "ax1.set(xlabel=\"Principal outstanding in USD\",\n",
    "       title=\"Distribution of principal outstanding\")\n",
    "\n",
    "data['AverageCreditScore'] = (data.CreditScoreRangeUpper.fillna(0) + loans.CreditScoreRangeLower.fillna(0))/2\n",
    "data.drop(columns=['CreditScoreRangeLower', 'CreditScoreRangeUpper'], inplace=True)\n",
    "\n",
    "ax2 = sns.histplot(data=data, x='AverageCreditScore', bins=get_bin_counts(data.AverageCreditScore), ax=axes[1])\n",
    "ax2.set(xlabel='Average credit score',\n",
    "        title='Distribution of the average credit score')\n",
    "\n",
    "plt.show()"
   ]
  },
  {
   "cell_type": "markdown",
   "metadata": {},
   "source": [
    "The distribution is unimodal with a peak at the first bin because, as we have already seen, most borrowers don't have prior loans. The distribution seems to decrease with an increase in the principal outstanding which suggests that there are less borrowers with a lot of outstanding than those with few. On the other hand, the average credit score roughly follows a normal distribution with a peak around 700.\n",
    "\n",
    "##### What is the distribution of annual percentage rate?\n",
    "\n",
    "The `BorrowerAPR` variable has some missing values which we can't account for at the moment. Let's see the percentage of null values that it has."
   ]
  },
  {
   "cell_type": "code",
   "execution_count": 97,
   "metadata": {},
   "outputs": [
    {
     "data": {
      "text/plain": [
       "0.0002194195037608503"
      ]
     },
     "execution_count": 97,
     "metadata": {},
     "output_type": "execute_result"
    }
   ],
   "source": [
    "loans.BorrowerAPR.isna().sum()/loans.BorrowerAPR.shape[0]"
   ]
  },
  {
   "cell_type": "markdown",
   "metadata": {},
   "source": [
    "As we can see, it is not significant. Therefore, it is okay to replace them with the mean value."
   ]
  },
  {
   "cell_type": "code",
   "execution_count": 98,
   "metadata": {},
   "outputs": [
    {
     "data": {
      "image/png": "[encoded data removed]",
      "text/plain": [
       "<Figure size 432x288 with 1 Axes>"
      ]
     },
     "metadata": {
      "needs_background": "light"
     },
     "output_type": "display_data"
    }
   ],
   "source": [
    "# distribution of the PercentFunded\n",
    "data.BorrowerAPR = data.BorrowerAPR.fillna(data.BorrowerAPR.mean())\n",
    "\n",
    "sns.histplot(data=data, x='BorrowerAPR', bins=get_bin_counts(data.BorrowerAPR))\n",
    "plt.xlabel('Annual percentage rate')\n",
    "plt.title('Distribution of the annual percentage rate')\n",
    "plt.show();"
   ]
  },
  {
   "cell_type": "markdown",
   "metadata": {},
   "source": [
    "This distribution is also unimodal with most borrowers having a rating of about 35%."
   ]
  },
  {
   "cell_type": "code",
   "execution_count": 99,
   "metadata": {},
   "outputs": [
    {
     "data": {
      "text/plain": [
       "<AxesSubplot:xlabel='EstimatedLoss', ylabel='Density'>"
      ]
     },
     "execution_count": 99,
     "metadata": {},
     "output_type": "execute_result"
    },
    {
     "data": {
      "image/png": "[encoded data removed]",
      "text/plain": [
       "<Figure size 432x288 with 1 Axes>"
      ]
     },
     "metadata": {
      "needs_background": "light"
     },
     "output_type": "display_data"
    }
   ],
   "source": [
    "sns.kdeplot(data=data, x='EstimatedLoss')"
   ]
  },
  {
   "cell_type": "markdown",
   "metadata": {},
   "source": [
    "\n",
    "\n",
    ">**Rubric Tip**: Visualizations should depict the data appropriately so that the plots are easily interpretable. You should choose an appropriate plot type, data encodings, and formatting as needed. The formatting may include setting/adding the title, labels, legend, and comments. Also, do not overplot or incorrectly plot ordinal data."
   ]
  },
  {
   "cell_type": "markdown",
   "metadata": {},
   "source": [
    "### Discuss the distribution(s) of your variable(s) of interest. Were there any unusual points? Did you need to perform any transformations?\n",
    "\n",
    "I created a new columns (`AverageCreditScore`) in the dataframe which is the average credit score of `CreditScoreRangeLower` and `CreditScoreRangeUpper`. Both `CreditScoreRangeLower`, `CreditScoreRangeUpper` were then dropped from the dataframe. I did a log transformation of `MonthlyStatedIncome` due to its large range of values, and also plotted the distributions of `LoanCurrentDaysDelinquent`, `ProsperPaymentsOneMonthPlusLate`, `ProsperPrincipalOutstanding`, and `AverageCreditScore` on a log scale for their y-axis to make their bins visible. I also replaced the null values in the variables with 0 since a null value in these cases means the borrower had no prior loan. The `BorrowerAPR` variable also contains null values which wasn't accounted for in the data dictionary. I therefore replaced them with the mean since the percentage of null values it contains is not significant.\n",
    "\n",
    " Most of the loans in the dataset are current with very few of them been cancelled as shown in the bar plot of `LoanStatus`. The stated monthly income follows a normal distribution and the bar plot of the `IncomeVerifiable` variable shows that most of them can be verified. The distribution of the number of days borrowers were delinquent on their current loan, payments that were a month or more late, and the principal outstanding are unimodal and roughly skewed to the right with a peak between 0 and 30 days for `LoanCurrentDaysDelinquent`, 1 and 3 months for `ProsperPaymentsOneMonthPlusLate`, and 0 and 700 dollars for `ProsperPrincipalOutstanding` respectively. The number of on time payments is also unimodal and right skewed with a peak at 0 because most borrowers did not have prior loans. The average credit score follows a normal distribution with a peak around 700. The distribution of the `BorrowerAPR` variable is unimodal with a peak around 35%.\n",
    "\n",
    "### Of the features you investigated, were there any unusual distributions? Did you perform any operations on the data to tidy, adjust, or change the form of the data? If so, why did you do this?\n",
    "\n",
    "I noticed that there were no borrowers with a `Past Due(> 120 days)` status. I decided to remove this option from the list of possible values for the `LoanStatus` variable, since it won't be useful in our current analysis."
   ]
  },
  {
   "cell_type": "markdown",
   "metadata": {},
   "source": [
    "## Bivariate Exploration\n",
    "\n",
    "> In this section, investigate relationships between pairs of variables in your\n",
    "data. Make sure the variables that you cover here have been introduced in some\n",
    "fashion in the previous section (univariate exploration)."
   ]
  },
  {
   "cell_type": "markdown",
   "metadata": {},
   "source": [
    "##### Is there a relationship between average credit score and principal outstanding balance?"
   ]
  },
  {
   "cell_type": "code",
   "execution_count": 100,
   "metadata": {},
   "outputs": [
    {
     "data": {
      "image/png": "[encoded data removed]",
      "text/plain": [
       "<Figure size 432x288 with 1 Axes>"
      ]
     },
     "metadata": {
      "needs_background": "light"
     },
     "output_type": "display_data"
    }
   ],
   "source": [
    "# we will investigate this with a scatter plot\n",
    "\n",
    "sns.scatterplot(data=data, x='ProsperPrincipalOutstanding', y='AverageCreditScore')\n",
    "plt.xlabel('Principal Outstanding in USD')\n",
    "plt.ylabel('Average credit score')\n",
    "plt.title('Average credit score and Principal outstanding in USD')\n",
    "plt.show()"
   ]
  },
  {
   "cell_type": "markdown",
   "metadata": {},
   "source": [
    "There seems to be little or no relationship between the average credit score and the principal outstanding balance. There is one rather extreme value in the plot – the case where some borrowers have an average of 0 credit score and a 0 principal outstanding balance. Their loan might have been cancelled.\n",
    "\n",
    "##### Which loan status has the most principal outstanding?"
   ]
  },
  {
   "cell_type": "code",
   "execution_count": 101,
   "metadata": {},
   "outputs": [
    {
     "data": {
      "image/png": "[encoded data removed]",
      "text/plain": [
       "<Figure size 432x288 with 1 Axes>"
      ]
     },
     "metadata": {
      "needs_background": "light"
     },
     "output_type": "display_data"
    }
   ],
   "source": [
    "# we will investigate this with a bar plot with the mean of the prosper principal outstanding on the x-axis\n",
    "\n",
    "sns.barplot(data=data, x='ProsperPrincipalOutstanding', y='LoanStatus', color=sns.color_palette()[0])\n",
    "plt.xlabel(\"Principal outstanding in USD\")\n",
    "plt.ylabel(\"Loan status\")\n",
    "plt.title(\"Average number of principal outstanding per loan status\")\n",
    "plt.show()"
   ]
  },
  {
   "cell_type": "markdown",
   "metadata": {},
   "source": [
    "It turns out that the `Past Due (61-90 days)` status has the largest principal outstanding. As we suspected above, borrowers whose loans were cancelled have no principal outstanding.\n",
    "\n",
    "##### Is there a relationship between average credit score and number of on time payments for prior loans?"
   ]
  },
  {
   "cell_type": "code",
   "execution_count": 102,
   "metadata": {},
   "outputs": [
    {
     "data": {
      "image/png": "[encoded data removed]",
      "text/plain": [
       "<Figure size 432x288 with 1 Axes>"
      ]
     },
     "metadata": {
      "needs_background": "light"
     },
     "output_type": "display_data"
    }
   ],
   "source": [
    "# We will investigate this with a scatter plot\n",
    "\n",
    "sns.scatterplot(data=data, x='OnTimeProsperPayments', y='AverageCreditScore')\n",
    "plt.xlabel(\"Number of on time payments for prior loans\")\n",
    "plt.ylabel(\"Average credit score\")\n",
    "plt.title(\"Number of on time payments for prior loans and average credit score\")\n",
    "plt.show()"
   ]
  },
  {
   "cell_type": "markdown",
   "metadata": {},
   "source": [
    "From the above plot, there is no relationship between the average credit score and the number of on time payments for prior loans."
   ]
  },
  {
   "cell_type": "markdown",
   "metadata": {},
   "source": [
    "##### Which loan status has the least average stated monthly income?"
   ]
  },
  {
   "cell_type": "code",
   "execution_count": 103,
   "metadata": {},
   "outputs": [
    {
     "data": {
      "image/png": "[encoded data removed]",
      "text/plain": [
       "<Figure size 432x288 with 1 Axes>"
      ]
     },
     "metadata": {
      "needs_background": "light"
     },
     "output_type": "display_data"
    }
   ],
   "source": [
    "# we will investigate this with a bar plot with the mean of StatedMonthlyIncome on the x-axis\n",
    "\n",
    "sns.barplot(data=data, x='StatedMonthlyIncome', y='LoanStatus', color=sns.color_palette()[0])\n",
    "plt.xlabel(\"Average monthly income in USD\")\n",
    "plt.ylabel(\"Loan status\")\n",
    "plt.title(\"Average monthly income in USD per loan status\")\n",
    "plt.show()"
   ]
  },
  {
   "cell_type": "markdown",
   "metadata": {},
   "source": [
    "It looks like cancelled loans have the lowest stated monthly income on average. This is followed with loans that were defaulted and charged off. This seems to suggest that the monthly income of the borrower might affect the outcome of the loan.\n",
    "\n",
    "##### Are borrowers with verifiable income less likely to default?\n",
    "\n",
    "We will investigate this with a clustered bar plot."
   ]
  },
  {
   "cell_type": "code",
   "execution_count": 104,
   "metadata": {},
   "outputs": [
    {
     "data": {
      "image/png": "[encoded data removed]",
      "text/plain": [
       "<Figure size 720x360 with 1 Axes>"
      ]
     },
     "metadata": {
      "needs_background": "light"
     },
     "output_type": "display_data"
    }
   ],
   "source": [
    "# bar plot of showing LoanStatus categorized according to whether borrowers have verifiable income.\n",
    "\n",
    "plt.figure(figsize=(10,5))\n",
    "\n",
    "sns.countplot(data=data, y='LoanStatus', hue='IncomeVerifiable', palette='colorblind')\n",
    "plt.xlabel(\"Count\")\n",
    "plt.ylabel(\"Loan status\")\n",
    "plt.title(\"Frequency of borrowers with and without verifiable income per loan status\")\n",
    "plt.legend(title='Income is Verifiable')\n",
    "plt.show()"
   ]
  },
  {
   "cell_type": "markdown",
   "metadata": {},
   "source": [
    "From the plot, we can see that few borrowers with verifiable income default or have their loan charged off. However, we also see a roughly similar trend with borrowers that didn't provide documents to support their stated income. \n",
    "\n",
    "##### Is there a relationship between the number of days borrowers were delinquent and the loan status?"
   ]
  },
  {
   "cell_type": "code",
   "execution_count": 105,
   "metadata": {},
   "outputs": [
    {
     "data": {
      "image/png": "[encoded data removed]",
      "text/plain": [
       "<Figure size 720x360 with 1 Axes>"
      ]
     },
     "metadata": {
      "needs_background": "light"
     },
     "output_type": "display_data"
    }
   ],
   "source": [
    "# we will investigate this with a bar plot\n",
    "\n",
    "plt.figure(figsize=(10,5))\n",
    "\n",
    "sns.barplot(data=data, x='LoanCurrentDaysDelinquent', y='LoanStatus', color=sns.color_palette()[0])\n",
    "plt.xlabel(\"Avg. number of delinquent days on loan\")\n",
    "plt.ylabel(\"Loan status\")\n",
    "plt.title(\"Avg. number of delinquent days on loan per loan status\")\n",
    "plt.show()"
   ]
  },
  {
   "cell_type": "markdown",
   "metadata": {},
   "source": [
    "The plot shows that there seems to be a relationship between these variables as we would expect. Borrowers whose loan status are either `Current`, `Completed`, `FinalPaymentInProgress`, or `Cancelled` were not delinquent on their loans. Those with `Past Due (1-15 days)`, `Past Due (16-30 days)`, `Past Due (31-60 days)`, `Past Due (61-90 days)`, `Past Due (91-120 days)`, `Defaulted`, and `Chargedoff` statuses were delinquent for a number of days with `Chargedoff` having the highest number of delinquent days – an average of more than 1200 days.\n",
    "\n",
    "##### Which loan term had the most number of defaults?\n",
    "\n",
    "We will investigate this using a clustered count plot"
   ]
  },
  {
   "cell_type": "code",
   "execution_count": 106,
   "metadata": {},
   "outputs": [
    {
     "data": {
      "image/png": "[encoded data removed]",
      "text/plain": [
       "<Figure size 720x360 with 1 Axes>"
      ]
     },
     "metadata": {
      "needs_background": "light"
     },
     "output_type": "display_data"
    }
   ],
   "source": [
    "# count plot of loan status by loan term\n",
    "\n",
    "plt.figure(figsize=(10,5))\n",
    "\n",
    "sns.countplot(data=data, y= 'LoanStatus', hue = 'Term', palette='Blues')\n",
    "plt.xlabel(\"Count\")\n",
    "plt.ylabel(\"Loan status\")\n",
    "plt.title(\"Loan terms per Loan status\")\n",
    "\n",
    "plt.show()"
   ]
  },
  {
   "cell_type": "markdown",
   "metadata": {},
   "source": [
    "From the plot, very few borrowers with a 60-month loan term defaulted or have their loans charged off. None or extremely few borrowers with a 12-month term defaulted. This might be due to the fact that very few borrowers took a 12-month loan. Overall, the trend across each loan term is roughly the same.\n",
    "\n",
    "##### Is there a relationship between the loan status and the annual percentage rates?\n",
    "\n",
    "We will investigate this with a box plot."
   ]
  },
  {
   "cell_type": "code",
   "execution_count": 107,
   "metadata": {},
   "outputs": [
    {
     "data": {
      "image/png": "[encoded data removed]",
      "text/plain": [
       "<Figure size 720x360 with 1 Axes>"
      ]
     },
     "metadata": {
      "needs_background": "light"
     },
     "output_type": "display_data"
    }
   ],
   "source": [
    "# box plot showing relationship between LoanStatus ans BorrowerAPR\n",
    "\n",
    "plt.figure(figsize=(10,5))\n",
    "\n",
    "sns.boxplot(data=data, y='LoanStatus', x='BorrowerAPR', color=sns.color_palette()[0])\n",
    "\n",
    "plt.xlabel('Annual percentage rate')\n",
    "plt.ylabel(\"Loan status\")\n",
    "plt.title(\"Annual percentage rates per loan status\")\n",
    "\n",
    "plt.show();"
   ]
  },
  {
   "cell_type": "markdown",
   "metadata": {},
   "source": [
    "From the plot, we see that borrowers whose loans are past due, those that defaulted, and those whose loans were charged off, had higher annual percentage ratings compared to those that had completed their loans. This seems to suggest that the higher the annual percentage rate of the loan the less likely borrowers would be able to complete it.\n",
    "\n",
    "##### Is there a relationship between the annual percentage rate and the estimated loss on charge-off loans?\n",
    "\n",
    "We will investigate this with a scatter plot."
   ]
  },
  {
   "cell_type": "code",
   "execution_count": 108,
   "metadata": {},
   "outputs": [
    {
     "data": {
      "image/png": "[encoded data removed]",
      "text/plain": [
       "<Figure size 432x288 with 1 Axes>"
      ]
     },
     "metadata": {
      "needs_background": "light"
     },
     "output_type": "display_data"
    }
   ],
   "source": [
    "sns.scatterplot(data=data, x='BorrowerAPR',  y='EstimatedLoss', alpha=1/12)\n",
    "\n",
    "plt.xlabel(\"Annual percentage rates\")\n",
    "plt.ylabel(\"Estimated loss on charge-offs\")\n",
    "plt.title(\"Annual percentage rates and estimated loss on charge-offs\")\n",
    "\n",
    "plt.show();"
   ]
  },
  {
   "cell_type": "markdown",
   "metadata": {},
   "source": [
    "From the scatter plot, there seems to be a very strong positive relationship between these variables."
   ]
  },
  {
   "cell_type": "markdown",
   "metadata": {},
   "source": [
    "### Talk about some of the relationships you observed in this part of the investigation. How did the feature(s) of interest vary with other features in the dataset?\n",
    "\n",
    "The bivariate analysis shows that borrowers that are delinquent for a long period of time are more likely to default or have their loans charged-off. It also shows that those with a higher annual percentage rate (APR) are more likely to delay, default or have their loans charged-off.\n",
    "\n",
    "### Did you observe any interesting relationships between the other features (not the main feature(s) of interest)?\n",
    "\n",
    "We can see a strong positive relationship between the APR and the estimated loss on charge-off loans. This seems to suggest that the APR, the more likely there will be loses incurred on charge-off loans. This seems to confirm our initial observation that borrowers with higher APRs are more likely to default."
   ]
  },
  {
   "cell_type": "markdown",
   "metadata": {},
   "source": [
    "## Multivariate Exploration\n",
    "\n",
    "\n",
    "\n",
    "> Create plots of three or more variables to investigate your data even\n",
    "further. Make sure that your investigations are justified, and follow from\n",
    "your work in the previous sections."
   ]
  },
  {
   "cell_type": "markdown",
   "metadata": {},
   "source": [
    "Is the relationship between the annual percentage rate and the estimated loss consistent for each loan term?\n",
    "\n",
    "Let's investigate this using a scatter plot faceted by the loan term."
   ]
  },
  {
   "cell_type": "code",
   "execution_count": 74,
   "metadata": {},
   "outputs": [
    {
     "data": {
      "image/png": "[encoded data removed]",
      "text/plain": [
       "<Figure size 1080x360 with 3 Axes>"
      ]
     },
     "metadata": {
      "needs_background": "light"
     },
     "output_type": "display_data"
    }
   ],
   "source": [
    "# scatter plot showing the relationship between TotalProsperLoans\n",
    "# and OnTimeProsperPayments per loan term.\n",
    "#loans.TotalProsperLoans = loans.TotalProsperLoans.astype(int)\n",
    "\n",
    "g = sns.catplot(data=data, x='BorrowerAPR', y='LoanStatus', col='Term', col_wrap=3, kind='box')\n",
    "\n",
    "g.set_xlabels(\"Annual percentage rate\")\n",
    "g.set_ylabels(\"Estimated loss on charge-off loans\")\n",
    "g.set_titles(template='{col_name} months loan term')\n",
    "\n",
    "plt.show();"
   ]
  },
  {
   "cell_type": "markdown",
   "metadata": {},
   "source": [
    "There seem to be an increase in the strength of the relationship between these two variables. Let's visualize this more clearly with a heatmap."
   ]
  },
  {
   "cell_type": "code",
   "execution_count": 109,
   "metadata": {},
   "outputs": [
    {
     "data": {
      "text/plain": [
       "<seaborn.axisgrid.FacetGrid at 0x278a2ee03a0>"
      ]
     },
     "execution_count": 109,
     "metadata": {},
     "output_type": "execute_result"
    },
    {
     "data": {
      "image/png": "[encoded data removed]",
      "text/plain": [
       "<Figure size 1080x1080 with 7 Axes>"
      ]
     },
     "metadata": {
      "needs_background": "light"
     },
     "output_type": "display_data"
    }
   ],
   "source": [
    "sns.catplot(data=data, x='EstimatedLoss', y='LoanStatus', col='TotalProsperLoans',\n",
    " col_wrap=3, kind='box')"
   ]
  },
  {
   "cell_type": "code",
   "execution_count": 130,
   "metadata": {},
   "outputs": [
    {
     "data": {
      "text/html": [
       "<div>\n",
       "<style scoped>\n",
       "    .dataframe tbody tr th:only-of-type {\n",
       "        vertical-align: middle;\n",
       "    }\n",
       "\n",
       "    .dataframe tbody tr th {\n",
       "        vertical-align: top;\n",
       "    }\n",
       "\n",
       "    .dataframe thead th {\n",
       "        text-align: right;\n",
       "    }\n",
       "</style>\n",
       "<table border=\"1\" class=\"dataframe\">\n",
       "  <thead>\n",
       "    <tr style=\"text-align: right;\">\n",
       "      <th></th>\n",
       "      <th>LoanStatus</th>\n",
       "      <th>MemberKey</th>\n",
       "      <th>ProsperPrincipalOutstanding</th>\n",
       "      <th>ProsperPrincipalBorrowed</th>\n",
       "    </tr>\n",
       "  </thead>\n",
       "  <tbody>\n",
       "    <tr>\n",
       "      <th>17422</th>\n",
       "      <td>Completed</td>\n",
       "      <td>DDAE33746410221086D2E02</td>\n",
       "      <td>0.00</td>\n",
       "      <td>38000.0</td>\n",
       "    </tr>\n",
       "    <tr>\n",
       "      <th>24078</th>\n",
       "      <td>Completed</td>\n",
       "      <td>7E1733653050264822FAA3D</td>\n",
       "      <td>0.00</td>\n",
       "      <td>23200.0</td>\n",
       "    </tr>\n",
       "    <tr>\n",
       "      <th>38667</th>\n",
       "      <td>Completed</td>\n",
       "      <td>E4AF3422677498955FFA00E</td>\n",
       "      <td>0.00</td>\n",
       "      <td>20000.0</td>\n",
       "    </tr>\n",
       "    <tr>\n",
       "      <th>40075</th>\n",
       "      <td>Completed</td>\n",
       "      <td>63CA34120866140639431C9</td>\n",
       "      <td>0.02</td>\n",
       "      <td>19600.0</td>\n",
       "    </tr>\n",
       "    <tr>\n",
       "      <th>41958</th>\n",
       "      <td>FinalPaymentInProgress</td>\n",
       "      <td>720D3508651090808DC328F</td>\n",
       "      <td>0.01</td>\n",
       "      <td>15940.0</td>\n",
       "    </tr>\n",
       "    <tr>\n",
       "      <th>50414</th>\n",
       "      <td>Completed</td>\n",
       "      <td>C45F3365236450678BA344C</td>\n",
       "      <td>4799.68</td>\n",
       "      <td>43900.0</td>\n",
       "    </tr>\n",
       "    <tr>\n",
       "      <th>57799</th>\n",
       "      <td>Completed</td>\n",
       "      <td>C70934206057523078260C7</td>\n",
       "      <td>0.01</td>\n",
       "      <td>23000.0</td>\n",
       "    </tr>\n",
       "    <tr>\n",
       "      <th>60687</th>\n",
       "      <td>Completed</td>\n",
       "      <td>739C338135235294782AE75</td>\n",
       "      <td>0.03</td>\n",
       "      <td>27565.0</td>\n",
       "    </tr>\n",
       "    <tr>\n",
       "      <th>81556</th>\n",
       "      <td>Completed</td>\n",
       "      <td>A833340429888765780A3F0</td>\n",
       "      <td>0.04</td>\n",
       "      <td>31700.0</td>\n",
       "    </tr>\n",
       "    <tr>\n",
       "      <th>99389</th>\n",
       "      <td>Completed</td>\n",
       "      <td>16083364744933457E57FB9</td>\n",
       "      <td>0.02</td>\n",
       "      <td>28150.0</td>\n",
       "    </tr>\n",
       "    <tr>\n",
       "      <th>103807</th>\n",
       "      <td>Defaulted</td>\n",
       "      <td>458E33818543661332BC1BE</td>\n",
       "      <td>5412.44</td>\n",
       "      <td>19272.0</td>\n",
       "    </tr>\n",
       "  </tbody>\n",
       "</table>\n",
       "</div>"
      ],
      "text/plain": [
       "                    LoanStatus                MemberKey  \\\n",
       "17422                Completed  DDAE33746410221086D2E02   \n",
       "24078                Completed  7E1733653050264822FAA3D   \n",
       "38667                Completed  E4AF3422677498955FFA00E   \n",
       "40075                Completed  63CA34120866140639431C9   \n",
       "41958   FinalPaymentInProgress  720D3508651090808DC328F   \n",
       "50414                Completed  C45F3365236450678BA344C   \n",
       "57799                Completed  C70934206057523078260C7   \n",
       "60687                Completed  739C338135235294782AE75   \n",
       "81556                Completed  A833340429888765780A3F0   \n",
       "99389                Completed  16083364744933457E57FB9   \n",
       "103807               Defaulted  458E33818543661332BC1BE   \n",
       "\n",
       "        ProsperPrincipalOutstanding  ProsperPrincipalBorrowed  \n",
       "17422                          0.00                   38000.0  \n",
       "24078                          0.00                   23200.0  \n",
       "38667                          0.00                   20000.0  \n",
       "40075                          0.02                   19600.0  \n",
       "41958                          0.01                   15940.0  \n",
       "50414                       4799.68                   43900.0  \n",
       "57799                          0.01                   23000.0  \n",
       "60687                          0.03                   27565.0  \n",
       "81556                          0.04                   31700.0  \n",
       "99389                          0.02                   28150.0  \n",
       "103807                      5412.44                   19272.0  "
      ]
     },
     "execution_count": 130,
     "metadata": {},
     "output_type": "execute_result"
    }
   ],
   "source": [
    "data.query('TotalProsperLoans==6')[['LoanStatus', 'MemberKey', 'ProsperPrincipalOutstanding', 'ProsperPrincipalBorrowed']]"
   ]
  },
  {
   "cell_type": "code",
   "execution_count": null,
   "metadata": {},
   "outputs": [],
   "source": [
    "data.query('TotalProsperLoans==6')[['LoanStatus', 'MemberKey', 'ProsperPrincipalOutstanding']]"
   ]
  },
  {
   "cell_type": "code",
   "execution_count": 4,
   "metadata": {},
   "outputs": [
    {
     "data": {
      "text/html": [
       "<div>\n",
       "<style scoped>\n",
       "    .dataframe tbody tr th:only-of-type {\n",
       "        vertical-align: middle;\n",
       "    }\n",
       "\n",
       "    .dataframe tbody tr th {\n",
       "        vertical-align: top;\n",
       "    }\n",
       "\n",
       "    .dataframe thead th {\n",
       "        text-align: right;\n",
       "    }\n",
       "</style>\n",
       "<table border=\"1\" class=\"dataframe\">\n",
       "  <thead>\n",
       "    <tr style=\"text-align: right;\">\n",
       "      <th></th>\n",
       "      <th>LoanKey</th>\n",
       "      <th>LP_CustomerPayments</th>\n",
       "      <th>LP_CustomerPrincipalPayments</th>\n",
       "      <th>LP_InterestandFees</th>\n",
       "      <th>LP_ServiceFees</th>\n",
       "      <th>MonthlyLoanPayment</th>\n",
       "      <th>BorrowerRate</th>\n",
       "      <th>BorrowerAPR</th>\n",
       "      <th>ProsperPrincipalOutstanding</th>\n",
       "      <th>LP_NetPrincipalLoss</th>\n",
       "      <th>LP_GrossPrincipalLoss</th>\n",
       "      <th>LoanCurrentDaysDelinquent</th>\n",
       "      <th>LoanOriginalAmount</th>\n",
       "      <th>Investors</th>\n",
       "      <th>TotalProsperLoans</th>\n",
       "      <th>LoanStatus</th>\n",
       "      <th>InvestmentFromFriendsCount</th>\n",
       "      <th>LoanOriginationDate</th>\n",
       "      <th>ClosedDate</th>\n",
       "    </tr>\n",
       "  </thead>\n",
       "  <tbody>\n",
       "    <tr>\n",
       "      <th>1</th>\n",
       "      <td>9E3B37071505919926B1D82</td>\n",
       "      <td>0.0</td>\n",
       "      <td>0.0</td>\n",
       "      <td>0.0</td>\n",
       "      <td>0.0</td>\n",
       "      <td>318.93</td>\n",
       "      <td>0.092</td>\n",
       "      <td>0.12016</td>\n",
       "      <td>NaN</td>\n",
       "      <td>0.0</td>\n",
       "      <td>0.0</td>\n",
       "      <td>0</td>\n",
       "      <td>10000</td>\n",
       "      <td>1</td>\n",
       "      <td>0.0</td>\n",
       "      <td>Current</td>\n",
       "      <td>0</td>\n",
       "      <td>2014-03-03</td>\n",
       "      <td>NaT</td>\n",
       "    </tr>\n",
       "  </tbody>\n",
       "</table>\n",
       "</div>"
      ],
      "text/plain": [
       "                   LoanKey  LP_CustomerPayments  LP_CustomerPrincipalPayments  \\\n",
       "1  9E3B37071505919926B1D82                  0.0                           0.0   \n",
       "\n",
       "   LP_InterestandFees  LP_ServiceFees  MonthlyLoanPayment  BorrowerRate  \\\n",
       "1                 0.0             0.0              318.93         0.092   \n",
       "\n",
       "   BorrowerAPR  ProsperPrincipalOutstanding  LP_NetPrincipalLoss  \\\n",
       "1      0.12016                          NaN                  0.0   \n",
       "\n",
       "   LP_GrossPrincipalLoss  LoanCurrentDaysDelinquent  LoanOriginalAmount  \\\n",
       "1                    0.0                          0               10000   \n",
       "\n",
       "   Investors  TotalProsperLoans LoanStatus  InvestmentFromFriendsCount  \\\n",
       "1          1                0.0    Current                           0   \n",
       "\n",
       "  LoanOriginationDate ClosedDate  \n",
       "1          2014-03-03        NaT  "
      ]
     },
     "execution_count": 4,
     "metadata": {},
     "output_type": "execute_result"
    }
   ],
   "source": [
    "t = loans.query(\"MemberKey=='1D13370546739025387B2F4'\")[['LoanKey', 'LP_CustomerPayments', 'LP_CustomerPrincipalPayments', 'LP_InterestandFees', 'LP_ServiceFees',\n",
    " 'MonthlyLoanPayment', 'BorrowerRate', 'BorrowerAPR', 'ProsperPrincipalOutstanding', \n",
    " 'LP_NetPrincipalLoss', 'LP_GrossPrincipalLoss', 'LoanCurrentDaysDelinquent',\n",
    " 'LoanOriginalAmount', 'Investors',\n",
    "'TotalProsperLoans', 'LoanStatus', 'InvestmentFromFriendsCount', 'LoanOriginationDate', 'ClosedDate']]\n",
    "\n",
    "t.TotalProsperLoans = t.TotalProsperLoans.fillna(0)\n",
    "t.sort_values('TotalProsperLoans')"
   ]
  },
  {
   "cell_type": "code",
   "execution_count": 135,
   "metadata": {},
   "outputs": [
    {
     "data": {
      "text/html": [
       "<div>\n",
       "<style scoped>\n",
       "    .dataframe tbody tr th:only-of-type {\n",
       "        vertical-align: middle;\n",
       "    }\n",
       "\n",
       "    .dataframe tbody tr th {\n",
       "        vertical-align: top;\n",
       "    }\n",
       "\n",
       "    .dataframe thead th {\n",
       "        text-align: right;\n",
       "    }\n",
       "</style>\n",
       "<table border=\"1\" class=\"dataframe\">\n",
       "  <thead>\n",
       "    <tr style=\"text-align: right;\">\n",
       "      <th></th>\n",
       "      <th>TotalProsperLoans</th>\n",
       "      <th>CurrentCreditLines</th>\n",
       "      <th>Term</th>\n",
       "      <th>EmploymentStatusDuration</th>\n",
       "      <th>StatedMonthlyIncome</th>\n",
       "      <th>ProsperPaymentsLessThanOneMonthLate</th>\n",
       "      <th>DebtToIncomeRatio</th>\n",
       "      <th>ProsperPaymentsOneMonthPlusLate</th>\n",
       "      <th>ListingCategory (numeric)</th>\n",
       "      <th>DelinquenciesLast7Years</th>\n",
       "      <th>CurrentDelinquencies</th>\n",
       "      <th>OnTimeProsperPayments</th>\n",
       "      <th>ScorexChangeAtTimeOfListing</th>\n",
       "    </tr>\n",
       "  </thead>\n",
       "  <tbody>\n",
       "    <tr>\n",
       "      <th>31266</th>\n",
       "      <td>0.0</td>\n",
       "      <td>14.0</td>\n",
       "      <td>36</td>\n",
       "      <td>296.0</td>\n",
       "      <td>3672.166667</td>\n",
       "      <td>NaN</td>\n",
       "      <td>0.51</td>\n",
       "      <td>NaN</td>\n",
       "      <td>7</td>\n",
       "      <td>5.0</td>\n",
       "      <td>0.0</td>\n",
       "      <td>NaN</td>\n",
       "      <td>NaN</td>\n",
       "    </tr>\n",
       "    <tr>\n",
       "      <th>94705</th>\n",
       "      <td>1.0</td>\n",
       "      <td>15.0</td>\n",
       "      <td>36</td>\n",
       "      <td>311.0</td>\n",
       "      <td>3814.250000</td>\n",
       "      <td>1.0</td>\n",
       "      <td>0.33</td>\n",
       "      <td>0.0</td>\n",
       "      <td>7</td>\n",
       "      <td>5.0</td>\n",
       "      <td>0.0</td>\n",
       "      <td>14.0</td>\n",
       "      <td>52.0</td>\n",
       "    </tr>\n",
       "  </tbody>\n",
       "</table>\n",
       "</div>"
      ],
      "text/plain": [
       "       TotalProsperLoans  CurrentCreditLines  Term  EmploymentStatusDuration  \\\n",
       "31266                0.0                14.0    36                     296.0   \n",
       "94705                1.0                15.0    36                     311.0   \n",
       "\n",
       "       StatedMonthlyIncome  ProsperPaymentsLessThanOneMonthLate  \\\n",
       "31266          3672.166667                                  NaN   \n",
       "94705          3814.250000                                  1.0   \n",
       "\n",
       "       DebtToIncomeRatio  ProsperPaymentsOneMonthPlusLate  \\\n",
       "31266               0.51                              NaN   \n",
       "94705               0.33                              0.0   \n",
       "\n",
       "       ListingCategory (numeric)  DelinquenciesLast7Years  \\\n",
       "31266                          7                      5.0   \n",
       "94705                          7                      5.0   \n",
       "\n",
       "       CurrentDelinquencies  OnTimeProsperPayments  \\\n",
       "31266                   0.0                    NaN   \n",
       "94705                   0.0                   14.0   \n",
       "\n",
       "       ScorexChangeAtTimeOfListing  \n",
       "31266                          NaN  \n",
       "94705                         52.0  "
      ]
     },
     "execution_count": 135,
     "metadata": {},
     "output_type": "execute_result"
    }
   ],
   "source": [
    "t = loans.query(\"MemberKey=='B4A9342073073199748BAF2'\")[['TotalProsperLoans', \n",
    "'CurrentCreditLines', 'Term', 'EmploymentStatusDuration', 'StatedMonthlyIncome', 'ProsperPaymentsLessThanOneMonthLate',\n",
    "'DebtToIncomeRatio','ProsperPaymentsOneMonthPlusLate', 'ListingCategory (numeric)',\n",
    "'DelinquenciesLast7Years', 'CurrentDelinquencies', 'OnTimeProsperPayments', 'ScorexChangeAtTimeOfListing']]\n",
    "t.TotalProsperLoans = t.TotalProsperLoans.fillna(0)\n",
    "t.sort_values('TotalProsperLoans')"
   ]
  },
  {
   "cell_type": "code",
   "execution_count": 137,
   "metadata": {},
   "outputs": [
    {
     "data": {
      "text/html": [
       "<div>\n",
       "<style scoped>\n",
       "    .dataframe tbody tr th:only-of-type {\n",
       "        vertical-align: middle;\n",
       "    }\n",
       "\n",
       "    .dataframe tbody tr th {\n",
       "        vertical-align: top;\n",
       "    }\n",
       "\n",
       "    .dataframe thead th {\n",
       "        text-align: right;\n",
       "    }\n",
       "</style>\n",
       "<table border=\"1\" class=\"dataframe\">\n",
       "  <thead>\n",
       "    <tr style=\"text-align: right;\">\n",
       "      <th></th>\n",
       "      <th>TotalProsperLoans</th>\n",
       "      <th>IncomeRange</th>\n",
       "      <th>CreditScoreRangeLower</th>\n",
       "      <th>CreditScoreRangeUpper</th>\n",
       "      <th>BankcardUtilization</th>\n",
       "      <th>AvailableBankcardCredit</th>\n",
       "      <th>DateCreditPulled</th>\n",
       "      <th>OpenRevolvingAccounts</th>\n",
       "    </tr>\n",
       "  </thead>\n",
       "  <tbody>\n",
       "    <tr>\n",
       "      <th>31266</th>\n",
       "      <td>0.0</td>\n",
       "      <td>$25,000-49,999</td>\n",
       "      <td>620.0</td>\n",
       "      <td>639.0</td>\n",
       "      <td>1.09</td>\n",
       "      <td>0.0</td>\n",
       "      <td>2008-07-04 19:12:04.890</td>\n",
       "      <td>7</td>\n",
       "    </tr>\n",
       "    <tr>\n",
       "      <th>94705</th>\n",
       "      <td>1.0</td>\n",
       "      <td>$25,000-49,999</td>\n",
       "      <td>680.0</td>\n",
       "      <td>699.0</td>\n",
       "      <td>0.00</td>\n",
       "      <td>0.0</td>\n",
       "      <td>2009-10-02 22:44:06.000</td>\n",
       "      <td>4</td>\n",
       "    </tr>\n",
       "  </tbody>\n",
       "</table>\n",
       "</div>"
      ],
      "text/plain": [
       "       TotalProsperLoans     IncomeRange  CreditScoreRangeLower  \\\n",
       "31266                0.0  $25,000-49,999                  620.0   \n",
       "94705                1.0  $25,000-49,999                  680.0   \n",
       "\n",
       "       CreditScoreRangeUpper  BankcardUtilization  AvailableBankcardCredit  \\\n",
       "31266                  639.0                 1.09                      0.0   \n",
       "94705                  699.0                 0.00                      0.0   \n",
       "\n",
       "             DateCreditPulled  OpenRevolvingAccounts  \n",
       "31266 2008-07-04 19:12:04.890                      7  \n",
       "94705 2009-10-02 22:44:06.000                      4  "
      ]
     },
     "execution_count": 137,
     "metadata": {},
     "output_type": "execute_result"
    }
   ],
   "source": [
    "t = loans.query(\"MemberKey=='B4A9342073073199748BAF2'\")[['TotalProsperLoans', 'IncomeRange','CreditScoreRangeLower', \n",
    "'CreditScoreRangeUpper', 'BankcardUtilization', 'AvailableBankcardCredit', 'DateCreditPulled', 'OpenRevolvingAccounts']]\n",
    "t.TotalProsperLoans = t.TotalProsperLoans.fillna(0)\n",
    "t.sort_values('TotalProsperLoans')"
   ]
  },
  {
   "cell_type": "markdown",
   "metadata": {},
   "source": []
  },
  {
   "cell_type": "code",
   "execution_count": 149,
   "metadata": {},
   "outputs": [
    {
     "data": {
      "text/html": [
       "<div>\n",
       "<style scoped>\n",
       "    .dataframe tbody tr th:only-of-type {\n",
       "        vertical-align: middle;\n",
       "    }\n",
       "\n",
       "    .dataframe tbody tr th {\n",
       "        vertical-align: top;\n",
       "    }\n",
       "\n",
       "    .dataframe thead th {\n",
       "        text-align: right;\n",
       "    }\n",
       "</style>\n",
       "<table border=\"1\" class=\"dataframe\">\n",
       "  <thead>\n",
       "    <tr style=\"text-align: right;\">\n",
       "      <th></th>\n",
       "      <th>LP_ServiceFees</th>\n",
       "      <th>BorrowerAPR</th>\n",
       "    </tr>\n",
       "  </thead>\n",
       "  <tbody>\n",
       "    <tr>\n",
       "      <th>LP_ServiceFees</th>\n",
       "      <td>1.000000</td>\n",
       "      <td>0.116974</td>\n",
       "    </tr>\n",
       "    <tr>\n",
       "      <th>BorrowerAPR</th>\n",
       "      <td>0.116974</td>\n",
       "      <td>1.000000</td>\n",
       "    </tr>\n",
       "  </tbody>\n",
       "</table>\n",
       "</div>"
      ],
      "text/plain": [
       "                LP_ServiceFees  BorrowerAPR\n",
       "LP_ServiceFees        1.000000     0.116974\n",
       "BorrowerAPR           0.116974     1.000000"
      ]
     },
     "execution_count": 149,
     "metadata": {},
     "output_type": "execute_result"
    }
   ],
   "source": [
    "loans[['LP_ServiceFees', 'BorrowerAPR']].corr()"
   ]
  },
  {
   "cell_type": "code",
   "execution_count": 239,
   "metadata": {},
   "outputs": [
    {
     "data": {
      "text/plain": [
       "62622    223F34092073539929E0D8A\n",
       "5933     5FD435461621855259AA648\n",
       "49785    BE6137035516830565061B6\n",
       "41996    61E13693705695406C5EF9B\n",
       "39580    90C3369475288990194B863\n",
       "Name: MemberKey, dtype: object"
      ]
     },
     "execution_count": 239,
     "metadata": {},
     "output_type": "execute_result"
    }
   ],
   "source": [
    "loans.query('LoanStatus == \"Current\"')['MemberKey'].sample(5)"
   ]
  },
  {
   "cell_type": "code",
   "execution_count": 3,
   "metadata": {},
   "outputs": [
    {
     "data": {
      "text/html": [
       "<div>\n",
       "<style scoped>\n",
       "    .dataframe tbody tr th:only-of-type {\n",
       "        vertical-align: middle;\n",
       "    }\n",
       "\n",
       "    .dataframe tbody tr th {\n",
       "        vertical-align: top;\n",
       "    }\n",
       "\n",
       "    .dataframe thead th {\n",
       "        text-align: right;\n",
       "    }\n",
       "</style>\n",
       "<table border=\"1\" class=\"dataframe\">\n",
       "  <thead>\n",
       "    <tr style=\"text-align: right;\">\n",
       "      <th></th>\n",
       "      <th>TotalProsperLoans</th>\n",
       "      <th>MemberKey</th>\n",
       "    </tr>\n",
       "  </thead>\n",
       "  <tbody>\n",
       "    <tr>\n",
       "      <th>1</th>\n",
       "      <td>NaN</td>\n",
       "      <td>1D13370546739025387B2F4</td>\n",
       "    </tr>\n",
       "    <tr>\n",
       "      <th>3</th>\n",
       "      <td>NaN</td>\n",
       "      <td>9ADE356069835475068C6D2</td>\n",
       "    </tr>\n",
       "    <tr>\n",
       "      <th>4</th>\n",
       "      <td>1.0</td>\n",
       "      <td>36CE356043264555721F06C</td>\n",
       "    </tr>\n",
       "    <tr>\n",
       "      <th>5</th>\n",
       "      <td>NaN</td>\n",
       "      <td>874A3701157341738DE458F</td>\n",
       "    </tr>\n",
       "    <tr>\n",
       "      <th>6</th>\n",
       "      <td>NaN</td>\n",
       "      <td>AA4535764146102879D5959</td>\n",
       "    </tr>\n",
       "    <tr>\n",
       "      <th>...</th>\n",
       "      <td>...</td>\n",
       "      <td>...</td>\n",
       "    </tr>\n",
       "    <tr>\n",
       "      <th>113930</th>\n",
       "      <td>1.0</td>\n",
       "      <td>89A735620041442181964DB</td>\n",
       "    </tr>\n",
       "    <tr>\n",
       "      <th>113931</th>\n",
       "      <td>NaN</td>\n",
       "      <td>FC303703545561711E2CDC9</td>\n",
       "    </tr>\n",
       "    <tr>\n",
       "      <th>113932</th>\n",
       "      <td>NaN</td>\n",
       "      <td>2EC435768441332602FDC15</td>\n",
       "    </tr>\n",
       "    <tr>\n",
       "      <th>113934</th>\n",
       "      <td>NaN</td>\n",
       "      <td>0FE0370029359765342FDB5</td>\n",
       "    </tr>\n",
       "    <tr>\n",
       "      <th>113936</th>\n",
       "      <td>NaN</td>\n",
       "      <td>CE1E3704648000761C9F724</td>\n",
       "    </tr>\n",
       "  </tbody>\n",
       "</table>\n",
       "<p>56576 rows × 2 columns</p>\n",
       "</div>"
      ],
      "text/plain": [
       "        TotalProsperLoans                MemberKey\n",
       "1                     NaN  1D13370546739025387B2F4\n",
       "3                     NaN  9ADE356069835475068C6D2\n",
       "4                     1.0  36CE356043264555721F06C\n",
       "5                     NaN  874A3701157341738DE458F\n",
       "6                     NaN  AA4535764146102879D5959\n",
       "...                   ...                      ...\n",
       "113930                1.0  89A735620041442181964DB\n",
       "113931                NaN  FC303703545561711E2CDC9\n",
       "113932                NaN  2EC435768441332602FDC15\n",
       "113934                NaN  0FE0370029359765342FDB5\n",
       "113936                NaN  CE1E3704648000761C9F724\n",
       "\n",
       "[56576 rows x 2 columns]"
      ]
     },
     "execution_count": 3,
     "metadata": {},
     "output_type": "execute_result"
    }
   ],
   "source": [
    "loans.query('(LoanStatus == \"Current\")')[['TotalProsperLoans', 'MemberKey']]"
   ]
  },
  {
   "cell_type": "code",
   "execution_count": 82,
   "metadata": {},
   "outputs": [
    {
     "data": {
      "text/plain": [
       "2014-03-10 12:20:53.760    1\n",
       "2014-03-10 11:28:06.920    1\n",
       "2014-03-10 10:25:51.877    1\n",
       "2014-03-10 07:33:30.033    1\n",
       "2014-03-10 06:47:15.370    1\n",
       "                          ..\n",
       "2014-01-01 06:52:36.703    1\n",
       "2014-01-01 06:50:20.193    1\n",
       "2014-01-01 06:35:30.343    1\n",
       "2014-01-01 06:15:19.590    1\n",
       "2014-01-01 05:27:29.967    1\n",
       "Name: ListingCreationDate, Length: 10485, dtype: int64"
      ]
     },
     "execution_count": 82,
     "metadata": {},
     "output_type": "execute_result"
    }
   ],
   "source": [
    "loans.query('ListingCreationDate >= \"2014-01-01\"')['ListingCreationDate'] + "
   ]
  },
  {
   "cell_type": "code",
   "execution_count": 80,
   "metadata": {},
   "outputs": [
    {
     "data": {
      "text/plain": [
       "0   2007-08-26 19:09:29.263\n",
       "1   2014-02-27 08:28:07.900\n",
       "2   2007-01-05 15:00:47.090\n",
       "3   2012-10-22 11:02:35.010\n",
       "4   2013-09-14 18:38:39.097\n",
       "Name: ListingCreationDate, dtype: datetime64[ns]"
      ]
     },
     "execution_count": 80,
     "metadata": {},
     "output_type": "execute_result"
    }
   ],
   "source": [
    "loans.ListingCreationDate.head()"
   ]
  },
  {
   "cell_type": "code",
   "execution_count": 127,
   "metadata": {},
   "outputs": [
    {
     "data": {
      "text/plain": [
       "2421    1\n",
       "2362    1\n",
       "2351    1\n",
       "2344    1\n",
       "2311    1\n",
       "       ..\n",
       "23      1\n",
       "18      1\n",
       "16      1\n",
       "3       1\n",
       "1       1\n",
       "Name: LoanCurrentDaysDelinquent, Length: 1278, dtype: int64"
      ]
     },
     "execution_count": 127,
     "metadata": {},
     "output_type": "execute_result"
    }
   ],
   "source": [
    "loans.query(\"LoanStatus == 'Defaulted'\")['LoanCurrentDaysDelinquent'].value_counts().sort_index(ascending=False)"
   ]
  },
  {
   "cell_type": "code",
   "execution_count": 133,
   "metadata": {},
   "outputs": [
    {
     "data": {
      "text/html": [
       "<div>\n",
       "<style scoped>\n",
       "    .dataframe tbody tr th:only-of-type {\n",
       "        vertical-align: middle;\n",
       "    }\n",
       "\n",
       "    .dataframe tbody tr th {\n",
       "        vertical-align: top;\n",
       "    }\n",
       "\n",
       "    .dataframe thead th {\n",
       "        text-align: right;\n",
       "    }\n",
       "</style>\n",
       "<table border=\"1\" class=\"dataframe\">\n",
       "  <thead>\n",
       "    <tr style=\"text-align: right;\">\n",
       "      <th></th>\n",
       "      <th>MemberKey</th>\n",
       "    </tr>\n",
       "  </thead>\n",
       "  <tbody>\n",
       "    <tr>\n",
       "      <th>94705</th>\n",
       "      <td>B4A9342073073199748BAF2</td>\n",
       "    </tr>\n",
       "  </tbody>\n",
       "</table>\n",
       "</div>"
      ],
      "text/plain": [
       "                     MemberKey\n",
       "94705  B4A9342073073199748BAF2"
      ]
     },
     "execution_count": 133,
     "metadata": {},
     "output_type": "execute_result"
    }
   ],
   "source": [
    "loans.query('LoanStatus == \"Defaulted\"').query('LoanCurrentDaysDelinquent==3')[['MemberKey']]"
   ]
  },
  {
   "cell_type": "code",
   "execution_count": 78,
   "metadata": {},
   "outputs": [
    {
     "data": {
      "image/png": "[encoded data removed]",
      "text/plain": [
       "<Figure size 1080x360 with 4 Axes>"
      ]
     },
     "metadata": {
      "needs_background": "light"
     },
     "output_type": "display_data"
    }
   ],
   "source": [
    "# the pearson-r coefficient of TotalProsperLoans and OnTimeProsperPayments grouped by Term\n",
    "\n",
    "term1 = data.query('Term==12')[['BorrowerAPR', 'EstimatedLoss']].corr()\n",
    "term2 = data.query('Term==36')[['BorrowerAPR', 'EstimatedLoss']].corr()\n",
    "term3 = data.query('Term==60')[['BorrowerAPR', 'EstimatedLoss']].corr()\n",
    "\n",
    "fig, axes = plt.subplots(1,3,figsize=(15,5), sharey=True)\n",
    "\n",
    "ax1 = sns.heatmap(data=term1, annot=True, fmt='.2f', cmap=\"Blues\",\n",
    "                      vmin=0, vmax=1, cbar=False, ax=axes[0])\n",
    "ax2 = sns.heatmap(data=term2, annot=True, fmt='.2f', cmap=\"Blues\", \n",
    "                      vmin=0, vmax=1, cbar=False, ax=axes[1])\n",
    "ax3 = sns.heatmap(data=term3, annot=True, fmt='.2f', cmap=\"Blues\",\n",
    "                      vmin=0, vmax=1, ax=axes[2])\n",
    "\n",
    "ax1.set_title(\"12 months term\")\n",
    "ax1.set_xticklabels(['BorrowerAPR', 'EstimatedLoss'], rotation=30)\n",
    "ax2.set_title(\"36 months term\")\n",
    "ax2.set_xticklabels(['BorrowerAPR', 'EstimatedLoss'], rotation=30)\n",
    "ax3.set_title(\"60 months term\")\n",
    "ax3.set_xticklabels(['BorrowerAPR', 'EstimatedLoss'], rotation=30)\n",
    "fig.suptitle(\"Heatmap showing relationship of number of on time payments and prior loans per loan term\")\n",
    "\n",
    "plt.show()"
   ]
  },
  {
   "cell_type": "markdown",
   "metadata": {},
   "source": [
    "The heatmap per loan terms confirms that there is a slight increase in the strength of the relationship of the number of on time payments and the number of prior loans. From these plots, it seems that borrowers that have prior loans are more likely to make on time payments as the term of the loan increases.\n",
    "\n",
    "In the bivariate section, the box plot of the annual percentage rates (APR) and the loan status reveals that borrowers with a higher APR are more likely to default or have their loans charged-off. Let's see if this is the trend for each loan term.\n",
    "\n",
    "##### Is there a trend in the relationship between the loan status and the annual percentage rates for each loan term?"
   ]
  },
  {
   "cell_type": "code",
   "execution_count": 75,
   "metadata": {},
   "outputs": [
    {
     "data": {
      "image/png": "[encoded data removed]",
      "text/plain": [
       "<Figure size 1080x360 with 3 Axes>"
      ]
     },
     "metadata": {
      "needs_background": "light"
     },
     "output_type": "display_data"
    }
   ],
   "source": [
    "# box plot of LoanStatus and BorrowerAPR faceted by Term\n",
    "\n",
    "g = sns.catplot(data=data, y='LoanStatus', x='BorrowerAPR', color=sns.color_palette()[0],\n",
    "                col='Term', kind='box' )\n",
    "\n",
    "g.figure.set_size_inches((15,5))\n",
    "\n",
    "g.set_xlabels(\"Annual percentage rate\")\n",
    "g.set_ylabels(\"Loan status\")\n",
    "g.set_titles(template='{col_name} months loan term')\n",
    "\n",
    "plt.show();"
   ]
  },
  {
   "cell_type": "markdown",
   "metadata": {},
   "source": [
    "The above plot shows that this seems to be the trend for each loan term. As we can see, borrowers that default or have their loans charged off have a much higher annual percentage rate compared to those that completed their loans.\n",
    "\n",
    "Also, in the bivariate section, the bar plot of the number of days delinquent on current loans and the loan status seem to show that the more the number of days a borrower is delinquent, the more likely they will default or have their loans charged-off. Let's see if this is a trend across each loan term.\n",
    "\n",
    "##### Is there a relationship between the number of days delinquent on current loans and the loan status for across each loan term?\n",
    "\n",
    "We will investigate this using a bar plot faceted by the loan term with the x-axis containing the mean number of days borrowers were delinquent, and the y-axis the loan status."
   ]
  },
  {
   "cell_type": "code",
   "execution_count": 76,
   "metadata": {},
   "outputs": [
    {
     "data": {
      "image/png": "[encoded data removed]",
      "text/plain": [
       "<Figure size 1080x360 with 3 Axes>"
      ]
     },
     "metadata": {
      "needs_background": "light"
     },
     "output_type": "display_data"
    }
   ],
   "source": [
    "# faceted plot of LoanCurrentDaysDelinquent and LoanStatus on Term\n",
    "\n",
    "g = sns.catplot(data=data, x='LoanCurrentDaysDelinquent', y='LoanStatus', col='Term',\n",
    "         palette='Blues', kind='bar')\n",
    "\n",
    "g.set_titles(template='{col_name} months term')\n",
    "g.set_xlabels('Avg. number of days delinquent on current loans')\n",
    "g.set_ylabels('Loan status')\n",
    "\n",
    "plt.show();"
   ]
  },
  {
   "cell_type": "markdown",
   "metadata": {},
   "source": [
    "The plot shows that this is a trend for each loan term."
   ]
  },
  {
   "cell_type": "markdown",
   "metadata": {},
   "source": [
    "### Talk about some of the relationships you observed in this part of the investigation. Were there features that strengthened each other in terms of looking at your feature(s) of interest?\n",
    "\n",
    "> Your answer here!\n",
    "\n",
    "### Were there any interesting or surprising interactions between features?\n",
    "\n",
    "> Your answer here!"
   ]
  },
  {
   "cell_type": "markdown",
   "metadata": {},
   "source": [
    "## Conclusions\n",
    ">You can write a summary of the main findings and reflect on the steps taken during the data exploration.\n"
   ]
  },
  {
   "cell_type": "markdown",
   "metadata": {},
   "source": [
    "\n",
    "> Remove all Tips mentioned above, before you convert this notebook to PDF/HTML\n",
    "\n",
    "\n",
    "> At the end of your report, make sure that you export the notebook as an\n",
    "html file from the `File > Download as... > HTML or PDF` menu. Make sure you keep\n",
    "track of where the exported file goes, so you can put it in the same folder\n",
    "as this notebook for project submission. Also, make sure you remove all of\n",
    "the quote-formatted guide notes like this one before you finish your report!\n",
    "\n"
   ]
  },
  {
   "cell_type": "code",
   "execution_count": null,
   "metadata": {},
   "outputs": [],
   "source": []
  }
 ],
 "metadata": {
  "kernelspec": {
   "display_name": "Python 3.9.12 ('test_work_space')",
   "language": "python",
   "name": "python3"
  },
  "language_info": {
   "codemirror_mode": {
    "name": "ipython",
    "version": 3
   },
   "file_extension": ".py",
   "mimetype": "text/x-python",
   "name": "python",
   "nbconvert_exporter": "python",
   "pygments_lexer": "ipython3",
   "version": "3.9.12"
  },
  "vscode": {
   "interpreter": {
    "hash": "de9deb8f9f07f5427760aa3970a9a9d98b5bb9b260947cc1dfafc6c02811c732"
   }
  }
 },
 "nbformat": 4,
 "nbformat_minor": 2
}
